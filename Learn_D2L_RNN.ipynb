{
  "nbformat": 4,
  "nbformat_minor": 0,
  "metadata": {
    "colab": {
      "name": "Learn_D2L_RNN.ipynb",
      "provenance": [],
      "collapsed_sections": [],
      "include_colab_link": true
    },
    "kernelspec": {
      "name": "python3",
      "display_name": "Python 3"
    },
    "accelerator": "GPU"
  },
  "cells": [
    {
      "cell_type": "markdown",
      "metadata": {
        "id": "view-in-github",
        "colab_type": "text"
      },
      "source": [
        "<a href=\"https://colab.research.google.com/github/xrjiang83/learn_d2l/blob/master/Learn_D2L_RNN.ipynb\" target=\"_parent\"><img src=\"https://colab.research.google.com/assets/colab-badge.svg\" alt=\"Open In Colab\"/></a>"
      ]
    },
    {
      "cell_type": "code",
      "metadata": {
        "id": "8JLKDOdaT8qx",
        "colab_type": "code",
        "colab": {
          "base_uri": "https://localhost:8080/",
          "height": 286
        },
        "outputId": "50be273b-6c08-4c48-d10f-5e7b39909ba8"
      },
      "source": [
        "!pip install mxnet-cu100"
      ],
      "execution_count": 1,
      "outputs": [
        {
          "output_type": "stream",
          "text": [
            "Collecting mxnet-cu100\n",
            "\u001b[?25l  Downloading https://files.pythonhosted.org/packages/3d/84/d098e0607ee6207448b6af65315f5d45946b49e4f48160eade6cdd64ce4e/mxnet_cu100-1.5.1.post0-py2.py3-none-manylinux1_x86_64.whl (540.1MB)\n",
            "\u001b[K     |████████████████████████████████| 540.1MB 27kB/s \n",
            "\u001b[?25hRequirement already satisfied: numpy<2.0.0,>1.16.0 in /usr/local/lib/python3.6/dist-packages (from mxnet-cu100) (1.17.3)\n",
            "Collecting graphviz<0.9.0,>=0.8.1\n",
            "  Downloading https://files.pythonhosted.org/packages/53/39/4ab213673844e0c004bed8a0781a0721a3f6bb23eb8854ee75c236428892/graphviz-0.8.4-py2.py3-none-any.whl\n",
            "Requirement already satisfied: requests<3,>=2.20.0 in /usr/local/lib/python3.6/dist-packages (from mxnet-cu100) (2.21.0)\n",
            "Requirement already satisfied: idna<2.9,>=2.5 in /usr/local/lib/python3.6/dist-packages (from requests<3,>=2.20.0->mxnet-cu100) (2.8)\n",
            "Requirement already satisfied: certifi>=2017.4.17 in /usr/local/lib/python3.6/dist-packages (from requests<3,>=2.20.0->mxnet-cu100) (2019.9.11)\n",
            "Requirement already satisfied: urllib3<1.25,>=1.21.1 in /usr/local/lib/python3.6/dist-packages (from requests<3,>=2.20.0->mxnet-cu100) (1.24.3)\n",
            "Requirement already satisfied: chardet<3.1.0,>=3.0.2 in /usr/local/lib/python3.6/dist-packages (from requests<3,>=2.20.0->mxnet-cu100) (3.0.4)\n",
            "Installing collected packages: graphviz, mxnet-cu100\n",
            "  Found existing installation: graphviz 0.10.1\n",
            "    Uninstalling graphviz-0.10.1:\n",
            "      Successfully uninstalled graphviz-0.10.1\n",
            "Successfully installed graphviz-0.8.4 mxnet-cu100-1.5.1.post0\n"
          ],
          "name": "stdout"
        }
      ]
    },
    {
      "cell_type": "code",
      "metadata": {
        "id": "q7The9K9UIMF",
        "colab_type": "code",
        "colab": {
          "base_uri": "https://localhost:8080/",
          "height": 353
        },
        "outputId": "53de9c28-0c6d-4a6a-bf8d-91b6e83a1c0c"
      },
      "source": [
        "import mxnet\n",
        "from mxnet import nd\n",
        "\n",
        "X = nd.shuffle(nd.arange(10)).reshape((2,5)) # batch_size = 2, num_steps = 5\n",
        "for x in X.T : # 每一個step生成一個one-hot向量\n",
        "  one_hot = nd.one_hot(x, 10)\n",
        "  print(one_hot)\n",
        "\n",
        "#inputs = to_onehoe()"
      ],
      "execution_count": 15,
      "outputs": [
        {
          "output_type": "stream",
          "text": [
            "\n",
            "[[0. 0. 0. 0. 0. 0. 0. 1. 0. 0.]\n",
            " [0. 0. 0. 1. 0. 0. 0. 0. 0. 0.]]\n",
            "<NDArray 2x10 @cpu(0)>\n",
            "\n",
            "[[0. 0. 0. 0. 0. 1. 0. 0. 0. 0.]\n",
            " [0. 0. 0. 0. 0. 0. 1. 0. 0. 0.]]\n",
            "<NDArray 2x10 @cpu(0)>\n",
            "\n",
            "[[0. 0. 0. 0. 0. 0. 0. 0. 0. 1.]\n",
            " [1. 0. 0. 0. 0. 0. 0. 0. 0. 0.]]\n",
            "<NDArray 2x10 @cpu(0)>\n",
            "\n",
            "[[0. 0. 1. 0. 0. 0. 0. 0. 0. 0.]\n",
            " [0. 0. 0. 0. 0. 0. 0. 0. 1. 0.]]\n",
            "<NDArray 2x10 @cpu(0)>\n",
            "\n",
            "[[0. 1. 0. 0. 0. 0. 0. 0. 0. 0.]\n",
            " [0. 0. 0. 0. 1. 0. 0. 0. 0. 0.]]\n",
            "<NDArray 2x10 @cpu(0)>\n"
          ],
          "name": "stdout"
        }
      ]
    },
    {
      "cell_type": "code",
      "metadata": {
        "id": "3L_6W9efbnnt",
        "colab_type": "code",
        "colab": {
          "base_uri": "https://localhost:8080/",
          "height": 252
        },
        "outputId": "6dd2e788-b49a-428c-b487-24ab4ae9c104"
      },
      "source": [
        "# 从Github下载周杰伦歌词文件\n",
        "!pip install svn"
      ],
      "execution_count": 20,
      "outputs": [
        {
          "output_type": "stream",
          "text": [
            "Collecting svn\n",
            "  Downloading https://files.pythonhosted.org/packages/a1/e7/79a64af11e5d2a1e0996e1e2ce781e297ce711d9835fbe37b43dd6134343/svn-0.3.46.tar.gz\n",
            "Requirement already satisfied: python-dateutil>=2.2 in /usr/local/lib/python3.6/dist-packages (from svn) (2.6.1)\n",
            "Collecting nose\n",
            "\u001b[?25l  Downloading https://files.pythonhosted.org/packages/15/d8/dd071918c040f50fa1cf80da16423af51ff8ce4a0f2399b7bf8de45ac3d9/nose-1.3.7-py3-none-any.whl (154kB)\n",
            "\u001b[K     |████████████████████████████████| 163kB 7.2MB/s \n",
            "\u001b[?25hRequirement already satisfied: six>=1.5 in /usr/local/lib/python3.6/dist-packages (from python-dateutil>=2.2->svn) (1.12.0)\n",
            "Building wheels for collected packages: svn\n",
            "  Building wheel for svn (setup.py) ... \u001b[?25l\u001b[?25hdone\n",
            "  Created wheel for svn: filename=svn-0.3.46-py2.py3-none-any.whl size=14756 sha256=82b09ec1e13c5ab7f185b8678aa6e5830fa9d8d9049913d9e96c6c56b13339e0\n",
            "  Stored in directory: /root/.cache/pip/wheels/34/42/01/edad385df195a2e01f0743cb078335abfa9e6b53e476b3feda\n",
            "Successfully built svn\n",
            "Installing collected packages: nose, svn\n",
            "Successfully installed nose-1.3.7 svn-0.3.46\n"
          ],
          "name": "stdout"
        }
      ]
    },
    {
      "cell_type": "code",
      "metadata": {
        "id": "JI17FtjndU9x",
        "colab_type": "code",
        "colab": {
          "base_uri": "https://localhost:8080/",
          "height": 34
        },
        "outputId": "a5894878-6d9a-4850-aac8-fb761b4f88c7"
      },
      "source": [
        "!/usr/local/bin/svn --version"
      ],
      "execution_count": 23,
      "outputs": [
        {
          "output_type": "stream",
          "text": [
            "/bin/bash: /usr/local/bin/svn: No such file or directory\n"
          ],
          "name": "stdout"
        }
      ]
    },
    {
      "cell_type": "code",
      "metadata": {
        "id": "OX4cYrmFdH6L",
        "colab_type": "code",
        "colab": {
          "base_uri": "https://localhost:8080/",
          "height": 118
        },
        "outputId": "8a7630ed-5faf-419b-9742-156b86cfdb42"
      },
      "source": [
        "# 从Github下载周杰伦歌词文件\n",
        "!git clone https://github.com/xrjiang83/d2lzh_data.git"
      ],
      "execution_count": 25,
      "outputs": [
        {
          "output_type": "stream",
          "text": [
            "Cloning into 'd2lzh_data'...\n",
            "remote: Enumerating objects: 31, done.\u001b[K\n",
            "remote: Counting objects: 100% (31/31), done.\u001b[K\n",
            "remote: Compressing objects: 100% (28/28), done.\u001b[K\n",
            "remote: Total 31 (delta 8), reused 0 (delta 0), pack-reused 0\u001b[K\n",
            "Unpacking objects: 100% (31/31), done.\n"
          ],
          "name": "stdout"
        }
      ]
    },
    {
      "cell_type": "code",
      "metadata": {
        "id": "JYa95E6shclf",
        "colab_type": "code",
        "colab": {
          "base_uri": "https://localhost:8080/",
          "height": 67
        },
        "outputId": "18702a81-0aeb-4e85-fddc-8c5f44e70237"
      },
      "source": [
        "!ls d2lzh_data\n"
      ],
      "execution_count": 32,
      "outputs": [
        {
          "output_type": "stream",
          "text": [
            "airfoil_self_noise.dat\tkaggle_cifar10\t\t    kaggle_house_pred_train.csv\n",
            "fr-en-small.txt\t\tkaggle_dog\t\t    ptb.zip\n",
            "jaychou_lyrics.txt.zip\tkaggle_house_pred_test.csv\n"
          ],
          "name": "stdout"
        }
      ]
    },
    {
      "cell_type": "code",
      "metadata": {
        "id": "9ee9s0A7bP4L",
        "colab_type": "code",
        "colab": {
          "base_uri": "https://localhost:8080/",
          "height": 34
        },
        "outputId": "7534ca87-67df-4ecc-9dc7-70f75a6567ed"
      },
      "source": [
        "# 读取数据集\n",
        "from mxnet import nd\n",
        "import random\n",
        "import zipfile\n",
        "\n",
        "with zipfile.ZipFile('d2lzh_data/jaychou_lyrics.txt.zip') as zin :\n",
        "  with zin.open('jaychou_lyrics.txt') as f :\n",
        "    corpus_chars = f.read().decode('utf-8')\n",
        "\n",
        "corpus_chars[0:40]"
      ],
      "execution_count": 33,
      "outputs": [
        {
          "output_type": "execute_result",
          "data": {
            "text/plain": [
              "'想要有直升机\\n想要和你飞到宇宙去\\n想要和你融化在一起\\n融化在宇宙里\\n我每天每天每'"
            ]
          },
          "metadata": {
            "tags": []
          },
          "execution_count": 33
        }
      ]
    },
    {
      "cell_type": "code",
      "metadata": {
        "id": "VkBmyHLrhzz9",
        "colab_type": "code",
        "colab": {
          "base_uri": "https://localhost:8080/",
          "height": 67
        },
        "outputId": "1dbb4e03-11ab-4ddb-d30f-3629c0caec65"
      },
      "source": [
        "# 把训练集中的回车换行全部换成空格\n",
        "corpus_chars = corpus_chars.replace('\\n', ' ').replace('\\r', ' ')\n",
        "\n",
        "# 建立字符索引\n",
        "idx_to_char = list(set(corpus_chars)) # 词典数组\n",
        "char_to_idx = dict([(char, i) for i, char in enumerate(idx_to_char)])\n",
        "vocab_size = len(char_to_idx)\n",
        "print(len(idx_to_char), len(char_to_idx))\n",
        "\n",
        "# 将训练数据集中每个字符转化为索引，并打印钱20个字符及其对应的索引\n",
        "corpus_indices = [char_to_idx[char] for char in corpus_chars]\n",
        "sample = corpus_indices[:20]\n",
        "print('chars:', ''.join([idx_to_char[idx] for idx in sample]))\n",
        "print('indices:', sample)\n"
      ],
      "execution_count": 38,
      "outputs": [
        {
          "output_type": "stream",
          "text": [
            "2582 2582\n",
            "chars: 想要有直升机 想要和你飞到宇宙去 想要和\n",
            "indices: [1694, 378, 623, 1519, 1124, 1321, 814, 1694, 378, 198, 1159, 1226, 2321, 577, 1191, 1736, 814, 1694, 378, 198]\n"
          ],
          "name": "stdout"
        }
      ]
    },
    {
      "cell_type": "code",
      "metadata": {
        "id": "C1SuPyASY_Df",
        "colab_type": "code",
        "colab": {
          "base_uri": "https://localhost:8080/",
          "height": 34
        },
        "outputId": "aca88dc0-fa92-4f30-9e3e-72a43443a77d"
      },
      "source": [
        "# 给定一个输入小批量的字符索引序列：X - batch_size x num_steps\n",
        "# 生成该每一个时间步下该小批量的one-hot特征向量：XO - num_steps x (batch_size x vocab_size)\n",
        "def to_onehot(X, size) : \n",
        "  return [nd.one_hot(x, size) for x in X.T]\n",
        "\n",
        "X = nd.arange(10).reshape((2,5))\n",
        "inputs = to_onehot(X, 50)\n",
        "len(inputs), inputs[0].shape"
      ],
      "execution_count": 40,
      "outputs": [
        {
          "output_type": "execute_result",
          "data": {
            "text/plain": [
              "(5, (2, 50))"
            ]
          },
          "metadata": {
            "tags": []
          },
          "execution_count": 40
        }
      ]
    },
    {
      "cell_type": "code",
      "metadata": {
        "id": "y0Sb2Xfxj327",
        "colab_type": "code",
        "colab": {
          "base_uri": "https://localhost:8080/",
          "height": 286
        },
        "outputId": "57a13028-61ef-4945-b46f-53dff58f4989"
      },
      "source": [
        "# 随机采样函数，返回\n",
        "def data_iter_random(corpus_indices, batch_size, num_steps, ctx=None) : \n",
        "  # 减1是因为输出的索引是相应输入索引加1：考虑到RNN用来预测下一个字，所以最后一个字不作为输入，只作为训练时的预测输出\n",
        "  num_examples = (len(corpus_indices) - 1) // num_steps  # 每一时间步序列作为一个样本（实例）\n",
        "  epoch_size = num_examples // batch_size  # 每一个小批量里含若干个样本（实例）\n",
        "  example_indices = list(range(num_examples))\n",
        "  random.shuffle(example_indices)\n",
        "\n",
        "  # 返回从pos开始长度为num_steps的序列\n",
        "  def _data(pos) : \n",
        "    return corpus_indices[pos : pos + num_steps]\n",
        "  \n",
        "  for i in range(epoch_size) : # 生成这么多组小批量\n",
        "    # 每次读取batch_size个随机样本\n",
        "    i = i * batch_size\n",
        "    batch_indices = example_indices[i : i + batch_size]\n",
        "    X = [_data(j * num_steps) for j in batch_indices]\n",
        "    Y = [_data(j * num_steps + 1) for j in batch_indices]\n",
        "    yield nd.array(X, ctx), nd.array(Y, ctx)\n",
        "\n",
        "my_seq = list(range(30))\n",
        "for X, Y in data_iter_random(my_seq, batch_size=2, num_steps=6) : \n",
        "  print('X:', X, '\\nY:', Y)\n"
      ],
      "execution_count": 44,
      "outputs": [
        {
          "output_type": "stream",
          "text": [
            "X: \n",
            "[[ 0.  1.  2.  3.  4.  5.]\n",
            " [12. 13. 14. 15. 16. 17.]]\n",
            "<NDArray 2x6 @cpu(0)> \n",
            "Y: \n",
            "[[ 1.  2.  3.  4.  5.  6.]\n",
            " [13. 14. 15. 16. 17. 18.]]\n",
            "<NDArray 2x6 @cpu(0)>\n",
            "X: \n",
            "[[ 6.  7.  8.  9. 10. 11.]\n",
            " [18. 19. 20. 21. 22. 23.]]\n",
            "<NDArray 2x6 @cpu(0)> \n",
            "Y: \n",
            "[[ 7.  8.  9. 10. 11. 12.]\n",
            " [19. 20. 21. 22. 23. 24.]]\n",
            "<NDArray 2x6 @cpu(0)>\n"
          ],
          "name": "stdout"
        }
      ]
    },
    {
      "cell_type": "code",
      "metadata": {
        "id": "giJMQnPdbECT",
        "colab_type": "code",
        "colab": {
          "base_uri": "https://localhost:8080/",
          "height": 34
        },
        "outputId": "f11314be-b4d6-46d9-a1d8-e0d3be7a4864"
      },
      "source": [
        "def try_gpu() : \n",
        "  try: \n",
        "    ctx = mxnet.gpu()\n",
        "    _ = nd.zeros((1,), ctx=ctx)\n",
        "  except mxnet.base.MXNetError: \n",
        "    ctx = mxnet.cpu()\n",
        "  return ctx\n",
        "\n",
        "ctx = try_gpu()\n",
        "ctx\n"
      ],
      "execution_count": 47,
      "outputs": [
        {
          "output_type": "execute_result",
          "data": {
            "text/plain": [
              "gpu(0)"
            ]
          },
          "metadata": {
            "tags": []
          },
          "execution_count": 47
        }
      ]
    },
    {
      "cell_type": "code",
      "metadata": {
        "id": "kRIZkbCxoLHJ",
        "colab_type": "code",
        "colab": {
          "base_uri": "https://localhost:8080/",
          "height": 50
        },
        "outputId": "004e97e0-0adc-44e0-e8f0-91ac04599d74"
      },
      "source": [
        "# 初始化模型参数\n",
        "num_inputs, num_hiddens, num_outputs = vocab_size, 256, vocab_size\n",
        "ctx = try_gpu()\n",
        "print('will use', ctx)\n",
        "\n",
        "def get_params() : \n",
        "  def _one(shape) : \n",
        "    return nd.random.normal(scale=0.01, shape=shape, ctx=ctx)\n",
        "\n",
        "  # 隐藏层参数\n",
        "  W_xh = _one((num_inputs, num_hiddens))\n",
        "  W_hh = _one((num_hiddens, num_hiddens))\n",
        "  b_h = nd.zeros(num_hiddens, ctx=ctx)\n",
        "  # 输出层参数\n",
        "  W_hq = _one((num_hiddens, num_outputs))\n",
        "  b_q = nd.zeros(num_outputs, ctx=ctx)\n",
        "  # 附上梯度\n",
        "  params = [W_xh, W_hh, b_h, W_hq, b_q]\n",
        "  for param in params :\n",
        "    param.attach_grad()\n",
        "  return params\n",
        "\n",
        "# 定义模型\n",
        "def init_rnn_state(batch_size, num_hiddens, ctx) : \n",
        "  return nd.zeros(shape=(batch_size, num_hiddens), ctx=ctx)\n",
        "\n",
        "# 在一个时间步长内计算隐藏状态和输出\n",
        "def rnn(inputs, states, params) : \n",
        "  # inputs为num_steps个batch_size x vocab_size的（输入）特征矩阵；outputs也是一样的形状\n",
        "  # states是batch_size x num_hiddens维的隐含状态向量\n",
        "  W_xh, W_hh, b_h, W_hq, b_q = params\n",
        "  H = states\n",
        "  outputs = []\n",
        "  for X in inputs : # 一个时间步上的输入特征矩阵（矩阵：因为有batch_size个向量堆叠而成）\n",
        "    H = nd.tanh(nd.dot(X, W_xh) + nd.dot(H, W_hh) + b_h)\n",
        "    Y = nd.dot(H, W_hq) + b_q\n",
        "    outputs.append(Y)\n",
        "  return outputs, H\n",
        "\n",
        "# 测试rnn函数\n",
        "states = init_rnn_state(X.shape[0], num_hiddens, ctx)  # X.shape[0]: batch_size\n",
        "inputs = to_onehot(X.as_in_context(ctx), vocab_size)\n",
        "params = get_params()\n",
        "outputs, states_new = rnn(inputs, states, params)\n",
        "len(outputs), outputs[0].shape, states_new[0].shape\n"
      ],
      "execution_count": 53,
      "outputs": [
        {
          "output_type": "stream",
          "text": [
            "will use gpu(0)\n"
          ],
          "name": "stdout"
        },
        {
          "output_type": "execute_result",
          "data": {
            "text/plain": [
              "(6, (2, 2582), (256,))"
            ]
          },
          "metadata": {
            "tags": []
          },
          "execution_count": 53
        }
      ]
    },
    {
      "cell_type": "code",
      "metadata": {
        "id": "5q7R1lNntuLk",
        "colab_type": "code",
        "colab": {}
      },
      "source": [
        "# 定义预测函数\n",
        "def predict_simple_rnn(prefix, num_chars, rnn, params, init_rnn_state, num_hiddens, vocab_size, ctx, idx_to_char, char_to_idx) : \n",
        "  # prefix是输入字符串\n",
        "  states = init_rnn_state(1, num_hiddens, ctx)\n",
        "  output = [char_to_idx[prefix[0]]] # 输入字符的索引\n",
        "  for t in range(num_chars + len(prefix) - 1) : \n",
        "    # 将上一时间步的输出作为当前时间步的输入\n",
        "    X = to_onehot(nd.array([output[-1]], ctx=ctx), vocab_size)\n",
        "    # 计算输出和更新隐藏状态\n",
        "    Y, states = rnn(X, states, params)\n",
        "    #\n",
        "    if t < len(prefix) - 1 : #下一个时间步的输入是prefix中的字符\n",
        "      output.append(char_to_idx[prefix[t+1]])\n",
        "    else : # 下一个时间步的输入是当前的最佳预测字符\n",
        "      output.append(int(Y[0].argmax(axis=1).asscalar()))\n",
        "  return ''.join([idx_to_char[i] for i in output])"
      ],
      "execution_count": 0,
      "outputs": []
    },
    {
      "cell_type": "code",
      "metadata": {
        "id": "VuGTgHZaulW8",
        "colab_type": "code",
        "colab": {
          "base_uri": "https://localhost:8080/",
          "height": 54
        },
        "outputId": "c9a27336-3619-42ae-b948-d07db2203a58"
      },
      "source": [
        "# 测试简单RNN\n",
        "predict_simple_rnn('分开', 100, rnn, params, init_rnn_state, num_hiddens, vocab_size, ctx, idx_to_char, char_to_idx)\n"
      ],
      "execution_count": 60,
      "outputs": [
        {
          "output_type": "execute_result",
          "data": {
            "text/plain": [
              "'分开珠灰厅男嘆视醇瑚仓虹迭毅钮右撑弱洒仙約腰叛狱典符倒千压祷苔灭性鍵底楔副左铜窑颓應押四汗跑脂削邦蒙厉供备痹箭谢粥四汗跑脂削邦蒙厉供备痹箭谢粥四汗跑脂削邦蒙厉供备痹箭谢粥四汗跑脂削邦蒙厉供备痹箭谢粥四汗跑'"
            ]
          },
          "metadata": {
            "tags": []
          },
          "execution_count": 60
        }
      ]
    },
    {
      "cell_type": "code",
      "metadata": {
        "id": "h-jJHN7OwIVm",
        "colab_type": "code",
        "colab": {}
      },
      "source": [
        "# 定义模型训练函数\n",
        "def train_and_predict_simple_rnn(rnn, get_params, init_rnn_state, num_hiddens, vocab_size, ctx, corpus_indices, idx_to_char, char_to_idx, char_to_idx, is_random_iter, num_epochs, num_steps, lr, )"
      ],
      "execution_count": 0,
      "outputs": []
    }
  ]
}