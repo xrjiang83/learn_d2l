{
  "nbformat": 4,
  "nbformat_minor": 0,
  "metadata": {
    "colab": {
      "name": "Learn_D2L_Basics.ipynb",
      "provenance": [],
      "collapsed_sections": [],
      "include_colab_link": true
    },
    "kernelspec": {
      "name": "python3",
      "display_name": "Python 3"
    }
  },
  "cells": [
    {
      "cell_type": "markdown",
      "metadata": {
        "id": "view-in-github",
        "colab_type": "text"
      },
      "source": [
        "<a href=\"https://colab.research.google.com/github/xrjiang83/learn_d2l/blob/master/Learn_D2L_Basics.ipynb\" target=\"_parent\"><img src=\"https://colab.research.google.com/assets/colab-badge.svg\" alt=\"Open In Colab\"/></a>"
      ]
    },
    {
      "cell_type": "code",
      "metadata": {
        "id": "fkj2Q6NY2YXZ",
        "colab_type": "code",
        "colab": {
          "base_uri": "https://localhost:8080/",
          "height": 151
        },
        "outputId": "b9614227-fe49-4602-ce1f-ff9bb6fae9b1"
      },
      "source": [
        "!pip install mxnet"
      ],
      "execution_count": 1,
      "outputs": [
        {
          "output_type": "stream",
          "text": [
            "Requirement already satisfied: mxnet in /usr/local/lib/python3.6/dist-packages (1.5.1.post0)\n",
            "Requirement already satisfied: graphviz<0.9.0,>=0.8.1 in /usr/local/lib/python3.6/dist-packages (from mxnet) (0.8.4)\n",
            "Requirement already satisfied: numpy<2.0.0,>1.16.0 in /usr/local/lib/python3.6/dist-packages (from mxnet) (1.17.3)\n",
            "Requirement already satisfied: requests<3,>=2.20.0 in /usr/local/lib/python3.6/dist-packages (from mxnet) (2.21.0)\n",
            "Requirement already satisfied: idna<2.9,>=2.5 in /usr/local/lib/python3.6/dist-packages (from requests<3,>=2.20.0->mxnet) (2.8)\n",
            "Requirement already satisfied: certifi>=2017.4.17 in /usr/local/lib/python3.6/dist-packages (from requests<3,>=2.20.0->mxnet) (2019.9.11)\n",
            "Requirement already satisfied: chardet<3.1.0,>=3.0.2 in /usr/local/lib/python3.6/dist-packages (from requests<3,>=2.20.0->mxnet) (3.0.4)\n",
            "Requirement already satisfied: urllib3<1.25,>=1.21.1 in /usr/local/lib/python3.6/dist-packages (from requests<3,>=2.20.0->mxnet) (1.24.3)\n"
          ],
          "name": "stdout"
        }
      ]
    },
    {
      "cell_type": "code",
      "metadata": {
        "id": "GBuBNDS6-A_1",
        "colab_type": "code",
        "outputId": "9bb89a3f-a41e-44d9-f99f-de8068e50433",
        "colab": {
          "base_uri": "https://localhost:8080/",
          "height": 50
        }
      },
      "source": [
        "from mxnet import nd\n",
        "from time import time\n",
        "a = nd.ones(shape=1000)\n",
        "b = nd.ones(shape=1000)\n",
        "c = nd.zeros(shape=1000)\n",
        "start1 = time()\n",
        "for i in range(1000) : \n",
        "  c[i] = a[i] + b[i]\n",
        "print(time() - start1)\n",
        "start2 = time()\n",
        "d = a + b\n",
        "print(time() - start2)"
      ],
      "execution_count": 2,
      "outputs": [
        {
          "output_type": "stream",
          "text": [
            "0.16320085525512695\n",
            "0.0006098747253417969\n"
          ],
          "name": "stdout"
        }
      ]
    },
    {
      "cell_type": "code",
      "metadata": {
        "id": "gOzNq7-2vse7",
        "colab_type": "code",
        "colab": {}
      },
      "source": [
        "from IPython import display\n",
        "from matplotlib import pyplot as plt\n",
        "from mxnet import autograd, nd\n",
        "import random\n",
        "# randomly generate a dataset\n",
        "num_inputs = 2\n",
        "num_examples = 1000\n",
        "true_w = [2, -3.4]\n",
        "true_b = 4.2\n",
        "features = nd.random.normal(scale=1, shape=(num_examples, num_inputs))\n",
        "labels = true_w[0] * features[:,0] + true_w[1] * features[:,1] + true_b\n",
        "labels += nd.random.normal(scale=0.01, shape=labels.shape)"
      ],
      "execution_count": 0,
      "outputs": []
    },
    {
      "cell_type": "code",
      "metadata": {
        "id": "SarjJ9IDwhc6",
        "colab_type": "code",
        "colab": {}
      },
      "source": [
        "def use_svg_display() : \n",
        "  display.set_matplotlib_formats('svg')\n",
        "\n",
        "def set_figsize(figsize=(3.5, 2.5)) : \n",
        "  use_svg_display()\n",
        "  plt.rcParams['figure.figsize'] = figsize\n"
      ],
      "execution_count": 0,
      "outputs": []
    },
    {
      "cell_type": "code",
      "metadata": {
        "id": "oHuY6zDXxeJh",
        "colab_type": "code",
        "outputId": "8d862f43-e261-4b46-b522-e3f3220f7dce",
        "colab": {
          "base_uri": "https://localhost:8080/",
          "height": 243
        }
      },
      "source": [
        "set_figsize()\n",
        "plt.scatter(features[:,1].asnumpy(), labels.asnumpy(), 1); # add the semicolon to show the figure only"
      ],
      "execution_count": 5,
      "outputs": [
        {
          "output_type": "display_data",
          "data": {
            "text/plain": [
              "<Figure size 252x180 with 1 Axes>"
            ],
            "image/svg+xml": "<?xml version=\"1.0\" encoding=\"utf-8\" standalone=\"no\"?>\n<!DOCTYPE svg PUBLIC \"-//W3C//DTD SVG 1.1//EN\"\n  \"http://www.w3.org/Graphics/SVG/1.1/DTD/svg11.dtd\">\n<!-- Created with matplotlib (https://matplotlib.org/) -->\n<svg height=\"166.978125pt\" version=\"1.1\" viewBox=\"0 0 237.804688 166.978125\" width=\"237.804688pt\" xmlns=\"http://www.w3.org/2000/svg\" xmlns:xlink=\"http://www.w3.org/1999/xlink\">\n <defs>\n  <style type=\"text/css\">\n*{stroke-linecap:butt;stroke-linejoin:round;}\n  </style>\n </defs>\n <g id=\"figure_1\">\n  <g id=\"patch_1\">\n   <path d=\"M 0 166.978125 \nL 237.804688 166.978125 \nL 237.804688 0 \nL 0 0 \nz\n\" style=\"fill:none;\"/>\n  </g>\n  <g id=\"axes_1\">\n   <g id=\"patch_2\">\n    <path d=\"M 35.304688 143.1 \nL 230.604688 143.1 \nL 230.604688 7.2 \nL 35.304688 7.2 \nz\n\" style=\"fill:#ffffff;\"/>\n   </g>\n   <g id=\"PathCollection_1\">\n    <defs>\n     <path d=\"M 0 0.5 \nC 0.132602 0.5 0.25979 0.447317 0.353553 0.353553 \nC 0.447317 0.25979 0.5 0.132602 0.5 0 \nC 0.5 -0.132602 0.447317 -0.25979 0.353553 -0.353553 \nC 0.25979 -0.447317 0.132602 -0.5 0 -0.5 \nC -0.132602 -0.5 -0.25979 -0.447317 -0.353553 -0.353553 \nC -0.447317 -0.25979 -0.5 -0.132602 -0.5 0 \nC -0.5 0.132602 -0.447317 0.25979 -0.353553 0.353553 \nC -0.25979 0.447317 -0.132602 0.5 0 0.5 \nz\n\" id=\"m089f024421\" style=\"stroke:#1f77b4;\"/>\n    </defs>\n    <g clip-path=\"url(#pcbb0c6c76d)\">\n     <use style=\"fill:#1f77b4;stroke:#1f77b4;\" x=\"152.110325\" xlink:href=\"#m089f024421\" y=\"61.427259\"/>\n     <use style=\"fill:#1f77b4;stroke:#1f77b4;\" x=\"162.965175\" xlink:href=\"#m089f024421\" y=\"77.599786\"/>\n     <use style=\"fill:#1f77b4;stroke:#1f77b4;\" x=\"98.918144\" xlink:href=\"#m089f024421\" y=\"34.602631\"/>\n     <use style=\"fill:#1f77b4;stroke:#1f77b4;\" x=\"119.661674\" xlink:href=\"#m089f024421\" y=\"77.921716\"/>\n     <use style=\"fill:#1f77b4;stroke:#1f77b4;\" x=\"82.46486\" xlink:href=\"#m089f024421\" y=\"36.830989\"/>\n     <use style=\"fill:#1f77b4;stroke:#1f77b4;\" x=\"126.106059\" xlink:href=\"#m089f024421\" y=\"83.327675\"/>\n     <use style=\"fill:#1f77b4;stroke:#1f77b4;\" x=\"130.630445\" xlink:href=\"#m089f024421\" y=\"66.570132\"/>\n     <use style=\"fill:#1f77b4;stroke:#1f77b4;\" x=\"131.015558\" xlink:href=\"#m089f024421\" y=\"73.080533\"/>\n     <use style=\"fill:#1f77b4;stroke:#1f77b4;\" x=\"170.437935\" xlink:href=\"#m089f024421\" y=\"85.829735\"/>\n     <use style=\"fill:#1f77b4;stroke:#1f77b4;\" x=\"141.013946\" xlink:href=\"#m089f024421\" y=\"68.476347\"/>\n     <use style=\"fill:#1f77b4;stroke:#1f77b4;\" x=\"134.79673\" xlink:href=\"#m089f024421\" y=\"61.743283\"/>\n     <use style=\"fill:#1f77b4;stroke:#1f77b4;\" x=\"111.073789\" xlink:href=\"#m089f024421\" y=\"66.233375\"/>\n     <use style=\"fill:#1f77b4;stroke:#1f77b4;\" x=\"151.256837\" xlink:href=\"#m089f024421\" y=\"86.926989\"/>\n     <use style=\"fill:#1f77b4;stroke:#1f77b4;\" x=\"103.198649\" xlink:href=\"#m089f024421\" y=\"66.207096\"/>\n     <use style=\"fill:#1f77b4;stroke:#1f77b4;\" x=\"96.451677\" xlink:href=\"#m089f024421\" y=\"58.670109\"/>\n     <use style=\"fill:#1f77b4;stroke:#1f77b4;\" x=\"117.735033\" xlink:href=\"#m089f024421\" y=\"74.247484\"/>\n     <use style=\"fill:#1f77b4;stroke:#1f77b4;\" x=\"155.31604\" xlink:href=\"#m089f024421\" y=\"71.479809\"/>\n     <use style=\"fill:#1f77b4;stroke:#1f77b4;\" x=\"163.498234\" xlink:href=\"#m089f024421\" y=\"92.179662\"/>\n     <use style=\"fill:#1f77b4;stroke:#1f77b4;\" x=\"116.188046\" xlink:href=\"#m089f024421\" y=\"69.026591\"/>\n     <use style=\"fill:#1f77b4;stroke:#1f77b4;\" x=\"156.241342\" xlink:href=\"#m089f024421\" y=\"79.787695\"/>\n     <use style=\"fill:#1f77b4;stroke:#1f77b4;\" x=\"117.907739\" xlink:href=\"#m089f024421\" y=\"73.891317\"/>\n     <use style=\"fill:#1f77b4;stroke:#1f77b4;\" x=\"139.196006\" xlink:href=\"#m089f024421\" y=\"55.956589\"/>\n     <use style=\"fill:#1f77b4;stroke:#1f77b4;\" x=\"157.294002\" xlink:href=\"#m089f024421\" y=\"78.641941\"/>\n     <use style=\"fill:#1f77b4;stroke:#1f77b4;\" x=\"81.590798\" xlink:href=\"#m089f024421\" y=\"45.976216\"/>\n     <use style=\"fill:#1f77b4;stroke:#1f77b4;\" x=\"119.570881\" xlink:href=\"#m089f024421\" y=\"56.938241\"/>\n     <use style=\"fill:#1f77b4;stroke:#1f77b4;\" x=\"97.183879\" xlink:href=\"#m089f024421\" y=\"47.287893\"/>\n     <use style=\"fill:#1f77b4;stroke:#1f77b4;\" x=\"170.101636\" xlink:href=\"#m089f024421\" y=\"87.405309\"/>\n     <use style=\"fill:#1f77b4;stroke:#1f77b4;\" x=\"144.298007\" xlink:href=\"#m089f024421\" y=\"74.205863\"/>\n     <use style=\"fill:#1f77b4;stroke:#1f77b4;\" x=\"104.55625\" xlink:href=\"#m089f024421\" y=\"45.71103\"/>\n     <use style=\"fill:#1f77b4;stroke:#1f77b4;\" x=\"123.175637\" xlink:href=\"#m089f024421\" y=\"65.138588\"/>\n     <use style=\"fill:#1f77b4;stroke:#1f77b4;\" x=\"141.056097\" xlink:href=\"#m089f024421\" y=\"76.083312\"/>\n     <use style=\"fill:#1f77b4;stroke:#1f77b4;\" x=\"139.728026\" xlink:href=\"#m089f024421\" y=\"67.259585\"/>\n     <use style=\"fill:#1f77b4;stroke:#1f77b4;\" x=\"126.198013\" xlink:href=\"#m089f024421\" y=\"69.853636\"/>\n     <use style=\"fill:#1f77b4;stroke:#1f77b4;\" x=\"166.18377\" xlink:href=\"#m089f024421\" y=\"92.029982\"/>\n     <use style=\"fill:#1f77b4;stroke:#1f77b4;\" x=\"163.238163\" xlink:href=\"#m089f024421\" y=\"81.260809\"/>\n     <use style=\"fill:#1f77b4;stroke:#1f77b4;\" x=\"138.518156\" xlink:href=\"#m089f024421\" y=\"88.066949\"/>\n     <use style=\"fill:#1f77b4;stroke:#1f77b4;\" x=\"123.298696\" xlink:href=\"#m089f024421\" y=\"66.947478\"/>\n     <use style=\"fill:#1f77b4;stroke:#1f77b4;\" x=\"147.894182\" xlink:href=\"#m089f024421\" y=\"77.993259\"/>\n     <use style=\"fill:#1f77b4;stroke:#1f77b4;\" x=\"78.830064\" xlink:href=\"#m089f024421\" y=\"50.145374\"/>\n     <use style=\"fill:#1f77b4;stroke:#1f77b4;\" x=\"148.546168\" xlink:href=\"#m089f024421\" y=\"73.489463\"/>\n     <use style=\"fill:#1f77b4;stroke:#1f77b4;\" x=\"136.467624\" xlink:href=\"#m089f024421\" y=\"77.189302\"/>\n     <use style=\"fill:#1f77b4;stroke:#1f77b4;\" x=\"136.864576\" xlink:href=\"#m089f024421\" y=\"69.009236\"/>\n     <use style=\"fill:#1f77b4;stroke:#1f77b4;\" x=\"128.968358\" xlink:href=\"#m089f024421\" y=\"52.178177\"/>\n     <use style=\"fill:#1f77b4;stroke:#1f77b4;\" x=\"102.253031\" xlink:href=\"#m089f024421\" y=\"65.059969\"/>\n     <use style=\"fill:#1f77b4;stroke:#1f77b4;\" x=\"159.17084\" xlink:href=\"#m089f024421\" y=\"91.808083\"/>\n     <use style=\"fill:#1f77b4;stroke:#1f77b4;\" x=\"149.572712\" xlink:href=\"#m089f024421\" y=\"81.824222\"/>\n     <use style=\"fill:#1f77b4;stroke:#1f77b4;\" x=\"120.37165\" xlink:href=\"#m089f024421\" y=\"70.300347\"/>\n     <use style=\"fill:#1f77b4;stroke:#1f77b4;\" x=\"92.488313\" xlink:href=\"#m089f024421\" y=\"53.089345\"/>\n     <use style=\"fill:#1f77b4;stroke:#1f77b4;\" x=\"114.452536\" xlink:href=\"#m089f024421\" y=\"54.897365\"/>\n     <use style=\"fill:#1f77b4;stroke:#1f77b4;\" x=\"146.803054\" xlink:href=\"#m089f024421\" y=\"77.10587\"/>\n     <use style=\"fill:#1f77b4;stroke:#1f77b4;\" x=\"201.808587\" xlink:href=\"#m089f024421\" y=\"116.13768\"/>\n     <use style=\"fill:#1f77b4;stroke:#1f77b4;\" x=\"182.280521\" xlink:href=\"#m089f024421\" y=\"96.590082\"/>\n     <use style=\"fill:#1f77b4;stroke:#1f77b4;\" x=\"104.712178\" xlink:href=\"#m089f024421\" y=\"67.590936\"/>\n     <use style=\"fill:#1f77b4;stroke:#1f77b4;\" x=\"147.009255\" xlink:href=\"#m089f024421\" y=\"77.094657\"/>\n     <use style=\"fill:#1f77b4;stroke:#1f77b4;\" x=\"160.806736\" xlink:href=\"#m089f024421\" y=\"86.087303\"/>\n     <use style=\"fill:#1f77b4;stroke:#1f77b4;\" x=\"108.277796\" xlink:href=\"#m089f024421\" y=\"61.4955\"/>\n     <use style=\"fill:#1f77b4;stroke:#1f77b4;\" x=\"156.993348\" xlink:href=\"#m089f024421\" y=\"70.695542\"/>\n     <use style=\"fill:#1f77b4;stroke:#1f77b4;\" x=\"127.417234\" xlink:href=\"#m089f024421\" y=\"66.093839\"/>\n     <use style=\"fill:#1f77b4;stroke:#1f77b4;\" x=\"154.572674\" xlink:href=\"#m089f024421\" y=\"86.167011\"/>\n     <use style=\"fill:#1f77b4;stroke:#1f77b4;\" x=\"126.277762\" xlink:href=\"#m089f024421\" y=\"62.266229\"/>\n     <use style=\"fill:#1f77b4;stroke:#1f77b4;\" x=\"150.667171\" xlink:href=\"#m089f024421\" y=\"72.191703\"/>\n     <use style=\"fill:#1f77b4;stroke:#1f77b4;\" x=\"140.903861\" xlink:href=\"#m089f024421\" y=\"79.897944\"/>\n     <use style=\"fill:#1f77b4;stroke:#1f77b4;\" x=\"111.973649\" xlink:href=\"#m089f024421\" y=\"45.344924\"/>\n     <use style=\"fill:#1f77b4;stroke:#1f77b4;\" x=\"148.614296\" xlink:href=\"#m089f024421\" y=\"89.922344\"/>\n     <use style=\"fill:#1f77b4;stroke:#1f77b4;\" x=\"84.810933\" xlink:href=\"#m089f024421\" y=\"48.878877\"/>\n     <use style=\"fill:#1f77b4;stroke:#1f77b4;\" x=\"148.849347\" xlink:href=\"#m089f024421\" y=\"86.757084\"/>\n     <use style=\"fill:#1f77b4;stroke:#1f77b4;\" x=\"127.882704\" xlink:href=\"#m089f024421\" y=\"74.992898\"/>\n     <use style=\"fill:#1f77b4;stroke:#1f77b4;\" x=\"162.293468\" xlink:href=\"#m089f024421\" y=\"79.530631\"/>\n     <use style=\"fill:#1f77b4;stroke:#1f77b4;\" x=\"131.497703\" xlink:href=\"#m089f024421\" y=\"52.142797\"/>\n     <use style=\"fill:#1f77b4;stroke:#1f77b4;\" x=\"147.12287\" xlink:href=\"#m089f024421\" y=\"55.266863\"/>\n     <use style=\"fill:#1f77b4;stroke:#1f77b4;\" x=\"135.593646\" xlink:href=\"#m089f024421\" y=\"77.568302\"/>\n     <use style=\"fill:#1f77b4;stroke:#1f77b4;\" x=\"123.229756\" xlink:href=\"#m089f024421\" y=\"86.976717\"/>\n     <use style=\"fill:#1f77b4;stroke:#1f77b4;\" x=\"127.387462\" xlink:href=\"#m089f024421\" y=\"83.397199\"/>\n     <use style=\"fill:#1f77b4;stroke:#1f77b4;\" x=\"131.175211\" xlink:href=\"#m089f024421\" y=\"77.419754\"/>\n     <use style=\"fill:#1f77b4;stroke:#1f77b4;\" x=\"112.850049\" xlink:href=\"#m089f024421\" y=\"47.040254\"/>\n     <use style=\"fill:#1f77b4;stroke:#1f77b4;\" x=\"142.022025\" xlink:href=\"#m089f024421\" y=\"72.904527\"/>\n     <use style=\"fill:#1f77b4;stroke:#1f77b4;\" x=\"72.958558\" xlink:href=\"#m089f024421\" y=\"45.521689\"/>\n     <use style=\"fill:#1f77b4;stroke:#1f77b4;\" x=\"168.235172\" xlink:href=\"#m089f024421\" y=\"90.857799\"/>\n     <use style=\"fill:#1f77b4;stroke:#1f77b4;\" x=\"187.632911\" xlink:href=\"#m089f024421\" y=\"87.77593\"/>\n     <use style=\"fill:#1f77b4;stroke:#1f77b4;\" x=\"105.625518\" xlink:href=\"#m089f024421\" y=\"41.6773\"/>\n     <use style=\"fill:#1f77b4;stroke:#1f77b4;\" x=\"152.678917\" xlink:href=\"#m089f024421\" y=\"82.961862\"/>\n     <use style=\"fill:#1f77b4;stroke:#1f77b4;\" x=\"91.626042\" xlink:href=\"#m089f024421\" y=\"46.880045\"/>\n     <use style=\"fill:#1f77b4;stroke:#1f77b4;\" x=\"89.189554\" xlink:href=\"#m089f024421\" y=\"56.818925\"/>\n     <use style=\"fill:#1f77b4;stroke:#1f77b4;\" x=\"79.638911\" xlink:href=\"#m089f024421\" y=\"28.926225\"/>\n     <use style=\"fill:#1f77b4;stroke:#1f77b4;\" x=\"85.335782\" xlink:href=\"#m089f024421\" y=\"45.021122\"/>\n     <use style=\"fill:#1f77b4;stroke:#1f77b4;\" x=\"160.902614\" xlink:href=\"#m089f024421\" y=\"73.927323\"/>\n     <use style=\"fill:#1f77b4;stroke:#1f77b4;\" x=\"95.068172\" xlink:href=\"#m089f024421\" y=\"48.469434\"/>\n     <use style=\"fill:#1f77b4;stroke:#1f77b4;\" x=\"131.697937\" xlink:href=\"#m089f024421\" y=\"72.914257\"/>\n     <use style=\"fill:#1f77b4;stroke:#1f77b4;\" x=\"173.441839\" xlink:href=\"#m089f024421\" y=\"87.027962\"/>\n     <use style=\"fill:#1f77b4;stroke:#1f77b4;\" x=\"115.454838\" xlink:href=\"#m089f024421\" y=\"61.216539\"/>\n     <use style=\"fill:#1f77b4;stroke:#1f77b4;\" x=\"164.968987\" xlink:href=\"#m089f024421\" y=\"105.20042\"/>\n     <use style=\"fill:#1f77b4;stroke:#1f77b4;\" x=\"158.756751\" xlink:href=\"#m089f024421\" y=\"77.172615\"/>\n     <use style=\"fill:#1f77b4;stroke:#1f77b4;\" x=\"144.48824\" xlink:href=\"#m089f024421\" y=\"71.35595\"/>\n     <use style=\"fill:#1f77b4;stroke:#1f77b4;\" x=\"169.648359\" xlink:href=\"#m089f024421\" y=\"103.228639\"/>\n     <use style=\"fill:#1f77b4;stroke:#1f77b4;\" x=\"111.548962\" xlink:href=\"#m089f024421\" y=\"63.335338\"/>\n     <use style=\"fill:#1f77b4;stroke:#1f77b4;\" x=\"113.967932\" xlink:href=\"#m089f024421\" y=\"52.44347\"/>\n     <use style=\"fill:#1f77b4;stroke:#1f77b4;\" x=\"127.612678\" xlink:href=\"#m089f024421\" y=\"42.986245\"/>\n     <use style=\"fill:#1f77b4;stroke:#1f77b4;\" x=\"179.64405\" xlink:href=\"#m089f024421\" y=\"101.708741\"/>\n     <use style=\"fill:#1f77b4;stroke:#1f77b4;\" x=\"100.407572\" xlink:href=\"#m089f024421\" y=\"70.173597\"/>\n     <use style=\"fill:#1f77b4;stroke:#1f77b4;\" x=\"129.357927\" xlink:href=\"#m089f024421\" y=\"75.587853\"/>\n     <use style=\"fill:#1f77b4;stroke:#1f77b4;\" x=\"142.9455\" xlink:href=\"#m089f024421\" y=\"68.550674\"/>\n     <use style=\"fill:#1f77b4;stroke:#1f77b4;\" x=\"167.087747\" xlink:href=\"#m089f024421\" y=\"94.233722\"/>\n     <use style=\"fill:#1f77b4;stroke:#1f77b4;\" x=\"151.70754\" xlink:href=\"#m089f024421\" y=\"89.00764\"/>\n     <use style=\"fill:#1f77b4;stroke:#1f77b4;\" x=\"127.402143\" xlink:href=\"#m089f024421\" y=\"81.559014\"/>\n     <use style=\"fill:#1f77b4;stroke:#1f77b4;\" x=\"147.784087\" xlink:href=\"#m089f024421\" y=\"64.44247\"/>\n     <use style=\"fill:#1f77b4;stroke:#1f77b4;\" x=\"140.018062\" xlink:href=\"#m089f024421\" y=\"83.236625\"/>\n     <use style=\"fill:#1f77b4;stroke:#1f77b4;\" x=\"99.814198\" xlink:href=\"#m089f024421\" y=\"38.587463\"/>\n     <use style=\"fill:#1f77b4;stroke:#1f77b4;\" x=\"100.526838\" xlink:href=\"#m089f024421\" y=\"54.700736\"/>\n     <use style=\"fill:#1f77b4;stroke:#1f77b4;\" x=\"162.212896\" xlink:href=\"#m089f024421\" y=\"87.798863\"/>\n     <use style=\"fill:#1f77b4;stroke:#1f77b4;\" x=\"127.394285\" xlink:href=\"#m089f024421\" y=\"51.866414\"/>\n     <use style=\"fill:#1f77b4;stroke:#1f77b4;\" x=\"167.661998\" xlink:href=\"#m089f024421\" y=\"95.491704\"/>\n     <use style=\"fill:#1f77b4;stroke:#1f77b4;\" x=\"150.23596\" xlink:href=\"#m089f024421\" y=\"65.265035\"/>\n     <use style=\"fill:#1f77b4;stroke:#1f77b4;\" x=\"186.21448\" xlink:href=\"#m089f024421\" y=\"107.622073\"/>\n     <use style=\"fill:#1f77b4;stroke:#1f77b4;\" x=\"158.513243\" xlink:href=\"#m089f024421\" y=\"80.655329\"/>\n     <use style=\"fill:#1f77b4;stroke:#1f77b4;\" x=\"110.194873\" xlink:href=\"#m089f024421\" y=\"49.838247\"/>\n     <use style=\"fill:#1f77b4;stroke:#1f77b4;\" x=\"148.805748\" xlink:href=\"#m089f024421\" y=\"85.629344\"/>\n     <use style=\"fill:#1f77b4;stroke:#1f77b4;\" x=\"138.451798\" xlink:href=\"#m089f024421\" y=\"62.405168\"/>\n     <use style=\"fill:#1f77b4;stroke:#1f77b4;\" x=\"95.276966\" xlink:href=\"#m089f024421\" y=\"73.525853\"/>\n     <use style=\"fill:#1f77b4;stroke:#1f77b4;\" x=\"124.110241\" xlink:href=\"#m089f024421\" y=\"63.830787\"/>\n     <use style=\"fill:#1f77b4;stroke:#1f77b4;\" x=\"102.102851\" xlink:href=\"#m089f024421\" y=\"44.548151\"/>\n     <use style=\"fill:#1f77b4;stroke:#1f77b4;\" x=\"128.103453\" xlink:href=\"#m089f024421\" y=\"58.181402\"/>\n     <use style=\"fill:#1f77b4;stroke:#1f77b4;\" x=\"164.427942\" xlink:href=\"#m089f024421\" y=\"83.082501\"/>\n     <use style=\"fill:#1f77b4;stroke:#1f77b4;\" x=\"101.812688\" xlink:href=\"#m089f024421\" y=\"50.530898\"/>\n     <use style=\"fill:#1f77b4;stroke:#1f77b4;\" x=\"150.723897\" xlink:href=\"#m089f024421\" y=\"81.253206\"/>\n     <use style=\"fill:#1f77b4;stroke:#1f77b4;\" x=\"127.891154\" xlink:href=\"#m089f024421\" y=\"68.683244\"/>\n     <use style=\"fill:#1f77b4;stroke:#1f77b4;\" x=\"153.873996\" xlink:href=\"#m089f024421\" y=\"81.164783\"/>\n     <use style=\"fill:#1f77b4;stroke:#1f77b4;\" x=\"152.097845\" xlink:href=\"#m089f024421\" y=\"91.685301\"/>\n     <use style=\"fill:#1f77b4;stroke:#1f77b4;\" x=\"119.214266\" xlink:href=\"#m089f024421\" y=\"55.349366\"/>\n     <use style=\"fill:#1f77b4;stroke:#1f77b4;\" x=\"184.065769\" xlink:href=\"#m089f024421\" y=\"94.914815\"/>\n     <use style=\"fill:#1f77b4;stroke:#1f77b4;\" x=\"122.131818\" xlink:href=\"#m089f024421\" y=\"61.170487\"/>\n     <use style=\"fill:#1f77b4;stroke:#1f77b4;\" x=\"122.043379\" xlink:href=\"#m089f024421\" y=\"63.460905\"/>\n     <use style=\"fill:#1f77b4;stroke:#1f77b4;\" x=\"93.047882\" xlink:href=\"#m089f024421\" y=\"36.948688\"/>\n     <use style=\"fill:#1f77b4;stroke:#1f77b4;\" x=\"122.512627\" xlink:href=\"#m089f024421\" y=\"63.006165\"/>\n     <use style=\"fill:#1f77b4;stroke:#1f77b4;\" x=\"125.629729\" xlink:href=\"#m089f024421\" y=\"67.321271\"/>\n     <use style=\"fill:#1f77b4;stroke:#1f77b4;\" x=\"135.895578\" xlink:href=\"#m089f024421\" y=\"81.817621\"/>\n     <use style=\"fill:#1f77b4;stroke:#1f77b4;\" x=\"150.951291\" xlink:href=\"#m089f024421\" y=\"73.810444\"/>\n     <use style=\"fill:#1f77b4;stroke:#1f77b4;\" x=\"86.429177\" xlink:href=\"#m089f024421\" y=\"34.680302\"/>\n     <use style=\"fill:#1f77b4;stroke:#1f77b4;\" x=\"93.282027\" xlink:href=\"#m089f024421\" y=\"51.877012\"/>\n     <use style=\"fill:#1f77b4;stroke:#1f77b4;\" x=\"94.215321\" xlink:href=\"#m089f024421\" y=\"59.953789\"/>\n     <use style=\"fill:#1f77b4;stroke:#1f77b4;\" x=\"98.735185\" xlink:href=\"#m089f024421\" y=\"63.33622\"/>\n     <use style=\"fill:#1f77b4;stroke:#1f77b4;\" x=\"97.448856\" xlink:href=\"#m089f024421\" y=\"35.962957\"/>\n     <use style=\"fill:#1f77b4;stroke:#1f77b4;\" x=\"139.572897\" xlink:href=\"#m089f024421\" y=\"78.159699\"/>\n     <use style=\"fill:#1f77b4;stroke:#1f77b4;\" x=\"44.249754\" xlink:href=\"#m089f024421\" y=\"33.514113\"/>\n     <use style=\"fill:#1f77b4;stroke:#1f77b4;\" x=\"123.436664\" xlink:href=\"#m089f024421\" y=\"73.739237\"/>\n     <use style=\"fill:#1f77b4;stroke:#1f77b4;\" x=\"118.811239\" xlink:href=\"#m089f024421\" y=\"76.061791\"/>\n     <use style=\"fill:#1f77b4;stroke:#1f77b4;\" x=\"161.694279\" xlink:href=\"#m089f024421\" y=\"97.02759\"/>\n     <use style=\"fill:#1f77b4;stroke:#1f77b4;\" x=\"110.156314\" xlink:href=\"#m089f024421\" y=\"59.649861\"/>\n     <use style=\"fill:#1f77b4;stroke:#1f77b4;\" x=\"83.615347\" xlink:href=\"#m089f024421\" y=\"37.692344\"/>\n     <use style=\"fill:#1f77b4;stroke:#1f77b4;\" x=\"124.703161\" xlink:href=\"#m089f024421\" y=\"50.677217\"/>\n     <use style=\"fill:#1f77b4;stroke:#1f77b4;\" x=\"102.416356\" xlink:href=\"#m089f024421\" y=\"45.741468\"/>\n     <use style=\"fill:#1f77b4;stroke:#1f77b4;\" x=\"144.254661\" xlink:href=\"#m089f024421\" y=\"66.388769\"/>\n     <use style=\"fill:#1f77b4;stroke:#1f77b4;\" x=\"176.409741\" xlink:href=\"#m089f024421\" y=\"90.500037\"/>\n     <use style=\"fill:#1f77b4;stroke:#1f77b4;\" x=\"122.144544\" xlink:href=\"#m089f024421\" y=\"68.426379\"/>\n     <use style=\"fill:#1f77b4;stroke:#1f77b4;\" x=\"106.598641\" xlink:href=\"#m089f024421\" y=\"62.755671\"/>\n     <use style=\"fill:#1f77b4;stroke:#1f77b4;\" x=\"98.892919\" xlink:href=\"#m089f024421\" y=\"56.598388\"/>\n     <use style=\"fill:#1f77b4;stroke:#1f77b4;\" x=\"145.502958\" xlink:href=\"#m089f024421\" y=\"74.776431\"/>\n     <use style=\"fill:#1f77b4;stroke:#1f77b4;\" x=\"132.38466\" xlink:href=\"#m089f024421\" y=\"81.513056\"/>\n     <use style=\"fill:#1f77b4;stroke:#1f77b4;\" x=\"134.253064\" xlink:href=\"#m089f024421\" y=\"73.575794\"/>\n     <use style=\"fill:#1f77b4;stroke:#1f77b4;\" x=\"108.080766\" xlink:href=\"#m089f024421\" y=\"60.933516\"/>\n     <use style=\"fill:#1f77b4;stroke:#1f77b4;\" x=\"113.605182\" xlink:href=\"#m089f024421\" y=\"72.003083\"/>\n     <use style=\"fill:#1f77b4;stroke:#1f77b4;\" x=\"145.057308\" xlink:href=\"#m089f024421\" y=\"94.577376\"/>\n     <use style=\"fill:#1f77b4;stroke:#1f77b4;\" x=\"151.815577\" xlink:href=\"#m089f024421\" y=\"78.439695\"/>\n     <use style=\"fill:#1f77b4;stroke:#1f77b4;\" x=\"144.003157\" xlink:href=\"#m089f024421\" y=\"89.707084\"/>\n     <use style=\"fill:#1f77b4;stroke:#1f77b4;\" x=\"105.919146\" xlink:href=\"#m089f024421\" y=\"62.511928\"/>\n     <use style=\"fill:#1f77b4;stroke:#1f77b4;\" x=\"142.698031\" xlink:href=\"#m089f024421\" y=\"69.490086\"/>\n     <use style=\"fill:#1f77b4;stroke:#1f77b4;\" x=\"171.816471\" xlink:href=\"#m089f024421\" y=\"93.89552\"/>\n     <use style=\"fill:#1f77b4;stroke:#1f77b4;\" x=\"150.552097\" xlink:href=\"#m089f024421\" y=\"84.215663\"/>\n     <use style=\"fill:#1f77b4;stroke:#1f77b4;\" x=\"133.400621\" xlink:href=\"#m089f024421\" y=\"62.014619\"/>\n     <use style=\"fill:#1f77b4;stroke:#1f77b4;\" x=\"148.493041\" xlink:href=\"#m089f024421\" y=\"78.836089\"/>\n     <use style=\"fill:#1f77b4;stroke:#1f77b4;\" x=\"146.009917\" xlink:href=\"#m089f024421\" y=\"70.051071\"/>\n     <use style=\"fill:#1f77b4;stroke:#1f77b4;\" x=\"81.959895\" xlink:href=\"#m089f024421\" y=\"41.122051\"/>\n     <use style=\"fill:#1f77b4;stroke:#1f77b4;\" x=\"148.286364\" xlink:href=\"#m089f024421\" y=\"66.792493\"/>\n     <use style=\"fill:#1f77b4;stroke:#1f77b4;\" x=\"147.176513\" xlink:href=\"#m089f024421\" y=\"70.291685\"/>\n     <use style=\"fill:#1f77b4;stroke:#1f77b4;\" x=\"137.519382\" xlink:href=\"#m089f024421\" y=\"74.907393\"/>\n     <use style=\"fill:#1f77b4;stroke:#1f77b4;\" x=\"100.012802\" xlink:href=\"#m089f024421\" y=\"30.084448\"/>\n     <use style=\"fill:#1f77b4;stroke:#1f77b4;\" x=\"190.096871\" xlink:href=\"#m089f024421\" y=\"106.418915\"/>\n     <use style=\"fill:#1f77b4;stroke:#1f77b4;\" x=\"103.726379\" xlink:href=\"#m089f024421\" y=\"59.569399\"/>\n     <use style=\"fill:#1f77b4;stroke:#1f77b4;\" x=\"129.867842\" xlink:href=\"#m089f024421\" y=\"70.509517\"/>\n     <use style=\"fill:#1f77b4;stroke:#1f77b4;\" x=\"78.91252\" xlink:href=\"#m089f024421\" y=\"50.970982\"/>\n     <use style=\"fill:#1f77b4;stroke:#1f77b4;\" x=\"116.000377\" xlink:href=\"#m089f024421\" y=\"72.018041\"/>\n     <use style=\"fill:#1f77b4;stroke:#1f77b4;\" x=\"139.040575\" xlink:href=\"#m089f024421\" y=\"71.397968\"/>\n     <use style=\"fill:#1f77b4;stroke:#1f77b4;\" x=\"133.502686\" xlink:href=\"#m089f024421\" y=\"79.125893\"/>\n     <use style=\"fill:#1f77b4;stroke:#1f77b4;\" x=\"119.038606\" xlink:href=\"#m089f024421\" y=\"74.934026\"/>\n     <use style=\"fill:#1f77b4;stroke:#1f77b4;\" x=\"168.943402\" xlink:href=\"#m089f024421\" y=\"86.502538\"/>\n     <use style=\"fill:#1f77b4;stroke:#1f77b4;\" x=\"117.345943\" xlink:href=\"#m089f024421\" y=\"66.132445\"/>\n     <use style=\"fill:#1f77b4;stroke:#1f77b4;\" x=\"142.675716\" xlink:href=\"#m089f024421\" y=\"87.047072\"/>\n     <use style=\"fill:#1f77b4;stroke:#1f77b4;\" x=\"156.146405\" xlink:href=\"#m089f024421\" y=\"96.336272\"/>\n     <use style=\"fill:#1f77b4;stroke:#1f77b4;\" x=\"97.804549\" xlink:href=\"#m089f024421\" y=\"49.701345\"/>\n     <use style=\"fill:#1f77b4;stroke:#1f77b4;\" x=\"169.213063\" xlink:href=\"#m089f024421\" y=\"90.495495\"/>\n     <use style=\"fill:#1f77b4;stroke:#1f77b4;\" x=\"128.435921\" xlink:href=\"#m089f024421\" y=\"76.987224\"/>\n     <use style=\"fill:#1f77b4;stroke:#1f77b4;\" x=\"193.984168\" xlink:href=\"#m089f024421\" y=\"111.364392\"/>\n     <use style=\"fill:#1f77b4;stroke:#1f77b4;\" x=\"125.837232\" xlink:href=\"#m089f024421\" y=\"57.993951\"/>\n     <use style=\"fill:#1f77b4;stroke:#1f77b4;\" x=\"172.940025\" xlink:href=\"#m089f024421\" y=\"82.421962\"/>\n     <use style=\"fill:#1f77b4;stroke:#1f77b4;\" x=\"88.991838\" xlink:href=\"#m089f024421\" y=\"51.421435\"/>\n     <use style=\"fill:#1f77b4;stroke:#1f77b4;\" x=\"166.786386\" xlink:href=\"#m089f024421\" y=\"98.791084\"/>\n     <use style=\"fill:#1f77b4;stroke:#1f77b4;\" x=\"177.394075\" xlink:href=\"#m089f024421\" y=\"95.657182\"/>\n     <use style=\"fill:#1f77b4;stroke:#1f77b4;\" x=\"127.185014\" xlink:href=\"#m089f024421\" y=\"64.755431\"/>\n     <use style=\"fill:#1f77b4;stroke:#1f77b4;\" x=\"112.130423\" xlink:href=\"#m089f024421\" y=\"57.15361\"/>\n     <use style=\"fill:#1f77b4;stroke:#1f77b4;\" x=\"150.345562\" xlink:href=\"#m089f024421\" y=\"84.338807\"/>\n     <use style=\"fill:#1f77b4;stroke:#1f77b4;\" x=\"193.410167\" xlink:href=\"#m089f024421\" y=\"107.82264\"/>\n     <use style=\"fill:#1f77b4;stroke:#1f77b4;\" x=\"146.965673\" xlink:href=\"#m089f024421\" y=\"89.539886\"/>\n     <use style=\"fill:#1f77b4;stroke:#1f77b4;\" x=\"132.033807\" xlink:href=\"#m089f024421\" y=\"72.254832\"/>\n     <use style=\"fill:#1f77b4;stroke:#1f77b4;\" x=\"162.944474\" xlink:href=\"#m089f024421\" y=\"79.59068\"/>\n     <use style=\"fill:#1f77b4;stroke:#1f77b4;\" x=\"155.227433\" xlink:href=\"#m089f024421\" y=\"68.893628\"/>\n     <use style=\"fill:#1f77b4;stroke:#1f77b4;\" x=\"109.233166\" xlink:href=\"#m089f024421\" y=\"47.497462\"/>\n     <use style=\"fill:#1f77b4;stroke:#1f77b4;\" x=\"114.480446\" xlink:href=\"#m089f024421\" y=\"46.797345\"/>\n     <use style=\"fill:#1f77b4;stroke:#1f77b4;\" x=\"174.211852\" xlink:href=\"#m089f024421\" y=\"95.054841\"/>\n     <use style=\"fill:#1f77b4;stroke:#1f77b4;\" x=\"168.772196\" xlink:href=\"#m089f024421\" y=\"83.180176\"/>\n     <use style=\"fill:#1f77b4;stroke:#1f77b4;\" x=\"138.076233\" xlink:href=\"#m089f024421\" y=\"81.356479\"/>\n     <use style=\"fill:#1f77b4;stroke:#1f77b4;\" x=\"145.646528\" xlink:href=\"#m089f024421\" y=\"82.376986\"/>\n     <use style=\"fill:#1f77b4;stroke:#1f77b4;\" x=\"138.798157\" xlink:href=\"#m089f024421\" y=\"73.708693\"/>\n     <use style=\"fill:#1f77b4;stroke:#1f77b4;\" x=\"168.569236\" xlink:href=\"#m089f024421\" y=\"93.222875\"/>\n     <use style=\"fill:#1f77b4;stroke:#1f77b4;\" x=\"107.923332\" xlink:href=\"#m089f024421\" y=\"46.668376\"/>\n     <use style=\"fill:#1f77b4;stroke:#1f77b4;\" x=\"149.590241\" xlink:href=\"#m089f024421\" y=\"82.881068\"/>\n     <use style=\"fill:#1f77b4;stroke:#1f77b4;\" x=\"157.264679\" xlink:href=\"#m089f024421\" y=\"81.830599\"/>\n     <use style=\"fill:#1f77b4;stroke:#1f77b4;\" x=\"129.36784\" xlink:href=\"#m089f024421\" y=\"68.887023\"/>\n     <use style=\"fill:#1f77b4;stroke:#1f77b4;\" x=\"87.693308\" xlink:href=\"#m089f024421\" y=\"55.948136\"/>\n     <use style=\"fill:#1f77b4;stroke:#1f77b4;\" x=\"136.977718\" xlink:href=\"#m089f024421\" y=\"67.125432\"/>\n     <use style=\"fill:#1f77b4;stroke:#1f77b4;\" x=\"128.625086\" xlink:href=\"#m089f024421\" y=\"63.042928\"/>\n     <use style=\"fill:#1f77b4;stroke:#1f77b4;\" x=\"128.115182\" xlink:href=\"#m089f024421\" y=\"74.718436\"/>\n     <use style=\"fill:#1f77b4;stroke:#1f77b4;\" x=\"113.30259\" xlink:href=\"#m089f024421\" y=\"64.351834\"/>\n     <use style=\"fill:#1f77b4;stroke:#1f77b4;\" x=\"122.46141\" xlink:href=\"#m089f024421\" y=\"60.88349\"/>\n     <use style=\"fill:#1f77b4;stroke:#1f77b4;\" x=\"108.497035\" xlink:href=\"#m089f024421\" y=\"71.045333\"/>\n     <use style=\"fill:#1f77b4;stroke:#1f77b4;\" x=\"221.659621\" xlink:href=\"#m089f024421\" y=\"120.525319\"/>\n     <use style=\"fill:#1f77b4;stroke:#1f77b4;\" x=\"116.081387\" xlink:href=\"#m089f024421\" y=\"53.714324\"/>\n     <use style=\"fill:#1f77b4;stroke:#1f77b4;\" x=\"136.709975\" xlink:href=\"#m089f024421\" y=\"84.456579\"/>\n     <use style=\"fill:#1f77b4;stroke:#1f77b4;\" x=\"138.719991\" xlink:href=\"#m089f024421\" y=\"64.716042\"/>\n     <use style=\"fill:#1f77b4;stroke:#1f77b4;\" x=\"151.708722\" xlink:href=\"#m089f024421\" y=\"85.750043\"/>\n     <use style=\"fill:#1f77b4;stroke:#1f77b4;\" x=\"92.564907\" xlink:href=\"#m089f024421\" y=\"48.496678\"/>\n     <use style=\"fill:#1f77b4;stroke:#1f77b4;\" x=\"169.587059\" xlink:href=\"#m089f024421\" y=\"95.839235\"/>\n     <use style=\"fill:#1f77b4;stroke:#1f77b4;\" x=\"69.192422\" xlink:href=\"#m089f024421\" y=\"35.822018\"/>\n     <use style=\"fill:#1f77b4;stroke:#1f77b4;\" x=\"103.929352\" xlink:href=\"#m089f024421\" y=\"60.122757\"/>\n     <use style=\"fill:#1f77b4;stroke:#1f77b4;\" x=\"129.360084\" xlink:href=\"#m089f024421\" y=\"76.096424\"/>\n     <use style=\"fill:#1f77b4;stroke:#1f77b4;\" x=\"144.518956\" xlink:href=\"#m089f024421\" y=\"55.353456\"/>\n     <use style=\"fill:#1f77b4;stroke:#1f77b4;\" x=\"94.960633\" xlink:href=\"#m089f024421\" y=\"67.52367\"/>\n     <use style=\"fill:#1f77b4;stroke:#1f77b4;\" x=\"106.53739\" xlink:href=\"#m089f024421\" y=\"56.960373\"/>\n     <use style=\"fill:#1f77b4;stroke:#1f77b4;\" x=\"120.600196\" xlink:href=\"#m089f024421\" y=\"72.631473\"/>\n     <use style=\"fill:#1f77b4;stroke:#1f77b4;\" x=\"95.752989\" xlink:href=\"#m089f024421\" y=\"31.931252\"/>\n     <use style=\"fill:#1f77b4;stroke:#1f77b4;\" x=\"149.629859\" xlink:href=\"#m089f024421\" y=\"90.314362\"/>\n     <use style=\"fill:#1f77b4;stroke:#1f77b4;\" x=\"115.579414\" xlink:href=\"#m089f024421\" y=\"80.408606\"/>\n     <use style=\"fill:#1f77b4;stroke:#1f77b4;\" x=\"118.019003\" xlink:href=\"#m089f024421\" y=\"59.744812\"/>\n     <use style=\"fill:#1f77b4;stroke:#1f77b4;\" x=\"135.291222\" xlink:href=\"#m089f024421\" y=\"78.807089\"/>\n     <use style=\"fill:#1f77b4;stroke:#1f77b4;\" x=\"169.43359\" xlink:href=\"#m089f024421\" y=\"73.68753\"/>\n     <use style=\"fill:#1f77b4;stroke:#1f77b4;\" x=\"85.534878\" xlink:href=\"#m089f024421\" y=\"58.2845\"/>\n     <use style=\"fill:#1f77b4;stroke:#1f77b4;\" x=\"156.895516\" xlink:href=\"#m089f024421\" y=\"84.392192\"/>\n     <use style=\"fill:#1f77b4;stroke:#1f77b4;\" x=\"160.054375\" xlink:href=\"#m089f024421\" y=\"68.005948\"/>\n     <use style=\"fill:#1f77b4;stroke:#1f77b4;\" x=\"138.786597\" xlink:href=\"#m089f024421\" y=\"73.368349\"/>\n     <use style=\"fill:#1f77b4;stroke:#1f77b4;\" x=\"166.064743\" xlink:href=\"#m089f024421\" y=\"79.317239\"/>\n     <use style=\"fill:#1f77b4;stroke:#1f77b4;\" x=\"129.575838\" xlink:href=\"#m089f024421\" y=\"63.668159\"/>\n     <use style=\"fill:#1f77b4;stroke:#1f77b4;\" x=\"186.720416\" xlink:href=\"#m089f024421\" y=\"96.238426\"/>\n     <use style=\"fill:#1f77b4;stroke:#1f77b4;\" x=\"134.165718\" xlink:href=\"#m089f024421\" y=\"68.237674\"/>\n     <use style=\"fill:#1f77b4;stroke:#1f77b4;\" x=\"107.559434\" xlink:href=\"#m089f024421\" y=\"56.706718\"/>\n     <use style=\"fill:#1f77b4;stroke:#1f77b4;\" x=\"167.078839\" xlink:href=\"#m089f024421\" y=\"91.650143\"/>\n     <use style=\"fill:#1f77b4;stroke:#1f77b4;\" x=\"171.233236\" xlink:href=\"#m089f024421\" y=\"94.933218\"/>\n     <use style=\"fill:#1f77b4;stroke:#1f77b4;\" x=\"160.259077\" xlink:href=\"#m089f024421\" y=\"99.124939\"/>\n     <use style=\"fill:#1f77b4;stroke:#1f77b4;\" x=\"101.344909\" xlink:href=\"#m089f024421\" y=\"45.500857\"/>\n     <use style=\"fill:#1f77b4;stroke:#1f77b4;\" x=\"117.452781\" xlink:href=\"#m089f024421\" y=\"45.339276\"/>\n     <use style=\"fill:#1f77b4;stroke:#1f77b4;\" x=\"125.715576\" xlink:href=\"#m089f024421\" y=\"58.464776\"/>\n     <use style=\"fill:#1f77b4;stroke:#1f77b4;\" x=\"127.468094\" xlink:href=\"#m089f024421\" y=\"83.146576\"/>\n     <use style=\"fill:#1f77b4;stroke:#1f77b4;\" x=\"112.672845\" xlink:href=\"#m089f024421\" y=\"62.332104\"/>\n     <use style=\"fill:#1f77b4;stroke:#1f77b4;\" x=\"121.327923\" xlink:href=\"#m089f024421\" y=\"64.966428\"/>\n     <use style=\"fill:#1f77b4;stroke:#1f77b4;\" x=\"128.847244\" xlink:href=\"#m089f024421\" y=\"76.187621\"/>\n     <use style=\"fill:#1f77b4;stroke:#1f77b4;\" x=\"146.922896\" xlink:href=\"#m089f024421\" y=\"76.262356\"/>\n     <use style=\"fill:#1f77b4;stroke:#1f77b4;\" x=\"166.236726\" xlink:href=\"#m089f024421\" y=\"88.242087\"/>\n     <use style=\"fill:#1f77b4;stroke:#1f77b4;\" x=\"162.161363\" xlink:href=\"#m089f024421\" y=\"97.674316\"/>\n     <use style=\"fill:#1f77b4;stroke:#1f77b4;\" x=\"128.255514\" xlink:href=\"#m089f024421\" y=\"61.086441\"/>\n     <use style=\"fill:#1f77b4;stroke:#1f77b4;\" x=\"105.885879\" xlink:href=\"#m089f024421\" y=\"62.303924\"/>\n     <use style=\"fill:#1f77b4;stroke:#1f77b4;\" x=\"122.750976\" xlink:href=\"#m089f024421\" y=\"56.754513\"/>\n     <use style=\"fill:#1f77b4;stroke:#1f77b4;\" x=\"104.500263\" xlink:href=\"#m089f024421\" y=\"52.462513\"/>\n     <use style=\"fill:#1f77b4;stroke:#1f77b4;\" x=\"155.346818\" xlink:href=\"#m089f024421\" y=\"76.931904\"/>\n     <use style=\"fill:#1f77b4;stroke:#1f77b4;\" x=\"132.467783\" xlink:href=\"#m089f024421\" y=\"75.387429\"/>\n     <use style=\"fill:#1f77b4;stroke:#1f77b4;\" x=\"76.131463\" xlink:href=\"#m089f024421\" y=\"51.815095\"/>\n     <use style=\"fill:#1f77b4;stroke:#1f77b4;\" x=\"95.678412\" xlink:href=\"#m089f024421\" y=\"50.196387\"/>\n     <use style=\"fill:#1f77b4;stroke:#1f77b4;\" x=\"136.564469\" xlink:href=\"#m089f024421\" y=\"67.418571\"/>\n     <use style=\"fill:#1f77b4;stroke:#1f77b4;\" x=\"128.099297\" xlink:href=\"#m089f024421\" y=\"52.014117\"/>\n     <use style=\"fill:#1f77b4;stroke:#1f77b4;\" x=\"135.981994\" xlink:href=\"#m089f024421\" y=\"68.579223\"/>\n     <use style=\"fill:#1f77b4;stroke:#1f77b4;\" x=\"168.544642\" xlink:href=\"#m089f024421\" y=\"89.819484\"/>\n     <use style=\"fill:#1f77b4;stroke:#1f77b4;\" x=\"161.283915\" xlink:href=\"#m089f024421\" y=\"94.673721\"/>\n     <use style=\"fill:#1f77b4;stroke:#1f77b4;\" x=\"63.979451\" xlink:href=\"#m089f024421\" y=\"13.393212\"/>\n     <use style=\"fill:#1f77b4;stroke:#1f77b4;\" x=\"169.438546\" xlink:href=\"#m089f024421\" y=\"104.602321\"/>\n     <use style=\"fill:#1f77b4;stroke:#1f77b4;\" x=\"170.762418\" xlink:href=\"#m089f024421\" y=\"99.852131\"/>\n     <use style=\"fill:#1f77b4;stroke:#1f77b4;\" x=\"128.464601\" xlink:href=\"#m089f024421\" y=\"58.059283\"/>\n     <use style=\"fill:#1f77b4;stroke:#1f77b4;\" x=\"105.679995\" xlink:href=\"#m089f024421\" y=\"42.836878\"/>\n     <use style=\"fill:#1f77b4;stroke:#1f77b4;\" x=\"79.399043\" xlink:href=\"#m089f024421\" y=\"44.636936\"/>\n     <use style=\"fill:#1f77b4;stroke:#1f77b4;\" x=\"121.012171\" xlink:href=\"#m089f024421\" y=\"65.462336\"/>\n     <use style=\"fill:#1f77b4;stroke:#1f77b4;\" x=\"103.45489\" xlink:href=\"#m089f024421\" y=\"50.07252\"/>\n     <use style=\"fill:#1f77b4;stroke:#1f77b4;\" x=\"126.573138\" xlink:href=\"#m089f024421\" y=\"71.442222\"/>\n     <use style=\"fill:#1f77b4;stroke:#1f77b4;\" x=\"118.237963\" xlink:href=\"#m089f024421\" y=\"62.434259\"/>\n     <use style=\"fill:#1f77b4;stroke:#1f77b4;\" x=\"160.010986\" xlink:href=\"#m089f024421\" y=\"87.534827\"/>\n     <use style=\"fill:#1f77b4;stroke:#1f77b4;\" x=\"141.465831\" xlink:href=\"#m089f024421\" y=\"83.987789\"/>\n     <use style=\"fill:#1f77b4;stroke:#1f77b4;\" x=\"139.330259\" xlink:href=\"#m089f024421\" y=\"55.568877\"/>\n     <use style=\"fill:#1f77b4;stroke:#1f77b4;\" x=\"147.4419\" xlink:href=\"#m089f024421\" y=\"64.542729\"/>\n     <use style=\"fill:#1f77b4;stroke:#1f77b4;\" x=\"173.185935\" xlink:href=\"#m089f024421\" y=\"88.326353\"/>\n     <use style=\"fill:#1f77b4;stroke:#1f77b4;\" x=\"144.111116\" xlink:href=\"#m089f024421\" y=\"77.555593\"/>\n     <use style=\"fill:#1f77b4;stroke:#1f77b4;\" x=\"131.250651\" xlink:href=\"#m089f024421\" y=\"75.599165\"/>\n     <use style=\"fill:#1f77b4;stroke:#1f77b4;\" x=\"146.190345\" xlink:href=\"#m089f024421\" y=\"87.455958\"/>\n     <use style=\"fill:#1f77b4;stroke:#1f77b4;\" x=\"138.970897\" xlink:href=\"#m089f024421\" y=\"69.162758\"/>\n     <use style=\"fill:#1f77b4;stroke:#1f77b4;\" x=\"115.816884\" xlink:href=\"#m089f024421\" y=\"56.398928\"/>\n     <use style=\"fill:#1f77b4;stroke:#1f77b4;\" x=\"100.264255\" xlink:href=\"#m089f024421\" y=\"62.413619\"/>\n     <use style=\"fill:#1f77b4;stroke:#1f77b4;\" x=\"101.382695\" xlink:href=\"#m089f024421\" y=\"29.985238\"/>\n     <use style=\"fill:#1f77b4;stroke:#1f77b4;\" x=\"107.555308\" xlink:href=\"#m089f024421\" y=\"47.909843\"/>\n     <use style=\"fill:#1f77b4;stroke:#1f77b4;\" x=\"125.803138\" xlink:href=\"#m089f024421\" y=\"75.121304\"/>\n     <use style=\"fill:#1f77b4;stroke:#1f77b4;\" x=\"103.330397\" xlink:href=\"#m089f024421\" y=\"56.739641\"/>\n     <use style=\"fill:#1f77b4;stroke:#1f77b4;\" x=\"128.270446\" xlink:href=\"#m089f024421\" y=\"82.668491\"/>\n     <use style=\"fill:#1f77b4;stroke:#1f77b4;\" x=\"117.996264\" xlink:href=\"#m089f024421\" y=\"60.939455\"/>\n     <use style=\"fill:#1f77b4;stroke:#1f77b4;\" x=\"165.970241\" xlink:href=\"#m089f024421\" y=\"93.026156\"/>\n     <use style=\"fill:#1f77b4;stroke:#1f77b4;\" x=\"105.123404\" xlink:href=\"#m089f024421\" y=\"45.048457\"/>\n     <use style=\"fill:#1f77b4;stroke:#1f77b4;\" x=\"130.275015\" xlink:href=\"#m089f024421\" y=\"60.988426\"/>\n     <use style=\"fill:#1f77b4;stroke:#1f77b4;\" x=\"146.527695\" xlink:href=\"#m089f024421\" y=\"70.692142\"/>\n     <use style=\"fill:#1f77b4;stroke:#1f77b4;\" x=\"178.338136\" xlink:href=\"#m089f024421\" y=\"107.824667\"/>\n     <use style=\"fill:#1f77b4;stroke:#1f77b4;\" x=\"138.20595\" xlink:href=\"#m089f024421\" y=\"87.848911\"/>\n     <use style=\"fill:#1f77b4;stroke:#1f77b4;\" x=\"135.261638\" xlink:href=\"#m089f024421\" y=\"65.598423\"/>\n     <use style=\"fill:#1f77b4;stroke:#1f77b4;\" x=\"162.71353\" xlink:href=\"#m089f024421\" y=\"81.396154\"/>\n     <use style=\"fill:#1f77b4;stroke:#1f77b4;\" x=\"82.065275\" xlink:href=\"#m089f024421\" y=\"43.861801\"/>\n     <use style=\"fill:#1f77b4;stroke:#1f77b4;\" x=\"102.811423\" xlink:href=\"#m089f024421\" y=\"48.838866\"/>\n     <use style=\"fill:#1f77b4;stroke:#1f77b4;\" x=\"131.49148\" xlink:href=\"#m089f024421\" y=\"75.725275\"/>\n     <use style=\"fill:#1f77b4;stroke:#1f77b4;\" x=\"149.928937\" xlink:href=\"#m089f024421\" y=\"87.01631\"/>\n     <use style=\"fill:#1f77b4;stroke:#1f77b4;\" x=\"148.363269\" xlink:href=\"#m089f024421\" y=\"55.364887\"/>\n     <use style=\"fill:#1f77b4;stroke:#1f77b4;\" x=\"117.619692\" xlink:href=\"#m089f024421\" y=\"68.270012\"/>\n     <use style=\"fill:#1f77b4;stroke:#1f77b4;\" x=\"157.863086\" xlink:href=\"#m089f024421\" y=\"73.975154\"/>\n     <use style=\"fill:#1f77b4;stroke:#1f77b4;\" x=\"121.945368\" xlink:href=\"#m089f024421\" y=\"68.480878\"/>\n     <use style=\"fill:#1f77b4;stroke:#1f77b4;\" x=\"158.783952\" xlink:href=\"#m089f024421\" y=\"78.880235\"/>\n     <use style=\"fill:#1f77b4;stroke:#1f77b4;\" x=\"113.358978\" xlink:href=\"#m089f024421\" y=\"58.365172\"/>\n     <use style=\"fill:#1f77b4;stroke:#1f77b4;\" x=\"141.773674\" xlink:href=\"#m089f024421\" y=\"94.832991\"/>\n     <use style=\"fill:#1f77b4;stroke:#1f77b4;\" x=\"105.228098\" xlink:href=\"#m089f024421\" y=\"44.1323\"/>\n     <use style=\"fill:#1f77b4;stroke:#1f77b4;\" x=\"106.950215\" xlink:href=\"#m089f024421\" y=\"44.624988\"/>\n     <use style=\"fill:#1f77b4;stroke:#1f77b4;\" x=\"111.800362\" xlink:href=\"#m089f024421\" y=\"70.989423\"/>\n     <use style=\"fill:#1f77b4;stroke:#1f77b4;\" x=\"168.836053\" xlink:href=\"#m089f024421\" y=\"94.032467\"/>\n     <use style=\"fill:#1f77b4;stroke:#1f77b4;\" x=\"124.531415\" xlink:href=\"#m089f024421\" y=\"44.598909\"/>\n     <use style=\"fill:#1f77b4;stroke:#1f77b4;\" x=\"124.641394\" xlink:href=\"#m089f024421\" y=\"60.060892\"/>\n     <use style=\"fill:#1f77b4;stroke:#1f77b4;\" x=\"138.960734\" xlink:href=\"#m089f024421\" y=\"79.694561\"/>\n     <use style=\"fill:#1f77b4;stroke:#1f77b4;\" x=\"107.69769\" xlink:href=\"#m089f024421\" y=\"56.668975\"/>\n     <use style=\"fill:#1f77b4;stroke:#1f77b4;\" x=\"124.038357\" xlink:href=\"#m089f024421\" y=\"50.366682\"/>\n     <use style=\"fill:#1f77b4;stroke:#1f77b4;\" x=\"137.377443\" xlink:href=\"#m089f024421\" y=\"67.068157\"/>\n     <use style=\"fill:#1f77b4;stroke:#1f77b4;\" x=\"146.369716\" xlink:href=\"#m089f024421\" y=\"89.069825\"/>\n     <use style=\"fill:#1f77b4;stroke:#1f77b4;\" x=\"121.717398\" xlink:href=\"#m089f024421\" y=\"57.524715\"/>\n     <use style=\"fill:#1f77b4;stroke:#1f77b4;\" x=\"141.27614\" xlink:href=\"#m089f024421\" y=\"88.069326\"/>\n     <use style=\"fill:#1f77b4;stroke:#1f77b4;\" x=\"168.54432\" xlink:href=\"#m089f024421\" y=\"86.042924\"/>\n     <use style=\"fill:#1f77b4;stroke:#1f77b4;\" x=\"192.148706\" xlink:href=\"#m089f024421\" y=\"103.754151\"/>\n     <use style=\"fill:#1f77b4;stroke:#1f77b4;\" x=\"113.050881\" xlink:href=\"#m089f024421\" y=\"61.522043\"/>\n     <use style=\"fill:#1f77b4;stroke:#1f77b4;\" x=\"138.491586\" xlink:href=\"#m089f024421\" y=\"87.225609\"/>\n     <use style=\"fill:#1f77b4;stroke:#1f77b4;\" x=\"133.155275\" xlink:href=\"#m089f024421\" y=\"89.3728\"/>\n     <use style=\"fill:#1f77b4;stroke:#1f77b4;\" x=\"103.967156\" xlink:href=\"#m089f024421\" y=\"61.549721\"/>\n     <use style=\"fill:#1f77b4;stroke:#1f77b4;\" x=\"113.097874\" xlink:href=\"#m089f024421\" y=\"48.501178\"/>\n     <use style=\"fill:#1f77b4;stroke:#1f77b4;\" x=\"103.451825\" xlink:href=\"#m089f024421\" y=\"70.410129\"/>\n     <use style=\"fill:#1f77b4;stroke:#1f77b4;\" x=\"157.433504\" xlink:href=\"#m089f024421\" y=\"90.943318\"/>\n     <use style=\"fill:#1f77b4;stroke:#1f77b4;\" x=\"95.024805\" xlink:href=\"#m089f024421\" y=\"47.571985\"/>\n     <use style=\"fill:#1f77b4;stroke:#1f77b4;\" x=\"107.480113\" xlink:href=\"#m089f024421\" y=\"52.812844\"/>\n     <use style=\"fill:#1f77b4;stroke:#1f77b4;\" x=\"166.171721\" xlink:href=\"#m089f024421\" y=\"101.820053\"/>\n     <use style=\"fill:#1f77b4;stroke:#1f77b4;\" x=\"132.810392\" xlink:href=\"#m089f024421\" y=\"61.884311\"/>\n     <use style=\"fill:#1f77b4;stroke:#1f77b4;\" x=\"138.6117\" xlink:href=\"#m089f024421\" y=\"71.398633\"/>\n     <use style=\"fill:#1f77b4;stroke:#1f77b4;\" x=\"169.961188\" xlink:href=\"#m089f024421\" y=\"86.127703\"/>\n     <use style=\"fill:#1f77b4;stroke:#1f77b4;\" x=\"136.352509\" xlink:href=\"#m089f024421\" y=\"62.630694\"/>\n     <use style=\"fill:#1f77b4;stroke:#1f77b4;\" x=\"102.996165\" xlink:href=\"#m089f024421\" y=\"56.288537\"/>\n     <use style=\"fill:#1f77b4;stroke:#1f77b4;\" x=\"156.872601\" xlink:href=\"#m089f024421\" y=\"92.166969\"/>\n     <use style=\"fill:#1f77b4;stroke:#1f77b4;\" x=\"115.469384\" xlink:href=\"#m089f024421\" y=\"63.910925\"/>\n     <use style=\"fill:#1f77b4;stroke:#1f77b4;\" x=\"126.511497\" xlink:href=\"#m089f024421\" y=\"51.948919\"/>\n     <use style=\"fill:#1f77b4;stroke:#1f77b4;\" x=\"113.65678\" xlink:href=\"#m089f024421\" y=\"54.440233\"/>\n     <use style=\"fill:#1f77b4;stroke:#1f77b4;\" x=\"130.281906\" xlink:href=\"#m089f024421\" y=\"65.367015\"/>\n     <use style=\"fill:#1f77b4;stroke:#1f77b4;\" x=\"120.407885\" xlink:href=\"#m089f024421\" y=\"64.639722\"/>\n     <use style=\"fill:#1f77b4;stroke:#1f77b4;\" x=\"100.729025\" xlink:href=\"#m089f024421\" y=\"55.812836\"/>\n     <use style=\"fill:#1f77b4;stroke:#1f77b4;\" x=\"127.813426\" xlink:href=\"#m089f024421\" y=\"67.456859\"/>\n     <use style=\"fill:#1f77b4;stroke:#1f77b4;\" x=\"148.774748\" xlink:href=\"#m089f024421\" y=\"75.072554\"/>\n     <use style=\"fill:#1f77b4;stroke:#1f77b4;\" x=\"165.221198\" xlink:href=\"#m089f024421\" y=\"89.228448\"/>\n     <use style=\"fill:#1f77b4;stroke:#1f77b4;\" x=\"166.62805\" xlink:href=\"#m089f024421\" y=\"93.245291\"/>\n     <use style=\"fill:#1f77b4;stroke:#1f77b4;\" x=\"141.841474\" xlink:href=\"#m089f024421\" y=\"79.44\"/>\n     <use style=\"fill:#1f77b4;stroke:#1f77b4;\" x=\"150.296622\" xlink:href=\"#m089f024421\" y=\"72.147346\"/>\n     <use style=\"fill:#1f77b4;stroke:#1f77b4;\" x=\"136.960803\" xlink:href=\"#m089f024421\" y=\"80.77399\"/>\n     <use style=\"fill:#1f77b4;stroke:#1f77b4;\" x=\"131.696783\" xlink:href=\"#m089f024421\" y=\"76.647417\"/>\n     <use style=\"fill:#1f77b4;stroke:#1f77b4;\" x=\"96.74865\" xlink:href=\"#m089f024421\" y=\"36.445502\"/>\n     <use style=\"fill:#1f77b4;stroke:#1f77b4;\" x=\"165.852941\" xlink:href=\"#m089f024421\" y=\"92.056541\"/>\n     <use style=\"fill:#1f77b4;stroke:#1f77b4;\" x=\"130.186186\" xlink:href=\"#m089f024421\" y=\"79.088945\"/>\n     <use style=\"fill:#1f77b4;stroke:#1f77b4;\" x=\"155.232894\" xlink:href=\"#m089f024421\" y=\"93.086754\"/>\n     <use style=\"fill:#1f77b4;stroke:#1f77b4;\" x=\"140.039202\" xlink:href=\"#m089f024421\" y=\"79.873418\"/>\n     <use style=\"fill:#1f77b4;stroke:#1f77b4;\" x=\"83.501011\" xlink:href=\"#m089f024421\" y=\"48.761121\"/>\n     <use style=\"fill:#1f77b4;stroke:#1f77b4;\" x=\"73.485115\" xlink:href=\"#m089f024421\" y=\"31.754107\"/>\n     <use style=\"fill:#1f77b4;stroke:#1f77b4;\" x=\"140.564023\" xlink:href=\"#m089f024421\" y=\"83.970788\"/>\n     <use style=\"fill:#1f77b4;stroke:#1f77b4;\" x=\"99.710343\" xlink:href=\"#m089f024421\" y=\"67.192357\"/>\n     <use style=\"fill:#1f77b4;stroke:#1f77b4;\" x=\"146.983536\" xlink:href=\"#m089f024421\" y=\"79.427131\"/>\n     <use style=\"fill:#1f77b4;stroke:#1f77b4;\" x=\"178.262543\" xlink:href=\"#m089f024421\" y=\"98.464478\"/>\n     <use style=\"fill:#1f77b4;stroke:#1f77b4;\" x=\"122.632973\" xlink:href=\"#m089f024421\" y=\"66.781214\"/>\n     <use style=\"fill:#1f77b4;stroke:#1f77b4;\" x=\"136.724617\" xlink:href=\"#m089f024421\" y=\"63.68615\"/>\n     <use style=\"fill:#1f77b4;stroke:#1f77b4;\" x=\"100.380121\" xlink:href=\"#m089f024421\" y=\"52.12996\"/>\n     <use style=\"fill:#1f77b4;stroke:#1f77b4;\" x=\"184.270983\" xlink:href=\"#m089f024421\" y=\"90.858094\"/>\n     <use style=\"fill:#1f77b4;stroke:#1f77b4;\" x=\"141.20765\" xlink:href=\"#m089f024421\" y=\"75.937042\"/>\n     <use style=\"fill:#1f77b4;stroke:#1f77b4;\" x=\"161.220768\" xlink:href=\"#m089f024421\" y=\"88.184036\"/>\n     <use style=\"fill:#1f77b4;stroke:#1f77b4;\" x=\"93.78201\" xlink:href=\"#m089f024421\" y=\"48.205789\"/>\n     <use style=\"fill:#1f77b4;stroke:#1f77b4;\" x=\"111.7198\" xlink:href=\"#m089f024421\" y=\"54.166405\"/>\n     <use style=\"fill:#1f77b4;stroke:#1f77b4;\" x=\"153.636845\" xlink:href=\"#m089f024421\" y=\"88.776234\"/>\n     <use style=\"fill:#1f77b4;stroke:#1f77b4;\" x=\"119.688403\" xlink:href=\"#m089f024421\" y=\"64.827425\"/>\n     <use style=\"fill:#1f77b4;stroke:#1f77b4;\" x=\"91.182166\" xlink:href=\"#m089f024421\" y=\"45.231329\"/>\n     <use style=\"fill:#1f77b4;stroke:#1f77b4;\" x=\"166.713388\" xlink:href=\"#m089f024421\" y=\"69.771883\"/>\n     <use style=\"fill:#1f77b4;stroke:#1f77b4;\" x=\"173.251512\" xlink:href=\"#m089f024421\" y=\"97.284993\"/>\n     <use style=\"fill:#1f77b4;stroke:#1f77b4;\" x=\"121.177032\" xlink:href=\"#m089f024421\" y=\"57.134449\"/>\n     <use style=\"fill:#1f77b4;stroke:#1f77b4;\" x=\"196.343516\" xlink:href=\"#m089f024421\" y=\"100.075293\"/>\n     <use style=\"fill:#1f77b4;stroke:#1f77b4;\" x=\"152.516113\" xlink:href=\"#m089f024421\" y=\"82.582176\"/>\n     <use style=\"fill:#1f77b4;stroke:#1f77b4;\" x=\"118.044086\" xlink:href=\"#m089f024421\" y=\"49.894884\"/>\n     <use style=\"fill:#1f77b4;stroke:#1f77b4;\" x=\"131.642785\" xlink:href=\"#m089f024421\" y=\"66.171361\"/>\n     <use style=\"fill:#1f77b4;stroke:#1f77b4;\" x=\"85.682034\" xlink:href=\"#m089f024421\" y=\"31.533171\"/>\n     <use style=\"fill:#1f77b4;stroke:#1f77b4;\" x=\"114.950535\" xlink:href=\"#m089f024421\" y=\"44.570404\"/>\n     <use style=\"fill:#1f77b4;stroke:#1f77b4;\" x=\"143.862201\" xlink:href=\"#m089f024421\" y=\"73.027856\"/>\n     <use style=\"fill:#1f77b4;stroke:#1f77b4;\" x=\"191.835839\" xlink:href=\"#m089f024421\" y=\"94.188912\"/>\n     <use style=\"fill:#1f77b4;stroke:#1f77b4;\" x=\"80.624884\" xlink:href=\"#m089f024421\" y=\"17.592841\"/>\n     <use style=\"fill:#1f77b4;stroke:#1f77b4;\" x=\"174.927687\" xlink:href=\"#m089f024421\" y=\"92.744605\"/>\n     <use style=\"fill:#1f77b4;stroke:#1f77b4;\" x=\"113.242761\" xlink:href=\"#m089f024421\" y=\"71.029798\"/>\n     <use style=\"fill:#1f77b4;stroke:#1f77b4;\" x=\"135.081677\" xlink:href=\"#m089f024421\" y=\"49.264984\"/>\n     <use style=\"fill:#1f77b4;stroke:#1f77b4;\" x=\"126.480081\" xlink:href=\"#m089f024421\" y=\"62.261457\"/>\n     <use style=\"fill:#1f77b4;stroke:#1f77b4;\" x=\"109.512329\" xlink:href=\"#m089f024421\" y=\"47.901352\"/>\n     <use style=\"fill:#1f77b4;stroke:#1f77b4;\" x=\"127.120446\" xlink:href=\"#m089f024421\" y=\"65.083249\"/>\n     <use style=\"fill:#1f77b4;stroke:#1f77b4;\" x=\"145.362805\" xlink:href=\"#m089f024421\" y=\"59.267933\"/>\n     <use style=\"fill:#1f77b4;stroke:#1f77b4;\" x=\"174.231983\" xlink:href=\"#m089f024421\" y=\"88.144731\"/>\n     <use style=\"fill:#1f77b4;stroke:#1f77b4;\" x=\"149.566987\" xlink:href=\"#m089f024421\" y=\"65.897102\"/>\n     <use style=\"fill:#1f77b4;stroke:#1f77b4;\" x=\"107.595556\" xlink:href=\"#m089f024421\" y=\"66.723844\"/>\n     <use style=\"fill:#1f77b4;stroke:#1f77b4;\" x=\"146.537018\" xlink:href=\"#m089f024421\" y=\"76.891481\"/>\n     <use style=\"fill:#1f77b4;stroke:#1f77b4;\" x=\"129.18867\" xlink:href=\"#m089f024421\" y=\"66.937064\"/>\n     <use style=\"fill:#1f77b4;stroke:#1f77b4;\" x=\"116.607795\" xlink:href=\"#m089f024421\" y=\"61.371556\"/>\n     <use style=\"fill:#1f77b4;stroke:#1f77b4;\" x=\"102.659652\" xlink:href=\"#m089f024421\" y=\"51.308868\"/>\n     <use style=\"fill:#1f77b4;stroke:#1f77b4;\" x=\"130.02532\" xlink:href=\"#m089f024421\" y=\"64.673444\"/>\n     <use style=\"fill:#1f77b4;stroke:#1f77b4;\" x=\"136.458805\" xlink:href=\"#m089f024421\" y=\"71.223857\"/>\n     <use style=\"fill:#1f77b4;stroke:#1f77b4;\" x=\"136.238168\" xlink:href=\"#m089f024421\" y=\"84.172617\"/>\n     <use style=\"fill:#1f77b4;stroke:#1f77b4;\" x=\"135.947593\" xlink:href=\"#m089f024421\" y=\"76.119927\"/>\n     <use style=\"fill:#1f77b4;stroke:#1f77b4;\" x=\"52.464846\" xlink:href=\"#m089f024421\" y=\"20.266901\"/>\n     <use style=\"fill:#1f77b4;stroke:#1f77b4;\" x=\"134.746757\" xlink:href=\"#m089f024421\" y=\"55.819356\"/>\n     <use style=\"fill:#1f77b4;stroke:#1f77b4;\" x=\"153.018218\" xlink:href=\"#m089f024421\" y=\"85.172516\"/>\n     <use style=\"fill:#1f77b4;stroke:#1f77b4;\" x=\"152.112157\" xlink:href=\"#m089f024421\" y=\"90.821905\"/>\n     <use style=\"fill:#1f77b4;stroke:#1f77b4;\" x=\"137.981334\" xlink:href=\"#m089f024421\" y=\"66.106046\"/>\n     <use style=\"fill:#1f77b4;stroke:#1f77b4;\" x=\"189.707429\" xlink:href=\"#m089f024421\" y=\"108.496271\"/>\n     <use style=\"fill:#1f77b4;stroke:#1f77b4;\" x=\"150.099166\" xlink:href=\"#m089f024421\" y=\"82.517321\"/>\n     <use style=\"fill:#1f77b4;stroke:#1f77b4;\" x=\"111.749793\" xlink:href=\"#m089f024421\" y=\"63.915629\"/>\n     <use style=\"fill:#1f77b4;stroke:#1f77b4;\" x=\"188.26151\" xlink:href=\"#m089f024421\" y=\"96.890904\"/>\n     <use style=\"fill:#1f77b4;stroke:#1f77b4;\" x=\"139.285582\" xlink:href=\"#m089f024421\" y=\"73.595947\"/>\n     <use style=\"fill:#1f77b4;stroke:#1f77b4;\" x=\"136.986792\" xlink:href=\"#m089f024421\" y=\"78.718309\"/>\n     <use style=\"fill:#1f77b4;stroke:#1f77b4;\" x=\"86.556139\" xlink:href=\"#m089f024421\" y=\"51.479712\"/>\n     <use style=\"fill:#1f77b4;stroke:#1f77b4;\" x=\"92.186277\" xlink:href=\"#m089f024421\" y=\"48.873993\"/>\n     <use style=\"fill:#1f77b4;stroke:#1f77b4;\" x=\"49.40045\" xlink:href=\"#m089f024421\" y=\"23.319417\"/>\n     <use style=\"fill:#1f77b4;stroke:#1f77b4;\" x=\"141.161323\" xlink:href=\"#m089f024421\" y=\"66.514353\"/>\n     <use style=\"fill:#1f77b4;stroke:#1f77b4;\" x=\"102.063746\" xlink:href=\"#m089f024421\" y=\"50.384568\"/>\n     <use style=\"fill:#1f77b4;stroke:#1f77b4;\" x=\"127.400997\" xlink:href=\"#m089f024421\" y=\"69.196763\"/>\n     <use style=\"fill:#1f77b4;stroke:#1f77b4;\" x=\"79.429341\" xlink:href=\"#m089f024421\" y=\"36.306975\"/>\n     <use style=\"fill:#1f77b4;stroke:#1f77b4;\" x=\"140.384946\" xlink:href=\"#m089f024421\" y=\"56.839838\"/>\n     <use style=\"fill:#1f77b4;stroke:#1f77b4;\" x=\"125.316064\" xlink:href=\"#m089f024421\" y=\"62.339721\"/>\n     <use style=\"fill:#1f77b4;stroke:#1f77b4;\" x=\"149.661862\" xlink:href=\"#m089f024421\" y=\"72.105921\"/>\n     <use style=\"fill:#1f77b4;stroke:#1f77b4;\" x=\"105.382871\" xlink:href=\"#m089f024421\" y=\"57.620384\"/>\n     <use style=\"fill:#1f77b4;stroke:#1f77b4;\" x=\"103.423323\" xlink:href=\"#m089f024421\" y=\"70.948818\"/>\n     <use style=\"fill:#1f77b4;stroke:#1f77b4;\" x=\"150.061213\" xlink:href=\"#m089f024421\" y=\"61.349251\"/>\n     <use style=\"fill:#1f77b4;stroke:#1f77b4;\" x=\"99.274147\" xlink:href=\"#m089f024421\" y=\"49.915282\"/>\n     <use style=\"fill:#1f77b4;stroke:#1f77b4;\" x=\"102.559954\" xlink:href=\"#m089f024421\" y=\"48.578241\"/>\n     <use style=\"fill:#1f77b4;stroke:#1f77b4;\" x=\"126.423907\" xlink:href=\"#m089f024421\" y=\"72.261524\"/>\n     <use style=\"fill:#1f77b4;stroke:#1f77b4;\" x=\"156.85377\" xlink:href=\"#m089f024421\" y=\"90.142165\"/>\n     <use style=\"fill:#1f77b4;stroke:#1f77b4;\" x=\"142.137826\" xlink:href=\"#m089f024421\" y=\"67.874068\"/>\n     <use style=\"fill:#1f77b4;stroke:#1f77b4;\" x=\"113.702252\" xlink:href=\"#m089f024421\" y=\"62.927083\"/>\n     <use style=\"fill:#1f77b4;stroke:#1f77b4;\" x=\"146.88471\" xlink:href=\"#m089f024421\" y=\"88.650117\"/>\n     <use style=\"fill:#1f77b4;stroke:#1f77b4;\" x=\"146.651347\" xlink:href=\"#m089f024421\" y=\"85.727054\"/>\n     <use style=\"fill:#1f77b4;stroke:#1f77b4;\" x=\"175.409892\" xlink:href=\"#m089f024421\" y=\"96.316309\"/>\n     <use style=\"fill:#1f77b4;stroke:#1f77b4;\" x=\"145.921137\" xlink:href=\"#m089f024421\" y=\"74.263189\"/>\n     <use style=\"fill:#1f77b4;stroke:#1f77b4;\" x=\"154.362586\" xlink:href=\"#m089f024421\" y=\"91.414309\"/>\n     <use style=\"fill:#1f77b4;stroke:#1f77b4;\" x=\"158.189527\" xlink:href=\"#m089f024421\" y=\"95.614899\"/>\n     <use style=\"fill:#1f77b4;stroke:#1f77b4;\" x=\"108.61216\" xlink:href=\"#m089f024421\" y=\"38.715573\"/>\n     <use style=\"fill:#1f77b4;stroke:#1f77b4;\" x=\"120.025711\" xlink:href=\"#m089f024421\" y=\"62.727801\"/>\n     <use style=\"fill:#1f77b4;stroke:#1f77b4;\" x=\"122.536225\" xlink:href=\"#m089f024421\" y=\"66.299211\"/>\n     <use style=\"fill:#1f77b4;stroke:#1f77b4;\" x=\"112.867673\" xlink:href=\"#m089f024421\" y=\"58.865854\"/>\n     <use style=\"fill:#1f77b4;stroke:#1f77b4;\" x=\"176.86536\" xlink:href=\"#m089f024421\" y=\"102.982308\"/>\n     <use style=\"fill:#1f77b4;stroke:#1f77b4;\" x=\"91.247703\" xlink:href=\"#m089f024421\" y=\"39.134362\"/>\n     <use style=\"fill:#1f77b4;stroke:#1f77b4;\" x=\"143.002862\" xlink:href=\"#m089f024421\" y=\"63.700157\"/>\n     <use style=\"fill:#1f77b4;stroke:#1f77b4;\" x=\"137.988781\" xlink:href=\"#m089f024421\" y=\"52.703599\"/>\n     <use style=\"fill:#1f77b4;stroke:#1f77b4;\" x=\"182.074303\" xlink:href=\"#m089f024421\" y=\"104.813108\"/>\n     <use style=\"fill:#1f77b4;stroke:#1f77b4;\" x=\"126.230207\" xlink:href=\"#m089f024421\" y=\"60.256666\"/>\n     <use style=\"fill:#1f77b4;stroke:#1f77b4;\" x=\"205.783753\" xlink:href=\"#m089f024421\" y=\"102.434124\"/>\n     <use style=\"fill:#1f77b4;stroke:#1f77b4;\" x=\"99.893813\" xlink:href=\"#m089f024421\" y=\"35.505137\"/>\n     <use style=\"fill:#1f77b4;stroke:#1f77b4;\" x=\"92.82191\" xlink:href=\"#m089f024421\" y=\"41.755913\"/>\n     <use style=\"fill:#1f77b4;stroke:#1f77b4;\" x=\"126.312658\" xlink:href=\"#m089f024421\" y=\"50.762891\"/>\n     <use style=\"fill:#1f77b4;stroke:#1f77b4;\" x=\"127.150148\" xlink:href=\"#m089f024421\" y=\"72.471619\"/>\n     <use style=\"fill:#1f77b4;stroke:#1f77b4;\" x=\"140.564843\" xlink:href=\"#m089f024421\" y=\"82.316046\"/>\n     <use style=\"fill:#1f77b4;stroke:#1f77b4;\" x=\"160.924828\" xlink:href=\"#m089f024421\" y=\"82.487896\"/>\n     <use style=\"fill:#1f77b4;stroke:#1f77b4;\" x=\"119.890084\" xlink:href=\"#m089f024421\" y=\"59.724323\"/>\n     <use style=\"fill:#1f77b4;stroke:#1f77b4;\" x=\"160.431733\" xlink:href=\"#m089f024421\" y=\"77.404952\"/>\n     <use style=\"fill:#1f77b4;stroke:#1f77b4;\" x=\"146.093231\" xlink:href=\"#m089f024421\" y=\"79.16785\"/>\n     <use style=\"fill:#1f77b4;stroke:#1f77b4;\" x=\"142.422812\" xlink:href=\"#m089f024421\" y=\"75.102325\"/>\n     <use style=\"fill:#1f77b4;stroke:#1f77b4;\" x=\"145.70803\" xlink:href=\"#m089f024421\" y=\"79.91797\"/>\n     <use style=\"fill:#1f77b4;stroke:#1f77b4;\" x=\"117.445925\" xlink:href=\"#m089f024421\" y=\"56.860742\"/>\n     <use style=\"fill:#1f77b4;stroke:#1f77b4;\" x=\"124.622517\" xlink:href=\"#m089f024421\" y=\"77.268342\"/>\n     <use style=\"fill:#1f77b4;stroke:#1f77b4;\" x=\"84.53488\" xlink:href=\"#m089f024421\" y=\"38.283216\"/>\n     <use style=\"fill:#1f77b4;stroke:#1f77b4;\" x=\"76.137391\" xlink:href=\"#m089f024421\" y=\"38.936955\"/>\n     <use style=\"fill:#1f77b4;stroke:#1f77b4;\" x=\"177.444368\" xlink:href=\"#m089f024421\" y=\"97.762508\"/>\n     <use style=\"fill:#1f77b4;stroke:#1f77b4;\" x=\"193.777246\" xlink:href=\"#m089f024421\" y=\"112.406137\"/>\n     <use style=\"fill:#1f77b4;stroke:#1f77b4;\" x=\"157.287205\" xlink:href=\"#m089f024421\" y=\"74.623816\"/>\n     <use style=\"fill:#1f77b4;stroke:#1f77b4;\" x=\"159.841739\" xlink:href=\"#m089f024421\" y=\"73.849946\"/>\n     <use style=\"fill:#1f77b4;stroke:#1f77b4;\" x=\"87.197145\" xlink:href=\"#m089f024421\" y=\"29.614455\"/>\n     <use style=\"fill:#1f77b4;stroke:#1f77b4;\" x=\"161.362289\" xlink:href=\"#m089f024421\" y=\"94.416026\"/>\n     <use style=\"fill:#1f77b4;stroke:#1f77b4;\" x=\"135.827029\" xlink:href=\"#m089f024421\" y=\"69.547972\"/>\n     <use style=\"fill:#1f77b4;stroke:#1f77b4;\" x=\"131.162926\" xlink:href=\"#m089f024421\" y=\"76.476474\"/>\n     <use style=\"fill:#1f77b4;stroke:#1f77b4;\" x=\"140.512821\" xlink:href=\"#m089f024421\" y=\"58.853371\"/>\n     <use style=\"fill:#1f77b4;stroke:#1f77b4;\" x=\"114.719899\" xlink:href=\"#m089f024421\" y=\"68.298628\"/>\n     <use style=\"fill:#1f77b4;stroke:#1f77b4;\" x=\"147.651492\" xlink:href=\"#m089f024421\" y=\"87.651825\"/>\n     <use style=\"fill:#1f77b4;stroke:#1f77b4;\" x=\"147.655518\" xlink:href=\"#m089f024421\" y=\"81.485204\"/>\n     <use style=\"fill:#1f77b4;stroke:#1f77b4;\" x=\"125.8163\" xlink:href=\"#m089f024421\" y=\"72.070355\"/>\n     <use style=\"fill:#1f77b4;stroke:#1f77b4;\" x=\"152.687128\" xlink:href=\"#m089f024421\" y=\"71.787748\"/>\n     <use style=\"fill:#1f77b4;stroke:#1f77b4;\" x=\"138.04657\" xlink:href=\"#m089f024421\" y=\"85.445012\"/>\n     <use style=\"fill:#1f77b4;stroke:#1f77b4;\" x=\"154.683763\" xlink:href=\"#m089f024421\" y=\"79.495036\"/>\n     <use style=\"fill:#1f77b4;stroke:#1f77b4;\" x=\"154.757088\" xlink:href=\"#m089f024421\" y=\"97.769194\"/>\n     <use style=\"fill:#1f77b4;stroke:#1f77b4;\" x=\"175.263352\" xlink:href=\"#m089f024421\" y=\"104.235999\"/>\n     <use style=\"fill:#1f77b4;stroke:#1f77b4;\" x=\"79.893256\" xlink:href=\"#m089f024421\" y=\"38.637898\"/>\n     <use style=\"fill:#1f77b4;stroke:#1f77b4;\" x=\"138.161742\" xlink:href=\"#m089f024421\" y=\"73.505201\"/>\n     <use style=\"fill:#1f77b4;stroke:#1f77b4;\" x=\"190.064944\" xlink:href=\"#m089f024421\" y=\"107.204985\"/>\n     <use style=\"fill:#1f77b4;stroke:#1f77b4;\" x=\"113.545238\" xlink:href=\"#m089f024421\" y=\"65.223301\"/>\n     <use style=\"fill:#1f77b4;stroke:#1f77b4;\" x=\"168.331066\" xlink:href=\"#m089f024421\" y=\"105.78157\"/>\n     <use style=\"fill:#1f77b4;stroke:#1f77b4;\" x=\"159.998204\" xlink:href=\"#m089f024421\" y=\"89.726506\"/>\n     <use style=\"fill:#1f77b4;stroke:#1f77b4;\" x=\"135.925496\" xlink:href=\"#m089f024421\" y=\"70.560281\"/>\n     <use style=\"fill:#1f77b4;stroke:#1f77b4;\" x=\"136.016821\" xlink:href=\"#m089f024421\" y=\"82.510633\"/>\n     <use style=\"fill:#1f77b4;stroke:#1f77b4;\" x=\"144.665619\" xlink:href=\"#m089f024421\" y=\"72.223198\"/>\n     <use style=\"fill:#1f77b4;stroke:#1f77b4;\" x=\"159.085947\" xlink:href=\"#m089f024421\" y=\"91.018413\"/>\n     <use style=\"fill:#1f77b4;stroke:#1f77b4;\" x=\"108.518052\" xlink:href=\"#m089f024421\" y=\"64.813671\"/>\n     <use style=\"fill:#1f77b4;stroke:#1f77b4;\" x=\"178.897469\" xlink:href=\"#m089f024421\" y=\"101.462529\"/>\n     <use style=\"fill:#1f77b4;stroke:#1f77b4;\" x=\"87.469413\" xlink:href=\"#m089f024421\" y=\"46.9581\"/>\n     <use style=\"fill:#1f77b4;stroke:#1f77b4;\" x=\"156.680046\" xlink:href=\"#m089f024421\" y=\"92.649092\"/>\n     <use style=\"fill:#1f77b4;stroke:#1f77b4;\" x=\"173.282473\" xlink:href=\"#m089f024421\" y=\"98.996276\"/>\n     <use style=\"fill:#1f77b4;stroke:#1f77b4;\" x=\"131.867922\" xlink:href=\"#m089f024421\" y=\"65.719891\"/>\n     <use style=\"fill:#1f77b4;stroke:#1f77b4;\" x=\"107.518708\" xlink:href=\"#m089f024421\" y=\"56.556253\"/>\n     <use style=\"fill:#1f77b4;stroke:#1f77b4;\" x=\"164.900329\" xlink:href=\"#m089f024421\" y=\"78.047572\"/>\n     <use style=\"fill:#1f77b4;stroke:#1f77b4;\" x=\"160.891597\" xlink:href=\"#m089f024421\" y=\"65.535181\"/>\n     <use style=\"fill:#1f77b4;stroke:#1f77b4;\" x=\"130.850416\" xlink:href=\"#m089f024421\" y=\"73.652695\"/>\n     <use style=\"fill:#1f77b4;stroke:#1f77b4;\" x=\"146.683273\" xlink:href=\"#m089f024421\" y=\"84.062887\"/>\n     <use style=\"fill:#1f77b4;stroke:#1f77b4;\" x=\"100.673596\" xlink:href=\"#m089f024421\" y=\"48.936803\"/>\n     <use style=\"fill:#1f77b4;stroke:#1f77b4;\" x=\"118.205476\" xlink:href=\"#m089f024421\" y=\"51.853329\"/>\n     <use style=\"fill:#1f77b4;stroke:#1f77b4;\" x=\"155.61753\" xlink:href=\"#m089f024421\" y=\"88.105425\"/>\n     <use style=\"fill:#1f77b4;stroke:#1f77b4;\" x=\"165.0443\" xlink:href=\"#m089f024421\" y=\"87.281861\"/>\n     <use style=\"fill:#1f77b4;stroke:#1f77b4;\" x=\"150.429935\" xlink:href=\"#m089f024421\" y=\"66.307648\"/>\n     <use style=\"fill:#1f77b4;stroke:#1f77b4;\" x=\"167.981575\" xlink:href=\"#m089f024421\" y=\"95.076573\"/>\n     <use style=\"fill:#1f77b4;stroke:#1f77b4;\" x=\"158.738729\" xlink:href=\"#m089f024421\" y=\"68.234346\"/>\n     <use style=\"fill:#1f77b4;stroke:#1f77b4;\" x=\"119.540962\" xlink:href=\"#m089f024421\" y=\"49.583105\"/>\n     <use style=\"fill:#1f77b4;stroke:#1f77b4;\" x=\"86.0219\" xlink:href=\"#m089f024421\" y=\"33.618086\"/>\n     <use style=\"fill:#1f77b4;stroke:#1f77b4;\" x=\"153.109072\" xlink:href=\"#m089f024421\" y=\"64.075447\"/>\n     <use style=\"fill:#1f77b4;stroke:#1f77b4;\" x=\"138.116117\" xlink:href=\"#m089f024421\" y=\"63.731483\"/>\n     <use style=\"fill:#1f77b4;stroke:#1f77b4;\" x=\"102.489635\" xlink:href=\"#m089f024421\" y=\"56.172852\"/>\n     <use style=\"fill:#1f77b4;stroke:#1f77b4;\" x=\"120.725996\" xlink:href=\"#m089f024421\" y=\"71.926881\"/>\n     <use style=\"fill:#1f77b4;stroke:#1f77b4;\" x=\"108.159005\" xlink:href=\"#m089f024421\" y=\"53.719133\"/>\n     <use style=\"fill:#1f77b4;stroke:#1f77b4;\" x=\"135.160066\" xlink:href=\"#m089f024421\" y=\"60.813093\"/>\n     <use style=\"fill:#1f77b4;stroke:#1f77b4;\" x=\"111.991157\" xlink:href=\"#m089f024421\" y=\"61.916257\"/>\n     <use style=\"fill:#1f77b4;stroke:#1f77b4;\" x=\"181.800393\" xlink:href=\"#m089f024421\" y=\"107.820419\"/>\n     <use style=\"fill:#1f77b4;stroke:#1f77b4;\" x=\"134.456457\" xlink:href=\"#m089f024421\" y=\"74.136021\"/>\n     <use style=\"fill:#1f77b4;stroke:#1f77b4;\" x=\"131.133402\" xlink:href=\"#m089f024421\" y=\"71.557007\"/>\n     <use style=\"fill:#1f77b4;stroke:#1f77b4;\" x=\"104.710252\" xlink:href=\"#m089f024421\" y=\"65.454831\"/>\n     <use style=\"fill:#1f77b4;stroke:#1f77b4;\" x=\"69.504291\" xlink:href=\"#m089f024421\" y=\"48.66777\"/>\n     <use style=\"fill:#1f77b4;stroke:#1f77b4;\" x=\"159.641608\" xlink:href=\"#m089f024421\" y=\"86.685585\"/>\n     <use style=\"fill:#1f77b4;stroke:#1f77b4;\" x=\"114.413184\" xlink:href=\"#m089f024421\" y=\"64.197666\"/>\n     <use style=\"fill:#1f77b4;stroke:#1f77b4;\" x=\"119.920656\" xlink:href=\"#m089f024421\" y=\"78.215711\"/>\n     <use style=\"fill:#1f77b4;stroke:#1f77b4;\" x=\"132.329418\" xlink:href=\"#m089f024421\" y=\"65.908673\"/>\n     <use style=\"fill:#1f77b4;stroke:#1f77b4;\" x=\"108.764133\" xlink:href=\"#m089f024421\" y=\"48.216693\"/>\n     <use style=\"fill:#1f77b4;stroke:#1f77b4;\" x=\"143.860669\" xlink:href=\"#m089f024421\" y=\"75.419257\"/>\n     <use style=\"fill:#1f77b4;stroke:#1f77b4;\" x=\"76.256329\" xlink:href=\"#m089f024421\" y=\"21.338086\"/>\n     <use style=\"fill:#1f77b4;stroke:#1f77b4;\" x=\"158.710057\" xlink:href=\"#m089f024421\" y=\"83.013578\"/>\n     <use style=\"fill:#1f77b4;stroke:#1f77b4;\" x=\"145.394429\" xlink:href=\"#m089f024421\" y=\"79.369023\"/>\n     <use style=\"fill:#1f77b4;stroke:#1f77b4;\" x=\"129.769826\" xlink:href=\"#m089f024421\" y=\"73.434796\"/>\n     <use style=\"fill:#1f77b4;stroke:#1f77b4;\" x=\"152.851893\" xlink:href=\"#m089f024421\" y=\"84.620275\"/>\n     <use style=\"fill:#1f77b4;stroke:#1f77b4;\" x=\"126.129172\" xlink:href=\"#m089f024421\" y=\"68.159478\"/>\n     <use style=\"fill:#1f77b4;stroke:#1f77b4;\" x=\"118.116439\" xlink:href=\"#m089f024421\" y=\"59.680724\"/>\n     <use style=\"fill:#1f77b4;stroke:#1f77b4;\" x=\"147.421659\" xlink:href=\"#m089f024421\" y=\"91.280246\"/>\n     <use style=\"fill:#1f77b4;stroke:#1f77b4;\" x=\"220.306988\" xlink:href=\"#m089f024421\" y=\"136.906788\"/>\n     <use style=\"fill:#1f77b4;stroke:#1f77b4;\" x=\"168.958766\" xlink:href=\"#m089f024421\" y=\"91.592135\"/>\n     <use style=\"fill:#1f77b4;stroke:#1f77b4;\" x=\"115.614038\" xlink:href=\"#m089f024421\" y=\"59.548548\"/>\n     <use style=\"fill:#1f77b4;stroke:#1f77b4;\" x=\"141.409445\" xlink:href=\"#m089f024421\" y=\"77.100008\"/>\n     <use style=\"fill:#1f77b4;stroke:#1f77b4;\" x=\"154.483836\" xlink:href=\"#m089f024421\" y=\"83.566643\"/>\n     <use style=\"fill:#1f77b4;stroke:#1f77b4;\" x=\"146.501772\" xlink:href=\"#m089f024421\" y=\"70.696566\"/>\n     <use style=\"fill:#1f77b4;stroke:#1f77b4;\" x=\"126.520514\" xlink:href=\"#m089f024421\" y=\"74.987881\"/>\n     <use style=\"fill:#1f77b4;stroke:#1f77b4;\" x=\"130.652482\" xlink:href=\"#m089f024421\" y=\"58.473853\"/>\n     <use style=\"fill:#1f77b4;stroke:#1f77b4;\" x=\"114.308445\" xlink:href=\"#m089f024421\" y=\"57.457621\"/>\n     <use style=\"fill:#1f77b4;stroke:#1f77b4;\" x=\"113.153629\" xlink:href=\"#m089f024421\" y=\"55.744371\"/>\n     <use style=\"fill:#1f77b4;stroke:#1f77b4;\" x=\"56.940924\" xlink:href=\"#m089f024421\" y=\"33.03368\"/>\n     <use style=\"fill:#1f77b4;stroke:#1f77b4;\" x=\"121.789294\" xlink:href=\"#m089f024421\" y=\"66.665771\"/>\n     <use style=\"fill:#1f77b4;stroke:#1f77b4;\" x=\"132.511286\" xlink:href=\"#m089f024421\" y=\"76.690271\"/>\n     <use style=\"fill:#1f77b4;stroke:#1f77b4;\" x=\"93.852708\" xlink:href=\"#m089f024421\" y=\"42.398245\"/>\n     <use style=\"fill:#1f77b4;stroke:#1f77b4;\" x=\"147.764999\" xlink:href=\"#m089f024421\" y=\"76.588862\"/>\n     <use style=\"fill:#1f77b4;stroke:#1f77b4;\" x=\"106.422447\" xlink:href=\"#m089f024421\" y=\"52.716651\"/>\n     <use style=\"fill:#1f77b4;stroke:#1f77b4;\" x=\"140.420243\" xlink:href=\"#m089f024421\" y=\"83.977932\"/>\n     <use style=\"fill:#1f77b4;stroke:#1f77b4;\" x=\"149.969226\" xlink:href=\"#m089f024421\" y=\"83.317957\"/>\n     <use style=\"fill:#1f77b4;stroke:#1f77b4;\" x=\"139.815947\" xlink:href=\"#m089f024421\" y=\"68.91259\"/>\n     <use style=\"fill:#1f77b4;stroke:#1f77b4;\" x=\"114.853326\" xlink:href=\"#m089f024421\" y=\"54.744575\"/>\n     <use style=\"fill:#1f77b4;stroke:#1f77b4;\" x=\"144.435861\" xlink:href=\"#m089f024421\" y=\"77.1789\"/>\n     <use style=\"fill:#1f77b4;stroke:#1f77b4;\" x=\"136.817297\" xlink:href=\"#m089f024421\" y=\"81.180543\"/>\n     <use style=\"fill:#1f77b4;stroke:#1f77b4;\" x=\"160.319651\" xlink:href=\"#m089f024421\" y=\"85.676562\"/>\n     <use style=\"fill:#1f77b4;stroke:#1f77b4;\" x=\"153.474643\" xlink:href=\"#m089f024421\" y=\"72.359916\"/>\n     <use style=\"fill:#1f77b4;stroke:#1f77b4;\" x=\"77.025187\" xlink:href=\"#m089f024421\" y=\"37.284703\"/>\n     <use style=\"fill:#1f77b4;stroke:#1f77b4;\" x=\"136.908587\" xlink:href=\"#m089f024421\" y=\"67.448063\"/>\n     <use style=\"fill:#1f77b4;stroke:#1f77b4;\" x=\"168.500906\" xlink:href=\"#m089f024421\" y=\"82.310201\"/>\n     <use style=\"fill:#1f77b4;stroke:#1f77b4;\" x=\"151.670559\" xlink:href=\"#m089f024421\" y=\"66.838355\"/>\n     <use style=\"fill:#1f77b4;stroke:#1f77b4;\" x=\"131.608956\" xlink:href=\"#m089f024421\" y=\"86.628354\"/>\n     <use style=\"fill:#1f77b4;stroke:#1f77b4;\" x=\"131.31763\" xlink:href=\"#m089f024421\" y=\"60.831245\"/>\n     <use style=\"fill:#1f77b4;stroke:#1f77b4;\" x=\"116.453117\" xlink:href=\"#m089f024421\" y=\"64.275901\"/>\n     <use style=\"fill:#1f77b4;stroke:#1f77b4;\" x=\"114.315586\" xlink:href=\"#m089f024421\" y=\"61.150699\"/>\n     <use style=\"fill:#1f77b4;stroke:#1f77b4;\" x=\"60.357077\" xlink:href=\"#m089f024421\" y=\"20.309482\"/>\n     <use style=\"fill:#1f77b4;stroke:#1f77b4;\" x=\"161.834408\" xlink:href=\"#m089f024421\" y=\"93.725424\"/>\n     <use style=\"fill:#1f77b4;stroke:#1f77b4;\" x=\"87.747108\" xlink:href=\"#m089f024421\" y=\"48.078716\"/>\n     <use style=\"fill:#1f77b4;stroke:#1f77b4;\" x=\"147.263644\" xlink:href=\"#m089f024421\" y=\"63.985045\"/>\n     <use style=\"fill:#1f77b4;stroke:#1f77b4;\" x=\"154.813576\" xlink:href=\"#m089f024421\" y=\"93.612561\"/>\n     <use style=\"fill:#1f77b4;stroke:#1f77b4;\" x=\"118.66933\" xlink:href=\"#m089f024421\" y=\"62.182608\"/>\n     <use style=\"fill:#1f77b4;stroke:#1f77b4;\" x=\"128.390797\" xlink:href=\"#m089f024421\" y=\"67.285516\"/>\n     <use style=\"fill:#1f77b4;stroke:#1f77b4;\" x=\"197.652529\" xlink:href=\"#m089f024421\" y=\"90.354385\"/>\n     <use style=\"fill:#1f77b4;stroke:#1f77b4;\" x=\"160.657386\" xlink:href=\"#m089f024421\" y=\"85.273693\"/>\n     <use style=\"fill:#1f77b4;stroke:#1f77b4;\" x=\"127.559305\" xlink:href=\"#m089f024421\" y=\"76.239433\"/>\n     <use style=\"fill:#1f77b4;stroke:#1f77b4;\" x=\"153.55399\" xlink:href=\"#m089f024421\" y=\"85.665153\"/>\n     <use style=\"fill:#1f77b4;stroke:#1f77b4;\" x=\"164.03277\" xlink:href=\"#m089f024421\" y=\"90.878297\"/>\n     <use style=\"fill:#1f77b4;stroke:#1f77b4;\" x=\"164.884391\" xlink:href=\"#m089f024421\" y=\"94.35287\"/>\n     <use style=\"fill:#1f77b4;stroke:#1f77b4;\" x=\"181.987724\" xlink:href=\"#m089f024421\" y=\"92.941736\"/>\n     <use style=\"fill:#1f77b4;stroke:#1f77b4;\" x=\"152.151818\" xlink:href=\"#m089f024421\" y=\"86.249566\"/>\n     <use style=\"fill:#1f77b4;stroke:#1f77b4;\" x=\"199.337423\" xlink:href=\"#m089f024421\" y=\"109.789103\"/>\n     <use style=\"fill:#1f77b4;stroke:#1f77b4;\" x=\"100.373874\" xlink:href=\"#m089f024421\" y=\"70.22968\"/>\n     <use style=\"fill:#1f77b4;stroke:#1f77b4;\" x=\"170.403337\" xlink:href=\"#m089f024421\" y=\"88.770244\"/>\n     <use style=\"fill:#1f77b4;stroke:#1f77b4;\" x=\"145.744714\" xlink:href=\"#m089f024421\" y=\"76.339736\"/>\n     <use style=\"fill:#1f77b4;stroke:#1f77b4;\" x=\"104.55469\" xlink:href=\"#m089f024421\" y=\"40.764998\"/>\n     <use style=\"fill:#1f77b4;stroke:#1f77b4;\" x=\"108.394711\" xlink:href=\"#m089f024421\" y=\"54.719516\"/>\n     <use style=\"fill:#1f77b4;stroke:#1f77b4;\" x=\"152.56184\" xlink:href=\"#m089f024421\" y=\"77.923309\"/>\n     <use style=\"fill:#1f77b4;stroke:#1f77b4;\" x=\"161.071822\" xlink:href=\"#m089f024421\" y=\"77.348545\"/>\n     <use style=\"fill:#1f77b4;stroke:#1f77b4;\" x=\"156.790516\" xlink:href=\"#m089f024421\" y=\"90.457674\"/>\n     <use style=\"fill:#1f77b4;stroke:#1f77b4;\" x=\"118.017213\" xlink:href=\"#m089f024421\" y=\"72.128417\"/>\n     <use style=\"fill:#1f77b4;stroke:#1f77b4;\" x=\"127.707926\" xlink:href=\"#m089f024421\" y=\"84.809926\"/>\n     <use style=\"fill:#1f77b4;stroke:#1f77b4;\" x=\"107.488869\" xlink:href=\"#m089f024421\" y=\"59.988024\"/>\n     <use style=\"fill:#1f77b4;stroke:#1f77b4;\" x=\"149.550007\" xlink:href=\"#m089f024421\" y=\"80.664131\"/>\n     <use style=\"fill:#1f77b4;stroke:#1f77b4;\" x=\"97.031373\" xlink:href=\"#m089f024421\" y=\"45.017177\"/>\n     <use style=\"fill:#1f77b4;stroke:#1f77b4;\" x=\"129.476056\" xlink:href=\"#m089f024421\" y=\"85.941626\"/>\n     <use style=\"fill:#1f77b4;stroke:#1f77b4;\" x=\"136.531873\" xlink:href=\"#m089f024421\" y=\"73.72123\"/>\n     <use style=\"fill:#1f77b4;stroke:#1f77b4;\" x=\"155.905837\" xlink:href=\"#m089f024421\" y=\"72.849387\"/>\n     <use style=\"fill:#1f77b4;stroke:#1f77b4;\" x=\"133.995246\" xlink:href=\"#m089f024421\" y=\"85.399916\"/>\n     <use style=\"fill:#1f77b4;stroke:#1f77b4;\" x=\"111.404034\" xlink:href=\"#m089f024421\" y=\"55.322064\"/>\n     <use style=\"fill:#1f77b4;stroke:#1f77b4;\" x=\"127.819682\" xlink:href=\"#m089f024421\" y=\"67.021335\"/>\n     <use style=\"fill:#1f77b4;stroke:#1f77b4;\" x=\"163.838179\" xlink:href=\"#m089f024421\" y=\"89.810135\"/>\n     <use style=\"fill:#1f77b4;stroke:#1f77b4;\" x=\"142.283059\" xlink:href=\"#m089f024421\" y=\"82.307573\"/>\n     <use style=\"fill:#1f77b4;stroke:#1f77b4;\" x=\"152.707403\" xlink:href=\"#m089f024421\" y=\"97.320498\"/>\n     <use style=\"fill:#1f77b4;stroke:#1f77b4;\" x=\"121.814274\" xlink:href=\"#m089f024421\" y=\"70.449737\"/>\n     <use style=\"fill:#1f77b4;stroke:#1f77b4;\" x=\"96.866189\" xlink:href=\"#m089f024421\" y=\"36.443758\"/>\n     <use style=\"fill:#1f77b4;stroke:#1f77b4;\" x=\"144.83277\" xlink:href=\"#m089f024421\" y=\"68.065064\"/>\n     <use style=\"fill:#1f77b4;stroke:#1f77b4;\" x=\"143.494294\" xlink:href=\"#m089f024421\" y=\"67.728152\"/>\n     <use style=\"fill:#1f77b4;stroke:#1f77b4;\" x=\"138.689908\" xlink:href=\"#m089f024421\" y=\"72.298956\"/>\n     <use style=\"fill:#1f77b4;stroke:#1f77b4;\" x=\"116.175376\" xlink:href=\"#m089f024421\" y=\"47.398704\"/>\n     <use style=\"fill:#1f77b4;stroke:#1f77b4;\" x=\"145.179649\" xlink:href=\"#m089f024421\" y=\"68.337736\"/>\n     <use style=\"fill:#1f77b4;stroke:#1f77b4;\" x=\"157.428303\" xlink:href=\"#m089f024421\" y=\"75.995287\"/>\n     <use style=\"fill:#1f77b4;stroke:#1f77b4;\" x=\"112.701381\" xlink:href=\"#m089f024421\" y=\"59.674983\"/>\n     <use style=\"fill:#1f77b4;stroke:#1f77b4;\" x=\"127.475301\" xlink:href=\"#m089f024421\" y=\"62.960516\"/>\n     <use style=\"fill:#1f77b4;stroke:#1f77b4;\" x=\"120.099011\" xlink:href=\"#m089f024421\" y=\"70.292718\"/>\n     <use style=\"fill:#1f77b4;stroke:#1f77b4;\" x=\"119.570499\" xlink:href=\"#m089f024421\" y=\"56.126375\"/>\n     <use style=\"fill:#1f77b4;stroke:#1f77b4;\" x=\"53.159383\" xlink:href=\"#m089f024421\" y=\"27.782517\"/>\n     <use style=\"fill:#1f77b4;stroke:#1f77b4;\" x=\"83.729281\" xlink:href=\"#m089f024421\" y=\"54.340296\"/>\n     <use style=\"fill:#1f77b4;stroke:#1f77b4;\" x=\"151.655811\" xlink:href=\"#m089f024421\" y=\"97.792883\"/>\n     <use style=\"fill:#1f77b4;stroke:#1f77b4;\" x=\"107.73905\" xlink:href=\"#m089f024421\" y=\"46.422844\"/>\n     <use style=\"fill:#1f77b4;stroke:#1f77b4;\" x=\"58.735759\" xlink:href=\"#m089f024421\" y=\"22.210287\"/>\n     <use style=\"fill:#1f77b4;stroke:#1f77b4;\" x=\"68.077123\" xlink:href=\"#m089f024421\" y=\"39.331239\"/>\n     <use style=\"fill:#1f77b4;stroke:#1f77b4;\" x=\"159.812537\" xlink:href=\"#m089f024421\" y=\"89.790354\"/>\n     <use style=\"fill:#1f77b4;stroke:#1f77b4;\" x=\"115.406067\" xlink:href=\"#m089f024421\" y=\"70.72418\"/>\n     <use style=\"fill:#1f77b4;stroke:#1f77b4;\" x=\"124.864008\" xlink:href=\"#m089f024421\" y=\"55.485843\"/>\n     <use style=\"fill:#1f77b4;stroke:#1f77b4;\" x=\"175.135259\" xlink:href=\"#m089f024421\" y=\"86.617551\"/>\n     <use style=\"fill:#1f77b4;stroke:#1f77b4;\" x=\"87.31012\" xlink:href=\"#m089f024421\" y=\"48.963873\"/>\n     <use style=\"fill:#1f77b4;stroke:#1f77b4;\" x=\"111.498324\" xlink:href=\"#m089f024421\" y=\"62.795715\"/>\n     <use style=\"fill:#1f77b4;stroke:#1f77b4;\" x=\"114.335744\" xlink:href=\"#m089f024421\" y=\"61.566866\"/>\n     <use style=\"fill:#1f77b4;stroke:#1f77b4;\" x=\"142.917156\" xlink:href=\"#m089f024421\" y=\"80.888609\"/>\n     <use style=\"fill:#1f77b4;stroke:#1f77b4;\" x=\"99.121107\" xlink:href=\"#m089f024421\" y=\"56.503478\"/>\n     <use style=\"fill:#1f77b4;stroke:#1f77b4;\" x=\"152.183977\" xlink:href=\"#m089f024421\" y=\"90.808315\"/>\n     <use style=\"fill:#1f77b4;stroke:#1f77b4;\" x=\"121.378752\" xlink:href=\"#m089f024421\" y=\"56.627576\"/>\n     <use style=\"fill:#1f77b4;stroke:#1f77b4;\" x=\"113.760529\" xlink:href=\"#m089f024421\" y=\"52.558487\"/>\n     <use style=\"fill:#1f77b4;stroke:#1f77b4;\" x=\"171.460326\" xlink:href=\"#m089f024421\" y=\"75.357906\"/>\n     <use style=\"fill:#1f77b4;stroke:#1f77b4;\" x=\"155.94487\" xlink:href=\"#m089f024421\" y=\"90.126025\"/>\n     <use style=\"fill:#1f77b4;stroke:#1f77b4;\" x=\"93.840936\" xlink:href=\"#m089f024421\" y=\"49.775673\"/>\n     <use style=\"fill:#1f77b4;stroke:#1f77b4;\" x=\"112.149227\" xlink:href=\"#m089f024421\" y=\"55.237281\"/>\n     <use style=\"fill:#1f77b4;stroke:#1f77b4;\" x=\"158.010785\" xlink:href=\"#m089f024421\" y=\"96.014932\"/>\n     <use style=\"fill:#1f77b4;stroke:#1f77b4;\" x=\"153.499149\" xlink:href=\"#m089f024421\" y=\"75.728775\"/>\n     <use style=\"fill:#1f77b4;stroke:#1f77b4;\" x=\"155.851226\" xlink:href=\"#m089f024421\" y=\"93.414261\"/>\n     <use style=\"fill:#1f77b4;stroke:#1f77b4;\" x=\"129.875695\" xlink:href=\"#m089f024421\" y=\"78.90938\"/>\n     <use style=\"fill:#1f77b4;stroke:#1f77b4;\" x=\"119.967592\" xlink:href=\"#m089f024421\" y=\"59.66773\"/>\n     <use style=\"fill:#1f77b4;stroke:#1f77b4;\" x=\"110.310885\" xlink:href=\"#m089f024421\" y=\"81.299195\"/>\n     <use style=\"fill:#1f77b4;stroke:#1f77b4;\" x=\"131.527909\" xlink:href=\"#m089f024421\" y=\"68.467148\"/>\n     <use style=\"fill:#1f77b4;stroke:#1f77b4;\" x=\"170.650737\" xlink:href=\"#m089f024421\" y=\"103.951229\"/>\n     <use style=\"fill:#1f77b4;stroke:#1f77b4;\" x=\"139.968696\" xlink:href=\"#m089f024421\" y=\"68.104951\"/>\n     <use style=\"fill:#1f77b4;stroke:#1f77b4;\" x=\"111.135667\" xlink:href=\"#m089f024421\" y=\"59.989282\"/>\n     <use style=\"fill:#1f77b4;stroke:#1f77b4;\" x=\"159.049642\" xlink:href=\"#m089f024421\" y=\"99.618024\"/>\n     <use style=\"fill:#1f77b4;stroke:#1f77b4;\" x=\"158.021862\" xlink:href=\"#m089f024421\" y=\"90.782703\"/>\n     <use style=\"fill:#1f77b4;stroke:#1f77b4;\" x=\"71.843468\" xlink:href=\"#m089f024421\" y=\"46.606793\"/>\n     <use style=\"fill:#1f77b4;stroke:#1f77b4;\" x=\"136.686998\" xlink:href=\"#m089f024421\" y=\"66.568733\"/>\n     <use style=\"fill:#1f77b4;stroke:#1f77b4;\" x=\"123.267027\" xlink:href=\"#m089f024421\" y=\"56.534917\"/>\n     <use style=\"fill:#1f77b4;stroke:#1f77b4;\" x=\"159.584522\" xlink:href=\"#m089f024421\" y=\"77.63139\"/>\n     <use style=\"fill:#1f77b4;stroke:#1f77b4;\" x=\"147.036477\" xlink:href=\"#m089f024421\" y=\"83.438366\"/>\n     <use style=\"fill:#1f77b4;stroke:#1f77b4;\" x=\"143.444767\" xlink:href=\"#m089f024421\" y=\"70.185774\"/>\n     <use style=\"fill:#1f77b4;stroke:#1f77b4;\" x=\"127.121197\" xlink:href=\"#m089f024421\" y=\"54.308751\"/>\n     <use style=\"fill:#1f77b4;stroke:#1f77b4;\" x=\"145.253546\" xlink:href=\"#m089f024421\" y=\"68.336398\"/>\n     <use style=\"fill:#1f77b4;stroke:#1f77b4;\" x=\"145.92299\" xlink:href=\"#m089f024421\" y=\"79.22368\"/>\n     <use style=\"fill:#1f77b4;stroke:#1f77b4;\" x=\"178.85104\" xlink:href=\"#m089f024421\" y=\"104.793445\"/>\n     <use style=\"fill:#1f77b4;stroke:#1f77b4;\" x=\"141.385873\" xlink:href=\"#m089f024421\" y=\"82.727062\"/>\n     <use style=\"fill:#1f77b4;stroke:#1f77b4;\" x=\"90.317171\" xlink:href=\"#m089f024421\" y=\"42.614611\"/>\n     <use style=\"fill:#1f77b4;stroke:#1f77b4;\" x=\"133.718901\" xlink:href=\"#m089f024421\" y=\"66.017655\"/>\n     <use style=\"fill:#1f77b4;stroke:#1f77b4;\" x=\"122.562264\" xlink:href=\"#m089f024421\" y=\"54.372757\"/>\n     <use style=\"fill:#1f77b4;stroke:#1f77b4;\" x=\"142.170058\" xlink:href=\"#m089f024421\" y=\"80.715591\"/>\n     <use style=\"fill:#1f77b4;stroke:#1f77b4;\" x=\"146.763877\" xlink:href=\"#m089f024421\" y=\"70.76427\"/>\n     <use style=\"fill:#1f77b4;stroke:#1f77b4;\" x=\"122.961278\" xlink:href=\"#m089f024421\" y=\"84.738628\"/>\n     <use style=\"fill:#1f77b4;stroke:#1f77b4;\" x=\"134.383358\" xlink:href=\"#m089f024421\" y=\"90.40444\"/>\n     <use style=\"fill:#1f77b4;stroke:#1f77b4;\" x=\"119.857687\" xlink:href=\"#m089f024421\" y=\"58.057135\"/>\n     <use style=\"fill:#1f77b4;stroke:#1f77b4;\" x=\"171.425836\" xlink:href=\"#m089f024421\" y=\"102.515285\"/>\n     <use style=\"fill:#1f77b4;stroke:#1f77b4;\" x=\"177.976638\" xlink:href=\"#m089f024421\" y=\"89.20555\"/>\n     <use style=\"fill:#1f77b4;stroke:#1f77b4;\" x=\"141.562598\" xlink:href=\"#m089f024421\" y=\"58.714958\"/>\n     <use style=\"fill:#1f77b4;stroke:#1f77b4;\" x=\"151.365546\" xlink:href=\"#m089f024421\" y=\"77.594076\"/>\n     <use style=\"fill:#1f77b4;stroke:#1f77b4;\" x=\"126.502136\" xlink:href=\"#m089f024421\" y=\"74.180592\"/>\n     <use style=\"fill:#1f77b4;stroke:#1f77b4;\" x=\"106.007527\" xlink:href=\"#m089f024421\" y=\"50.482703\"/>\n     <use style=\"fill:#1f77b4;stroke:#1f77b4;\" x=\"125.048498\" xlink:href=\"#m089f024421\" y=\"60.554505\"/>\n     <use style=\"fill:#1f77b4;stroke:#1f77b4;\" x=\"128.863468\" xlink:href=\"#m089f024421\" y=\"73.639216\"/>\n     <use style=\"fill:#1f77b4;stroke:#1f77b4;\" x=\"142.84193\" xlink:href=\"#m089f024421\" y=\"69.50052\"/>\n     <use style=\"fill:#1f77b4;stroke:#1f77b4;\" x=\"110.315274\" xlink:href=\"#m089f024421\" y=\"62.370807\"/>\n     <use style=\"fill:#1f77b4;stroke:#1f77b4;\" x=\"84.582032\" xlink:href=\"#m089f024421\" y=\"34.774041\"/>\n     <use style=\"fill:#1f77b4;stroke:#1f77b4;\" x=\"139.906439\" xlink:href=\"#m089f024421\" y=\"72.652909\"/>\n     <use style=\"fill:#1f77b4;stroke:#1f77b4;\" x=\"137.655673\" xlink:href=\"#m089f024421\" y=\"68.851842\"/>\n     <use style=\"fill:#1f77b4;stroke:#1f77b4;\" x=\"144.459997\" xlink:href=\"#m089f024421\" y=\"76.021398\"/>\n     <use style=\"fill:#1f77b4;stroke:#1f77b4;\" x=\"141.852409\" xlink:href=\"#m089f024421\" y=\"92.746923\"/>\n     <use style=\"fill:#1f77b4;stroke:#1f77b4;\" x=\"181.82368\" xlink:href=\"#m089f024421\" y=\"109.132637\"/>\n     <use style=\"fill:#1f77b4;stroke:#1f77b4;\" x=\"131.779808\" xlink:href=\"#m089f024421\" y=\"65.379402\"/>\n     <use style=\"fill:#1f77b4;stroke:#1f77b4;\" x=\"131.213476\" xlink:href=\"#m089f024421\" y=\"56.649881\"/>\n     <use style=\"fill:#1f77b4;stroke:#1f77b4;\" x=\"161.837533\" xlink:href=\"#m089f024421\" y=\"86.045986\"/>\n     <use style=\"fill:#1f77b4;stroke:#1f77b4;\" x=\"140.947503\" xlink:href=\"#m089f024421\" y=\"75.597069\"/>\n     <use style=\"fill:#1f77b4;stroke:#1f77b4;\" x=\"183.425042\" xlink:href=\"#m089f024421\" y=\"96.186022\"/>\n     <use style=\"fill:#1f77b4;stroke:#1f77b4;\" x=\"131.709178\" xlink:href=\"#m089f024421\" y=\"74.681863\"/>\n     <use style=\"fill:#1f77b4;stroke:#1f77b4;\" x=\"121.456403\" xlink:href=\"#m089f024421\" y=\"49.60799\"/>\n     <use style=\"fill:#1f77b4;stroke:#1f77b4;\" x=\"119.117124\" xlink:href=\"#m089f024421\" y=\"57.088888\"/>\n     <use style=\"fill:#1f77b4;stroke:#1f77b4;\" x=\"177.910158\" xlink:href=\"#m089f024421\" y=\"92.276838\"/>\n     <use style=\"fill:#1f77b4;stroke:#1f77b4;\" x=\"134.237976\" xlink:href=\"#m089f024421\" y=\"76.442377\"/>\n     <use style=\"fill:#1f77b4;stroke:#1f77b4;\" x=\"161.764923\" xlink:href=\"#m089f024421\" y=\"87.914397\"/>\n     <use style=\"fill:#1f77b4;stroke:#1f77b4;\" x=\"150.696572\" xlink:href=\"#m089f024421\" y=\"74.831894\"/>\n     <use style=\"fill:#1f77b4;stroke:#1f77b4;\" x=\"143.148594\" xlink:href=\"#m089f024421\" y=\"79.948375\"/>\n     <use style=\"fill:#1f77b4;stroke:#1f77b4;\" x=\"135.119388\" xlink:href=\"#m089f024421\" y=\"69.195914\"/>\n     <use style=\"fill:#1f77b4;stroke:#1f77b4;\" x=\"128.940712\" xlink:href=\"#m089f024421\" y=\"55.702571\"/>\n     <use style=\"fill:#1f77b4;stroke:#1f77b4;\" x=\"116.139178\" xlink:href=\"#m089f024421\" y=\"55.101204\"/>\n     <use style=\"fill:#1f77b4;stroke:#1f77b4;\" x=\"186.339883\" xlink:href=\"#m089f024421\" y=\"101.487533\"/>\n     <use style=\"fill:#1f77b4;stroke:#1f77b4;\" x=\"146.631296\" xlink:href=\"#m089f024421\" y=\"71.252505\"/>\n     <use style=\"fill:#1f77b4;stroke:#1f77b4;\" x=\"106.218138\" xlink:href=\"#m089f024421\" y=\"57.717013\"/>\n     <use style=\"fill:#1f77b4;stroke:#1f77b4;\" x=\"160.99531\" xlink:href=\"#m089f024421\" y=\"97.06653\"/>\n     <use style=\"fill:#1f77b4;stroke:#1f77b4;\" x=\"89.302081\" xlink:href=\"#m089f024421\" y=\"59.06995\"/>\n     <use style=\"fill:#1f77b4;stroke:#1f77b4;\" x=\"134.931741\" xlink:href=\"#m089f024421\" y=\"67.037864\"/>\n     <use style=\"fill:#1f77b4;stroke:#1f77b4;\" x=\"126.924598\" xlink:href=\"#m089f024421\" y=\"73.6568\"/>\n     <use style=\"fill:#1f77b4;stroke:#1f77b4;\" x=\"171.04492\" xlink:href=\"#m089f024421\" y=\"94.545945\"/>\n     <use style=\"fill:#1f77b4;stroke:#1f77b4;\" x=\"122.00971\" xlink:href=\"#m089f024421\" y=\"61.37706\"/>\n     <use style=\"fill:#1f77b4;stroke:#1f77b4;\" x=\"109.39126\" xlink:href=\"#m089f024421\" y=\"48.148888\"/>\n     <use style=\"fill:#1f77b4;stroke:#1f77b4;\" x=\"117.567409\" xlink:href=\"#m089f024421\" y=\"70.437117\"/>\n     <use style=\"fill:#1f77b4;stroke:#1f77b4;\" x=\"175.986801\" xlink:href=\"#m089f024421\" y=\"85.75273\"/>\n     <use style=\"fill:#1f77b4;stroke:#1f77b4;\" x=\"137.178\" xlink:href=\"#m089f024421\" y=\"72.96627\"/>\n     <use style=\"fill:#1f77b4;stroke:#1f77b4;\" x=\"139.390808\" xlink:href=\"#m089f024421\" y=\"83.017728\"/>\n     <use style=\"fill:#1f77b4;stroke:#1f77b4;\" x=\"143.110153\" xlink:href=\"#m089f024421\" y=\"59.85026\"/>\n     <use style=\"fill:#1f77b4;stroke:#1f77b4;\" x=\"97.314368\" xlink:href=\"#m089f024421\" y=\"47.884611\"/>\n     <use style=\"fill:#1f77b4;stroke:#1f77b4;\" x=\"124.04278\" xlink:href=\"#m089f024421\" y=\"74.933579\"/>\n     <use style=\"fill:#1f77b4;stroke:#1f77b4;\" x=\"90.15576\" xlink:href=\"#m089f024421\" y=\"46.691633\"/>\n     <use style=\"fill:#1f77b4;stroke:#1f77b4;\" x=\"105.137019\" xlink:href=\"#m089f024421\" y=\"71.705146\"/>\n     <use style=\"fill:#1f77b4;stroke:#1f77b4;\" x=\"113.772539\" xlink:href=\"#m089f024421\" y=\"54.447337\"/>\n     <use style=\"fill:#1f77b4;stroke:#1f77b4;\" x=\"124.404066\" xlink:href=\"#m089f024421\" y=\"52.157799\"/>\n     <use style=\"fill:#1f77b4;stroke:#1f77b4;\" x=\"129.953592\" xlink:href=\"#m089f024421\" y=\"62.237917\"/>\n     <use style=\"fill:#1f77b4;stroke:#1f77b4;\" x=\"125.988267\" xlink:href=\"#m089f024421\" y=\"67.534768\"/>\n     <use style=\"fill:#1f77b4;stroke:#1f77b4;\" x=\"161.368126\" xlink:href=\"#m089f024421\" y=\"80.135956\"/>\n     <use style=\"fill:#1f77b4;stroke:#1f77b4;\" x=\"135.256149\" xlink:href=\"#m089f024421\" y=\"75.457249\"/>\n     <use style=\"fill:#1f77b4;stroke:#1f77b4;\" x=\"119.236026\" xlink:href=\"#m089f024421\" y=\"52.625585\"/>\n     <use style=\"fill:#1f77b4;stroke:#1f77b4;\" x=\"136.179978\" xlink:href=\"#m089f024421\" y=\"69.450934\"/>\n     <use style=\"fill:#1f77b4;stroke:#1f77b4;\" x=\"136.004451\" xlink:href=\"#m089f024421\" y=\"72.200283\"/>\n     <use style=\"fill:#1f77b4;stroke:#1f77b4;\" x=\"101.016625\" xlink:href=\"#m089f024421\" y=\"53.125553\"/>\n     <use style=\"fill:#1f77b4;stroke:#1f77b4;\" x=\"121.205254\" xlink:href=\"#m089f024421\" y=\"63.591091\"/>\n     <use style=\"fill:#1f77b4;stroke:#1f77b4;\" x=\"138.412559\" xlink:href=\"#m089f024421\" y=\"85.9623\"/>\n     <use style=\"fill:#1f77b4;stroke:#1f77b4;\" x=\"177.428957\" xlink:href=\"#m089f024421\" y=\"88.364704\"/>\n     <use style=\"fill:#1f77b4;stroke:#1f77b4;\" x=\"135.493575\" xlink:href=\"#m089f024421\" y=\"73.72875\"/>\n     <use style=\"fill:#1f77b4;stroke:#1f77b4;\" x=\"131.404857\" xlink:href=\"#m089f024421\" y=\"61.955458\"/>\n     <use style=\"fill:#1f77b4;stroke:#1f77b4;\" x=\"120.581082\" xlink:href=\"#m089f024421\" y=\"54.599159\"/>\n     <use style=\"fill:#1f77b4;stroke:#1f77b4;\" x=\"169.70654\" xlink:href=\"#m089f024421\" y=\"81.232778\"/>\n     <use style=\"fill:#1f77b4;stroke:#1f77b4;\" x=\"176.369916\" xlink:href=\"#m089f024421\" y=\"100.513778\"/>\n     <use style=\"fill:#1f77b4;stroke:#1f77b4;\" x=\"126.73203\" xlink:href=\"#m089f024421\" y=\"73.730505\"/>\n     <use style=\"fill:#1f77b4;stroke:#1f77b4;\" x=\"147.254731\" xlink:href=\"#m089f024421\" y=\"65.981293\"/>\n     <use style=\"fill:#1f77b4;stroke:#1f77b4;\" x=\"120.076541\" xlink:href=\"#m089f024421\" y=\"63.808381\"/>\n     <use style=\"fill:#1f77b4;stroke:#1f77b4;\" x=\"137.325673\" xlink:href=\"#m089f024421\" y=\"67.394054\"/>\n     <use style=\"fill:#1f77b4;stroke:#1f77b4;\" x=\"130.011733\" xlink:href=\"#m089f024421\" y=\"78.079195\"/>\n     <use style=\"fill:#1f77b4;stroke:#1f77b4;\" x=\"148.286209\" xlink:href=\"#m089f024421\" y=\"74.760469\"/>\n     <use style=\"fill:#1f77b4;stroke:#1f77b4;\" x=\"95.287512\" xlink:href=\"#m089f024421\" y=\"52.109178\"/>\n     <use style=\"fill:#1f77b4;stroke:#1f77b4;\" x=\"111.262549\" xlink:href=\"#m089f024421\" y=\"62.336527\"/>\n     <use style=\"fill:#1f77b4;stroke:#1f77b4;\" x=\"67.033859\" xlink:href=\"#m089f024421\" y=\"31.428277\"/>\n     <use style=\"fill:#1f77b4;stroke:#1f77b4;\" x=\"95.903141\" xlink:href=\"#m089f024421\" y=\"53.145147\"/>\n     <use style=\"fill:#1f77b4;stroke:#1f77b4;\" x=\"112.052798\" xlink:href=\"#m089f024421\" y=\"57.72056\"/>\n     <use style=\"fill:#1f77b4;stroke:#1f77b4;\" x=\"94.545638\" xlink:href=\"#m089f024421\" y=\"36.295428\"/>\n     <use style=\"fill:#1f77b4;stroke:#1f77b4;\" x=\"129.378688\" xlink:href=\"#m089f024421\" y=\"64.240967\"/>\n     <use style=\"fill:#1f77b4;stroke:#1f77b4;\" x=\"187.07552\" xlink:href=\"#m089f024421\" y=\"85.242123\"/>\n     <use style=\"fill:#1f77b4;stroke:#1f77b4;\" x=\"152.206186\" xlink:href=\"#m089f024421\" y=\"90.764818\"/>\n     <use style=\"fill:#1f77b4;stroke:#1f77b4;\" x=\"123.766652\" xlink:href=\"#m089f024421\" y=\"66.883939\"/>\n     <use style=\"fill:#1f77b4;stroke:#1f77b4;\" x=\"127.877981\" xlink:href=\"#m089f024421\" y=\"67.955312\"/>\n     <use style=\"fill:#1f77b4;stroke:#1f77b4;\" x=\"143.703675\" xlink:href=\"#m089f024421\" y=\"63.378794\"/>\n     <use style=\"fill:#1f77b4;stroke:#1f77b4;\" x=\"148.310257\" xlink:href=\"#m089f024421\" y=\"88.40769\"/>\n     <use style=\"fill:#1f77b4;stroke:#1f77b4;\" x=\"128.9538\" xlink:href=\"#m089f024421\" y=\"87.522714\"/>\n     <use style=\"fill:#1f77b4;stroke:#1f77b4;\" x=\"132.303615\" xlink:href=\"#m089f024421\" y=\"66.66053\"/>\n     <use style=\"fill:#1f77b4;stroke:#1f77b4;\" x=\"186.928506\" xlink:href=\"#m089f024421\" y=\"104.907506\"/>\n     <use style=\"fill:#1f77b4;stroke:#1f77b4;\" x=\"97.599487\" xlink:href=\"#m089f024421\" y=\"46.584697\"/>\n     <use style=\"fill:#1f77b4;stroke:#1f77b4;\" x=\"108.346041\" xlink:href=\"#m089f024421\" y=\"67.412925\"/>\n     <use style=\"fill:#1f77b4;stroke:#1f77b4;\" x=\"149.136437\" xlink:href=\"#m089f024421\" y=\"76.330419\"/>\n     <use style=\"fill:#1f77b4;stroke:#1f77b4;\" x=\"132.993147\" xlink:href=\"#m089f024421\" y=\"65.2439\"/>\n     <use style=\"fill:#1f77b4;stroke:#1f77b4;\" x=\"142.047429\" xlink:href=\"#m089f024421\" y=\"73.051626\"/>\n     <use style=\"fill:#1f77b4;stroke:#1f77b4;\" x=\"117.893269\" xlink:href=\"#m089f024421\" y=\"75.221447\"/>\n     <use style=\"fill:#1f77b4;stroke:#1f77b4;\" x=\"102.261365\" xlink:href=\"#m089f024421\" y=\"57.001468\"/>\n     <use style=\"fill:#1f77b4;stroke:#1f77b4;\" x=\"157.798996\" xlink:href=\"#m089f024421\" y=\"86.691439\"/>\n     <use style=\"fill:#1f77b4;stroke:#1f77b4;\" x=\"86.962779\" xlink:href=\"#m089f024421\" y=\"55.366647\"/>\n     <use style=\"fill:#1f77b4;stroke:#1f77b4;\" x=\"147.118794\" xlink:href=\"#m089f024421\" y=\"66.558425\"/>\n     <use style=\"fill:#1f77b4;stroke:#1f77b4;\" x=\"85.842242\" xlink:href=\"#m089f024421\" y=\"30.877444\"/>\n     <use style=\"fill:#1f77b4;stroke:#1f77b4;\" x=\"187.569625\" xlink:href=\"#m089f024421\" y=\"97.264219\"/>\n     <use style=\"fill:#1f77b4;stroke:#1f77b4;\" x=\"103.304925\" xlink:href=\"#m089f024421\" y=\"63.132957\"/>\n     <use style=\"fill:#1f77b4;stroke:#1f77b4;\" x=\"118.230434\" xlink:href=\"#m089f024421\" y=\"55.359232\"/>\n     <use style=\"fill:#1f77b4;stroke:#1f77b4;\" x=\"149.931761\" xlink:href=\"#m089f024421\" y=\"93.046619\"/>\n     <use style=\"fill:#1f77b4;stroke:#1f77b4;\" x=\"163.221774\" xlink:href=\"#m089f024421\" y=\"90.796769\"/>\n     <use style=\"fill:#1f77b4;stroke:#1f77b4;\" x=\"134.13598\" xlink:href=\"#m089f024421\" y=\"86.534323\"/>\n     <use style=\"fill:#1f77b4;stroke:#1f77b4;\" x=\"180.755567\" xlink:href=\"#m089f024421\" y=\"99.48022\"/>\n     <use style=\"fill:#1f77b4;stroke:#1f77b4;\" x=\"111.954863\" xlink:href=\"#m089f024421\" y=\"46.450724\"/>\n     <use style=\"fill:#1f77b4;stroke:#1f77b4;\" x=\"158.826056\" xlink:href=\"#m089f024421\" y=\"86.181881\"/>\n     <use style=\"fill:#1f77b4;stroke:#1f77b4;\" x=\"158.602091\" xlink:href=\"#m089f024421\" y=\"82.739257\"/>\n     <use style=\"fill:#1f77b4;stroke:#1f77b4;\" x=\"156.194708\" xlink:href=\"#m089f024421\" y=\"62.590489\"/>\n     <use style=\"fill:#1f77b4;stroke:#1f77b4;\" x=\"123.539493\" xlink:href=\"#m089f024421\" y=\"58.81092\"/>\n     <use style=\"fill:#1f77b4;stroke:#1f77b4;\" x=\"141.917779\" xlink:href=\"#m089f024421\" y=\"75.336637\"/>\n     <use style=\"fill:#1f77b4;stroke:#1f77b4;\" x=\"190.075494\" xlink:href=\"#m089f024421\" y=\"100.702947\"/>\n     <use style=\"fill:#1f77b4;stroke:#1f77b4;\" x=\"120.509074\" xlink:href=\"#m089f024421\" y=\"60.132762\"/>\n     <use style=\"fill:#1f77b4;stroke:#1f77b4;\" x=\"168.288975\" xlink:href=\"#m089f024421\" y=\"95.374205\"/>\n     <use style=\"fill:#1f77b4;stroke:#1f77b4;\" x=\"162.756565\" xlink:href=\"#m089f024421\" y=\"82.850413\"/>\n     <use style=\"fill:#1f77b4;stroke:#1f77b4;\" x=\"199.845367\" xlink:href=\"#m089f024421\" y=\"114.61425\"/>\n     <use style=\"fill:#1f77b4;stroke:#1f77b4;\" x=\"91.354453\" xlink:href=\"#m089f024421\" y=\"52.314096\"/>\n     <use style=\"fill:#1f77b4;stroke:#1f77b4;\" x=\"149.041929\" xlink:href=\"#m089f024421\" y=\"94.280161\"/>\n     <use style=\"fill:#1f77b4;stroke:#1f77b4;\" x=\"120.279926\" xlink:href=\"#m089f024421\" y=\"65.948948\"/>\n     <use style=\"fill:#1f77b4;stroke:#1f77b4;\" x=\"171.061736\" xlink:href=\"#m089f024421\" y=\"80.88384\"/>\n     <use style=\"fill:#1f77b4;stroke:#1f77b4;\" x=\"161.583425\" xlink:href=\"#m089f024421\" y=\"83.837424\"/>\n     <use style=\"fill:#1f77b4;stroke:#1f77b4;\" x=\"173.284743\" xlink:href=\"#m089f024421\" y=\"95.920208\"/>\n     <use style=\"fill:#1f77b4;stroke:#1f77b4;\" x=\"143.939313\" xlink:href=\"#m089f024421\" y=\"80.431506\"/>\n     <use style=\"fill:#1f77b4;stroke:#1f77b4;\" x=\"81.96457\" xlink:href=\"#m089f024421\" y=\"31.968581\"/>\n     <use style=\"fill:#1f77b4;stroke:#1f77b4;\" x=\"126.953016\" xlink:href=\"#m089f024421\" y=\"63.705553\"/>\n     <use style=\"fill:#1f77b4;stroke:#1f77b4;\" x=\"155.772658\" xlink:href=\"#m089f024421\" y=\"87.589512\"/>\n     <use style=\"fill:#1f77b4;stroke:#1f77b4;\" x=\"149.671406\" xlink:href=\"#m089f024421\" y=\"67.49806\"/>\n     <use style=\"fill:#1f77b4;stroke:#1f77b4;\" x=\"143.982699\" xlink:href=\"#m089f024421\" y=\"80.097087\"/>\n     <use style=\"fill:#1f77b4;stroke:#1f77b4;\" x=\"120.027937\" xlink:href=\"#m089f024421\" y=\"75.469313\"/>\n     <use style=\"fill:#1f77b4;stroke:#1f77b4;\" x=\"157.952572\" xlink:href=\"#m089f024421\" y=\"78.986395\"/>\n     <use style=\"fill:#1f77b4;stroke:#1f77b4;\" x=\"179.996552\" xlink:href=\"#m089f024421\" y=\"86.53654\"/>\n     <use style=\"fill:#1f77b4;stroke:#1f77b4;\" x=\"187.561203\" xlink:href=\"#m089f024421\" y=\"109.07373\"/>\n     <use style=\"fill:#1f77b4;stroke:#1f77b4;\" x=\"143.180851\" xlink:href=\"#m089f024421\" y=\"75.70327\"/>\n     <use style=\"fill:#1f77b4;stroke:#1f77b4;\" x=\"144.993057\" xlink:href=\"#m089f024421\" y=\"76.697554\"/>\n     <use style=\"fill:#1f77b4;stroke:#1f77b4;\" x=\"109.363228\" xlink:href=\"#m089f024421\" y=\"50.53924\"/>\n     <use style=\"fill:#1f77b4;stroke:#1f77b4;\" x=\"148.73376\" xlink:href=\"#m089f024421\" y=\"72.203595\"/>\n     <use style=\"fill:#1f77b4;stroke:#1f77b4;\" x=\"136.902915\" xlink:href=\"#m089f024421\" y=\"61.505428\"/>\n     <use style=\"fill:#1f77b4;stroke:#1f77b4;\" x=\"98.178457\" xlink:href=\"#m089f024421\" y=\"49.503744\"/>\n     <use style=\"fill:#1f77b4;stroke:#1f77b4;\" x=\"101.09363\" xlink:href=\"#m089f024421\" y=\"46.600232\"/>\n     <use style=\"fill:#1f77b4;stroke:#1f77b4;\" x=\"149.263468\" xlink:href=\"#m089f024421\" y=\"93.468551\"/>\n     <use style=\"fill:#1f77b4;stroke:#1f77b4;\" x=\"140.629863\" xlink:href=\"#m089f024421\" y=\"56.64836\"/>\n     <use style=\"fill:#1f77b4;stroke:#1f77b4;\" x=\"97.045035\" xlink:href=\"#m089f024421\" y=\"47.841762\"/>\n     <use style=\"fill:#1f77b4;stroke:#1f77b4;\" x=\"141.994143\" xlink:href=\"#m089f024421\" y=\"73.084449\"/>\n     <use style=\"fill:#1f77b4;stroke:#1f77b4;\" x=\"146.846117\" xlink:href=\"#m089f024421\" y=\"82.213256\"/>\n     <use style=\"fill:#1f77b4;stroke:#1f77b4;\" x=\"116.084397\" xlink:href=\"#m089f024421\" y=\"59.571805\"/>\n     <use style=\"fill:#1f77b4;stroke:#1f77b4;\" x=\"132.856713\" xlink:href=\"#m089f024421\" y=\"52.555686\"/>\n     <use style=\"fill:#1f77b4;stroke:#1f77b4;\" x=\"121.656869\" xlink:href=\"#m089f024421\" y=\"47.484361\"/>\n     <use style=\"fill:#1f77b4;stroke:#1f77b4;\" x=\"139.586414\" xlink:href=\"#m089f024421\" y=\"72.212755\"/>\n     <use style=\"fill:#1f77b4;stroke:#1f77b4;\" x=\"157.063638\" xlink:href=\"#m089f024421\" y=\"94.417852\"/>\n     <use style=\"fill:#1f77b4;stroke:#1f77b4;\" x=\"172.681725\" xlink:href=\"#m089f024421\" y=\"90.975659\"/>\n     <use style=\"fill:#1f77b4;stroke:#1f77b4;\" x=\"111.929831\" xlink:href=\"#m089f024421\" y=\"45.823667\"/>\n     <use style=\"fill:#1f77b4;stroke:#1f77b4;\" x=\"149.051792\" xlink:href=\"#m089f024421\" y=\"79.458862\"/>\n     <use style=\"fill:#1f77b4;stroke:#1f77b4;\" x=\"99.654068\" xlink:href=\"#m089f024421\" y=\"50.706614\"/>\n     <use style=\"fill:#1f77b4;stroke:#1f77b4;\" x=\"103.753501\" xlink:href=\"#m089f024421\" y=\"45.976881\"/>\n     <use style=\"fill:#1f77b4;stroke:#1f77b4;\" x=\"113.469707\" xlink:href=\"#m089f024421\" y=\"71.170834\"/>\n     <use style=\"fill:#1f77b4;stroke:#1f77b4;\" x=\"123.539496\" xlink:href=\"#m089f024421\" y=\"66.766985\"/>\n     <use style=\"fill:#1f77b4;stroke:#1f77b4;\" x=\"144.707158\" xlink:href=\"#m089f024421\" y=\"89.534471\"/>\n     <use style=\"fill:#1f77b4;stroke:#1f77b4;\" x=\"162.651273\" xlink:href=\"#m089f024421\" y=\"91.639592\"/>\n     <use style=\"fill:#1f77b4;stroke:#1f77b4;\" x=\"138.931463\" xlink:href=\"#m089f024421\" y=\"76.036343\"/>\n     <use style=\"fill:#1f77b4;stroke:#1f77b4;\" x=\"118.670642\" xlink:href=\"#m089f024421\" y=\"65.026872\"/>\n     <use style=\"fill:#1f77b4;stroke:#1f77b4;\" x=\"124.335049\" xlink:href=\"#m089f024421\" y=\"75.853435\"/>\n     <use style=\"fill:#1f77b4;stroke:#1f77b4;\" x=\"140.422637\" xlink:href=\"#m089f024421\" y=\"75.200021\"/>\n     <use style=\"fill:#1f77b4;stroke:#1f77b4;\" x=\"119.21868\" xlink:href=\"#m089f024421\" y=\"58.917895\"/>\n     <use style=\"fill:#1f77b4;stroke:#1f77b4;\" x=\"144.637705\" xlink:href=\"#m089f024421\" y=\"62.415941\"/>\n     <use style=\"fill:#1f77b4;stroke:#1f77b4;\" x=\"114.238535\" xlink:href=\"#m089f024421\" y=\"83.549279\"/>\n     <use style=\"fill:#1f77b4;stroke:#1f77b4;\" x=\"136.439748\" xlink:href=\"#m089f024421\" y=\"66.760419\"/>\n     <use style=\"fill:#1f77b4;stroke:#1f77b4;\" x=\"121.471104\" xlink:href=\"#m089f024421\" y=\"44.705609\"/>\n     <use style=\"fill:#1f77b4;stroke:#1f77b4;\" x=\"136.063842\" xlink:href=\"#m089f024421\" y=\"80.231206\"/>\n     <use style=\"fill:#1f77b4;stroke:#1f77b4;\" x=\"143.05626\" xlink:href=\"#m089f024421\" y=\"77.577251\"/>\n     <use style=\"fill:#1f77b4;stroke:#1f77b4;\" x=\"143.643092\" xlink:href=\"#m089f024421\" y=\"78.240651\"/>\n     <use style=\"fill:#1f77b4;stroke:#1f77b4;\" x=\"117.368324\" xlink:href=\"#m089f024421\" y=\"62.056033\"/>\n     <use style=\"fill:#1f77b4;stroke:#1f77b4;\" x=\"150.437349\" xlink:href=\"#m089f024421\" y=\"92.294012\"/>\n     <use style=\"fill:#1f77b4;stroke:#1f77b4;\" x=\"154.120526\" xlink:href=\"#m089f024421\" y=\"79.807962\"/>\n     <use style=\"fill:#1f77b4;stroke:#1f77b4;\" x=\"92.151292\" xlink:href=\"#m089f024421\" y=\"39.229443\"/>\n     <use style=\"fill:#1f77b4;stroke:#1f77b4;\" x=\"109.734213\" xlink:href=\"#m089f024421\" y=\"58.437183\"/>\n     <use style=\"fill:#1f77b4;stroke:#1f77b4;\" x=\"147.461708\" xlink:href=\"#m089f024421\" y=\"81.658217\"/>\n     <use style=\"fill:#1f77b4;stroke:#1f77b4;\" x=\"145.612341\" xlink:href=\"#m089f024421\" y=\"76.982679\"/>\n     <use style=\"fill:#1f77b4;stroke:#1f77b4;\" x=\"107.353828\" xlink:href=\"#m089f024421\" y=\"48.735971\"/>\n     <use style=\"fill:#1f77b4;stroke:#1f77b4;\" x=\"147.688048\" xlink:href=\"#m089f024421\" y=\"85.433467\"/>\n     <use style=\"fill:#1f77b4;stroke:#1f77b4;\" x=\"148.198205\" xlink:href=\"#m089f024421\" y=\"76.635018\"/>\n     <use style=\"fill:#1f77b4;stroke:#1f77b4;\" x=\"111.875602\" xlink:href=\"#m089f024421\" y=\"51.255905\"/>\n     <use style=\"fill:#1f77b4;stroke:#1f77b4;\" x=\"172.382773\" xlink:href=\"#m089f024421\" y=\"88.513544\"/>\n     <use style=\"fill:#1f77b4;stroke:#1f77b4;\" x=\"132.430727\" xlink:href=\"#m089f024421\" y=\"63.053348\"/>\n     <use style=\"fill:#1f77b4;stroke:#1f77b4;\" x=\"144.47724\" xlink:href=\"#m089f024421\" y=\"65.824432\"/>\n     <use style=\"fill:#1f77b4;stroke:#1f77b4;\" x=\"98.013302\" xlink:href=\"#m089f024421\" y=\"55.687821\"/>\n     <use style=\"fill:#1f77b4;stroke:#1f77b4;\" x=\"140.869859\" xlink:href=\"#m089f024421\" y=\"79.059513\"/>\n     <use style=\"fill:#1f77b4;stroke:#1f77b4;\" x=\"85.593851\" xlink:href=\"#m089f024421\" y=\"50.411469\"/>\n     <use style=\"fill:#1f77b4;stroke:#1f77b4;\" x=\"113.277325\" xlink:href=\"#m089f024421\" y=\"72.654878\"/>\n     <use style=\"fill:#1f77b4;stroke:#1f77b4;\" x=\"130.183167\" xlink:href=\"#m089f024421\" y=\"72.114135\"/>\n     <use style=\"fill:#1f77b4;stroke:#1f77b4;\" x=\"134.890846\" xlink:href=\"#m089f024421\" y=\"70.685406\"/>\n     <use style=\"fill:#1f77b4;stroke:#1f77b4;\" x=\"130.551417\" xlink:href=\"#m089f024421\" y=\"64.34838\"/>\n     <use style=\"fill:#1f77b4;stroke:#1f77b4;\" x=\"135.132315\" xlink:href=\"#m089f024421\" y=\"62.960849\"/>\n     <use style=\"fill:#1f77b4;stroke:#1f77b4;\" x=\"207.971118\" xlink:href=\"#m089f024421\" y=\"121.340658\"/>\n     <use style=\"fill:#1f77b4;stroke:#1f77b4;\" x=\"160.010698\" xlink:href=\"#m089f024421\" y=\"82.449445\"/>\n     <use style=\"fill:#1f77b4;stroke:#1f77b4;\" x=\"77.731202\" xlink:href=\"#m089f024421\" y=\"34.608754\"/>\n     <use style=\"fill:#1f77b4;stroke:#1f77b4;\" x=\"159.95675\" xlink:href=\"#m089f024421\" y=\"89.172589\"/>\n     <use style=\"fill:#1f77b4;stroke:#1f77b4;\" x=\"118.244409\" xlink:href=\"#m089f024421\" y=\"56.133618\"/>\n     <use style=\"fill:#1f77b4;stroke:#1f77b4;\" x=\"99.367181\" xlink:href=\"#m089f024421\" y=\"52.247543\"/>\n     <use style=\"fill:#1f77b4;stroke:#1f77b4;\" x=\"145.127052\" xlink:href=\"#m089f024421\" y=\"76.020651\"/>\n     <use style=\"fill:#1f77b4;stroke:#1f77b4;\" x=\"150.769123\" xlink:href=\"#m089f024421\" y=\"80.508911\"/>\n     <use style=\"fill:#1f77b4;stroke:#1f77b4;\" x=\"149.625876\" xlink:href=\"#m089f024421\" y=\"80.791201\"/>\n     <use style=\"fill:#1f77b4;stroke:#1f77b4;\" x=\"68.997016\" xlink:href=\"#m089f024421\" y=\"27.211163\"/>\n     <use style=\"fill:#1f77b4;stroke:#1f77b4;\" x=\"98.420964\" xlink:href=\"#m089f024421\" y=\"41.573017\"/>\n     <use style=\"fill:#1f77b4;stroke:#1f77b4;\" x=\"124.963687\" xlink:href=\"#m089f024421\" y=\"68.067881\"/>\n     <use style=\"fill:#1f77b4;stroke:#1f77b4;\" x=\"159.263518\" xlink:href=\"#m089f024421\" y=\"70.783281\"/>\n     <use style=\"fill:#1f77b4;stroke:#1f77b4;\" x=\"136.725915\" xlink:href=\"#m089f024421\" y=\"72.67893\"/>\n     <use style=\"fill:#1f77b4;stroke:#1f77b4;\" x=\"117.986246\" xlink:href=\"#m089f024421\" y=\"56.418266\"/>\n     <use style=\"fill:#1f77b4;stroke:#1f77b4;\" x=\"180.286188\" xlink:href=\"#m089f024421\" y=\"98.886418\"/>\n     <use style=\"fill:#1f77b4;stroke:#1f77b4;\" x=\"156.728989\" xlink:href=\"#m089f024421\" y=\"83.181713\"/>\n     <use style=\"fill:#1f77b4;stroke:#1f77b4;\" x=\"157.251004\" xlink:href=\"#m089f024421\" y=\"79.208359\"/>\n     <use style=\"fill:#1f77b4;stroke:#1f77b4;\" x=\"146.511051\" xlink:href=\"#m089f024421\" y=\"76.122819\"/>\n     <use style=\"fill:#1f77b4;stroke:#1f77b4;\" x=\"123.367659\" xlink:href=\"#m089f024421\" y=\"61.943768\"/>\n     <use style=\"fill:#1f77b4;stroke:#1f77b4;\" x=\"150.246826\" xlink:href=\"#m089f024421\" y=\"85.983686\"/>\n     <use style=\"fill:#1f77b4;stroke:#1f77b4;\" x=\"117.174162\" xlink:href=\"#m089f024421\" y=\"60.912257\"/>\n     <use style=\"fill:#1f77b4;stroke:#1f77b4;\" x=\"153.350923\" xlink:href=\"#m089f024421\" y=\"90.268867\"/>\n     <use style=\"fill:#1f77b4;stroke:#1f77b4;\" x=\"198.076517\" xlink:href=\"#m089f024421\" y=\"97.312642\"/>\n     <use style=\"fill:#1f77b4;stroke:#1f77b4;\" x=\"97.715426\" xlink:href=\"#m089f024421\" y=\"40.040529\"/>\n     <use style=\"fill:#1f77b4;stroke:#1f77b4;\" x=\"139.734946\" xlink:href=\"#m089f024421\" y=\"78.498662\"/>\n     <use style=\"fill:#1f77b4;stroke:#1f77b4;\" x=\"130.050442\" xlink:href=\"#m089f024421\" y=\"76.362179\"/>\n     <use style=\"fill:#1f77b4;stroke:#1f77b4;\" x=\"78.866117\" xlink:href=\"#m089f024421\" y=\"57.059774\"/>\n     <use style=\"fill:#1f77b4;stroke:#1f77b4;\" x=\"138.721826\" xlink:href=\"#m089f024421\" y=\"67.136964\"/>\n     <use style=\"fill:#1f77b4;stroke:#1f77b4;\" x=\"150.680353\" xlink:href=\"#m089f024421\" y=\"73.633292\"/>\n     <use style=\"fill:#1f77b4;stroke:#1f77b4;\" x=\"110.182702\" xlink:href=\"#m089f024421\" y=\"61.887753\"/>\n     <use style=\"fill:#1f77b4;stroke:#1f77b4;\" x=\"132.456144\" xlink:href=\"#m089f024421\" y=\"71.181481\"/>\n     <use style=\"fill:#1f77b4;stroke:#1f77b4;\" x=\"122.446912\" xlink:href=\"#m089f024421\" y=\"73.298846\"/>\n     <use style=\"fill:#1f77b4;stroke:#1f77b4;\" x=\"145.739396\" xlink:href=\"#m089f024421\" y=\"81.285191\"/>\n     <use style=\"fill:#1f77b4;stroke:#1f77b4;\" x=\"147.230229\" xlink:href=\"#m089f024421\" y=\"78.40608\"/>\n     <use style=\"fill:#1f77b4;stroke:#1f77b4;\" x=\"179.235781\" xlink:href=\"#m089f024421\" y=\"96.620317\"/>\n     <use style=\"fill:#1f77b4;stroke:#1f77b4;\" x=\"111.53718\" xlink:href=\"#m089f024421\" y=\"67.344067\"/>\n     <use style=\"fill:#1f77b4;stroke:#1f77b4;\" x=\"115.489484\" xlink:href=\"#m089f024421\" y=\"43.031483\"/>\n     <use style=\"fill:#1f77b4;stroke:#1f77b4;\" x=\"139.414624\" xlink:href=\"#m089f024421\" y=\"76.316329\"/>\n     <use style=\"fill:#1f77b4;stroke:#1f77b4;\" x=\"75.046323\" xlink:href=\"#m089f024421\" y=\"29.03495\"/>\n     <use style=\"fill:#1f77b4;stroke:#1f77b4;\" x=\"163.4136\" xlink:href=\"#m089f024421\" y=\"76.821109\"/>\n     <use style=\"fill:#1f77b4;stroke:#1f77b4;\" x=\"152.830342\" xlink:href=\"#m089f024421\" y=\"68.819543\"/>\n     <use style=\"fill:#1f77b4;stroke:#1f77b4;\" x=\"162.939473\" xlink:href=\"#m089f024421\" y=\"87.618461\"/>\n     <use style=\"fill:#1f77b4;stroke:#1f77b4;\" x=\"102.34593\" xlink:href=\"#m089f024421\" y=\"60.034433\"/>\n     <use style=\"fill:#1f77b4;stroke:#1f77b4;\" x=\"133.755176\" xlink:href=\"#m089f024421\" y=\"70.267393\"/>\n     <use style=\"fill:#1f77b4;stroke:#1f77b4;\" x=\"173.409136\" xlink:href=\"#m089f024421\" y=\"88.911878\"/>\n     <use style=\"fill:#1f77b4;stroke:#1f77b4;\" x=\"146.94182\" xlink:href=\"#m089f024421\" y=\"77.914905\"/>\n     <use style=\"fill:#1f77b4;stroke:#1f77b4;\" x=\"152.88284\" xlink:href=\"#m089f024421\" y=\"71.565535\"/>\n     <use style=\"fill:#1f77b4;stroke:#1f77b4;\" x=\"163.878806\" xlink:href=\"#m089f024421\" y=\"84.041537\"/>\n     <use style=\"fill:#1f77b4;stroke:#1f77b4;\" x=\"62.11061\" xlink:href=\"#m089f024421\" y=\"35.88836\"/>\n     <use style=\"fill:#1f77b4;stroke:#1f77b4;\" x=\"159.124983\" xlink:href=\"#m089f024421\" y=\"77.139464\"/>\n     <use style=\"fill:#1f77b4;stroke:#1f77b4;\" x=\"117.178824\" xlink:href=\"#m089f024421\" y=\"60.284714\"/>\n     <use style=\"fill:#1f77b4;stroke:#1f77b4;\" x=\"61.636948\" xlink:href=\"#m089f024421\" y=\"20.656938\"/>\n     <use style=\"fill:#1f77b4;stroke:#1f77b4;\" x=\"141.855298\" xlink:href=\"#m089f024421\" y=\"78.591431\"/>\n     <use style=\"fill:#1f77b4;stroke:#1f77b4;\" x=\"113.196388\" xlink:href=\"#m089f024421\" y=\"51.384858\"/>\n     <use style=\"fill:#1f77b4;stroke:#1f77b4;\" x=\"153.646716\" xlink:href=\"#m089f024421\" y=\"97.874404\"/>\n     <use style=\"fill:#1f77b4;stroke:#1f77b4;\" x=\"94.096888\" xlink:href=\"#m089f024421\" y=\"36.014343\"/>\n     <use style=\"fill:#1f77b4;stroke:#1f77b4;\" x=\"97.431974\" xlink:href=\"#m089f024421\" y=\"44.409894\"/>\n     <use style=\"fill:#1f77b4;stroke:#1f77b4;\" x=\"143.217407\" xlink:href=\"#m089f024421\" y=\"84.059998\"/>\n     <use style=\"fill:#1f77b4;stroke:#1f77b4;\" x=\"151.965124\" xlink:href=\"#m089f024421\" y=\"71.068012\"/>\n     <use style=\"fill:#1f77b4;stroke:#1f77b4;\" x=\"96.54699\" xlink:href=\"#m089f024421\" y=\"52.77882\"/>\n     <use style=\"fill:#1f77b4;stroke:#1f77b4;\" x=\"88.776624\" xlink:href=\"#m089f024421\" y=\"47.353879\"/>\n     <use style=\"fill:#1f77b4;stroke:#1f77b4;\" x=\"132.920936\" xlink:href=\"#m089f024421\" y=\"65.975512\"/>\n     <use style=\"fill:#1f77b4;stroke:#1f77b4;\" x=\"115.097208\" xlink:href=\"#m089f024421\" y=\"61.411423\"/>\n     <use style=\"fill:#1f77b4;stroke:#1f77b4;\" x=\"145.773681\" xlink:href=\"#m089f024421\" y=\"77.040382\"/>\n     <use style=\"fill:#1f77b4;stroke:#1f77b4;\" x=\"106.963312\" xlink:href=\"#m089f024421\" y=\"54.078508\"/>\n     <use style=\"fill:#1f77b4;stroke:#1f77b4;\" x=\"140.878925\" xlink:href=\"#m089f024421\" y=\"73.800303\"/>\n     <use style=\"fill:#1f77b4;stroke:#1f77b4;\" x=\"67.093837\" xlink:href=\"#m089f024421\" y=\"28.738082\"/>\n     <use style=\"fill:#1f77b4;stroke:#1f77b4;\" x=\"168.996078\" xlink:href=\"#m089f024421\" y=\"93.494296\"/>\n     <use style=\"fill:#1f77b4;stroke:#1f77b4;\" x=\"144.760918\" xlink:href=\"#m089f024421\" y=\"87.190211\"/>\n     <use style=\"fill:#1f77b4;stroke:#1f77b4;\" x=\"99.390045\" xlink:href=\"#m089f024421\" y=\"48.684268\"/>\n     <use style=\"fill:#1f77b4;stroke:#1f77b4;\" x=\"101.654572\" xlink:href=\"#m089f024421\" y=\"63.991021\"/>\n     <use style=\"fill:#1f77b4;stroke:#1f77b4;\" x=\"128.22434\" xlink:href=\"#m089f024421\" y=\"77.53733\"/>\n     <use style=\"fill:#1f77b4;stroke:#1f77b4;\" x=\"115.081284\" xlink:href=\"#m089f024421\" y=\"67.013031\"/>\n     <use style=\"fill:#1f77b4;stroke:#1f77b4;\" x=\"167.037783\" xlink:href=\"#m089f024421\" y=\"81.20384\"/>\n     <use style=\"fill:#1f77b4;stroke:#1f77b4;\" x=\"133.602227\" xlink:href=\"#m089f024421\" y=\"86.089906\"/>\n     <use style=\"fill:#1f77b4;stroke:#1f77b4;\" x=\"124.660757\" xlink:href=\"#m089f024421\" y=\"61.886707\"/>\n     <use style=\"fill:#1f77b4;stroke:#1f77b4;\" x=\"98.941643\" xlink:href=\"#m089f024421\" y=\"43.954296\"/>\n     <use style=\"fill:#1f77b4;stroke:#1f77b4;\" x=\"123.188387\" xlink:href=\"#m089f024421\" y=\"65.799998\"/>\n     <use style=\"fill:#1f77b4;stroke:#1f77b4;\" x=\"143.52347\" xlink:href=\"#m089f024421\" y=\"46.354882\"/>\n     <use style=\"fill:#1f77b4;stroke:#1f77b4;\" x=\"108.117475\" xlink:href=\"#m089f024421\" y=\"55.029062\"/>\n     <use style=\"fill:#1f77b4;stroke:#1f77b4;\" x=\"158.485881\" xlink:href=\"#m089f024421\" y=\"101.413245\"/>\n     <use style=\"fill:#1f77b4;stroke:#1f77b4;\" x=\"160.099648\" xlink:href=\"#m089f024421\" y=\"80.040268\"/>\n     <use style=\"fill:#1f77b4;stroke:#1f77b4;\" x=\"103.369211\" xlink:href=\"#m089f024421\" y=\"56.461878\"/>\n     <use style=\"fill:#1f77b4;stroke:#1f77b4;\" x=\"127.539269\" xlink:href=\"#m089f024421\" y=\"57.799076\"/>\n     <use style=\"fill:#1f77b4;stroke:#1f77b4;\" x=\"159.359367\" xlink:href=\"#m089f024421\" y=\"92.245329\"/>\n     <use style=\"fill:#1f77b4;stroke:#1f77b4;\" x=\"90.952633\" xlink:href=\"#m089f024421\" y=\"43.811229\"/>\n     <use style=\"fill:#1f77b4;stroke:#1f77b4;\" x=\"148.358504\" xlink:href=\"#m089f024421\" y=\"63.193223\"/>\n     <use style=\"fill:#1f77b4;stroke:#1f77b4;\" x=\"129.084908\" xlink:href=\"#m089f024421\" y=\"66.5665\"/>\n     <use style=\"fill:#1f77b4;stroke:#1f77b4;\" x=\"115.622858\" xlink:href=\"#m089f024421\" y=\"55.452312\"/>\n     <use style=\"fill:#1f77b4;stroke:#1f77b4;\" x=\"105.416185\" xlink:href=\"#m089f024421\" y=\"57.70549\"/>\n     <use style=\"fill:#1f77b4;stroke:#1f77b4;\" x=\"100.637998\" xlink:href=\"#m089f024421\" y=\"41.876863\"/>\n     <use style=\"fill:#1f77b4;stroke:#1f77b4;\" x=\"103.540102\" xlink:href=\"#m089f024421\" y=\"62.851054\"/>\n     <use style=\"fill:#1f77b4;stroke:#1f77b4;\" x=\"129.902333\" xlink:href=\"#m089f024421\" y=\"66.69304\"/>\n     <use style=\"fill:#1f77b4;stroke:#1f77b4;\" x=\"154.435545\" xlink:href=\"#m089f024421\" y=\"75.573883\"/>\n     <use style=\"fill:#1f77b4;stroke:#1f77b4;\" x=\"170.714424\" xlink:href=\"#m089f024421\" y=\"95.448165\"/>\n     <use style=\"fill:#1f77b4;stroke:#1f77b4;\" x=\"127.59098\" xlink:href=\"#m089f024421\" y=\"72.862449\"/>\n     <use style=\"fill:#1f77b4;stroke:#1f77b4;\" x=\"142.249722\" xlink:href=\"#m089f024421\" y=\"72.89826\"/>\n     <use style=\"fill:#1f77b4;stroke:#1f77b4;\" x=\"131.264298\" xlink:href=\"#m089f024421\" y=\"77.897535\"/>\n     <use style=\"fill:#1f77b4;stroke:#1f77b4;\" x=\"161.904875\" xlink:href=\"#m089f024421\" y=\"67.121691\"/>\n     <use style=\"fill:#1f77b4;stroke:#1f77b4;\" x=\"195.257296\" xlink:href=\"#m089f024421\" y=\"97.904634\"/>\n     <use style=\"fill:#1f77b4;stroke:#1f77b4;\" x=\"160.287983\" xlink:href=\"#m089f024421\" y=\"83.269786\"/>\n     <use style=\"fill:#1f77b4;stroke:#1f77b4;\" x=\"117.736834\" xlink:href=\"#m089f024421\" y=\"59.923981\"/>\n     <use style=\"fill:#1f77b4;stroke:#1f77b4;\" x=\"160.320481\" xlink:href=\"#m089f024421\" y=\"79.623377\"/>\n     <use style=\"fill:#1f77b4;stroke:#1f77b4;\" x=\"131.662322\" xlink:href=\"#m089f024421\" y=\"70.839852\"/>\n     <use style=\"fill:#1f77b4;stroke:#1f77b4;\" x=\"176.246521\" xlink:href=\"#m089f024421\" y=\"96.112922\"/>\n     <use style=\"fill:#1f77b4;stroke:#1f77b4;\" x=\"116.859218\" xlink:href=\"#m089f024421\" y=\"69.759635\"/>\n     <use style=\"fill:#1f77b4;stroke:#1f77b4;\" x=\"137.988231\" xlink:href=\"#m089f024421\" y=\"61.110425\"/>\n     <use style=\"fill:#1f77b4;stroke:#1f77b4;\" x=\"145.042906\" xlink:href=\"#m089f024421\" y=\"89.421277\"/>\n     <use style=\"fill:#1f77b4;stroke:#1f77b4;\" x=\"141.15558\" xlink:href=\"#m089f024421\" y=\"70.895228\"/>\n     <use style=\"fill:#1f77b4;stroke:#1f77b4;\" x=\"103.282251\" xlink:href=\"#m089f024421\" y=\"52.499706\"/>\n     <use style=\"fill:#1f77b4;stroke:#1f77b4;\" x=\"128.653634\" xlink:href=\"#m089f024421\" y=\"67.860214\"/>\n    </g>\n   </g>\n   <g id=\"matplotlib.axis_1\">\n    <g id=\"xtick_1\">\n     <g id=\"line2d_1\">\n      <defs>\n       <path d=\"M 0 0 \nL 0 3.5 \n\" id=\"me2d3127e31\" style=\"stroke:#000000;stroke-width:0.8;\"/>\n      </defs>\n      <g>\n       <use style=\"stroke:#000000;stroke-width:0.8;\" x=\"78.653867\" xlink:href=\"#me2d3127e31\" y=\"143.1\"/>\n      </g>\n     </g>\n     <g id=\"text_1\">\n      <!-- −2 -->\n      <defs>\n       <path d=\"M 10.59375 35.5 \nL 73.1875 35.5 \nL 73.1875 27.203125 \nL 10.59375 27.203125 \nz\n\" id=\"DejaVuSans-8722\"/>\n       <path d=\"M 19.1875 8.296875 \nL 53.609375 8.296875 \nL 53.609375 0 \nL 7.328125 0 \nL 7.328125 8.296875 \nQ 12.9375 14.109375 22.625 23.890625 \nQ 32.328125 33.6875 34.8125 36.53125 \nQ 39.546875 41.84375 41.421875 45.53125 \nQ 43.3125 49.21875 43.3125 52.78125 \nQ 43.3125 58.59375 39.234375 62.25 \nQ 35.15625 65.921875 28.609375 65.921875 \nQ 23.96875 65.921875 18.8125 64.3125 \nQ 13.671875 62.703125 7.8125 59.421875 \nL 7.8125 69.390625 \nQ 13.765625 71.78125 18.9375 73 \nQ 24.125 74.21875 28.421875 74.21875 \nQ 39.75 74.21875 46.484375 68.546875 \nQ 53.21875 62.890625 53.21875 53.421875 \nQ 53.21875 48.921875 51.53125 44.890625 \nQ 49.859375 40.875 45.40625 35.40625 \nQ 44.1875 33.984375 37.640625 27.21875 \nQ 31.109375 20.453125 19.1875 8.296875 \nz\n\" id=\"DejaVuSans-50\"/>\n      </defs>\n      <g transform=\"translate(71.282773 157.698438)scale(0.1 -0.1)\">\n       <use xlink:href=\"#DejaVuSans-8722\"/>\n       <use x=\"83.789062\" xlink:href=\"#DejaVuSans-50\"/>\n      </g>\n     </g>\n    </g>\n    <g id=\"xtick_2\">\n     <g id=\"line2d_2\">\n      <g>\n       <use style=\"stroke:#000000;stroke-width:0.8;\" x=\"131.61447\" xlink:href=\"#me2d3127e31\" y=\"143.1\"/>\n      </g>\n     </g>\n     <g id=\"text_2\">\n      <!-- 0 -->\n      <defs>\n       <path d=\"M 31.78125 66.40625 \nQ 24.171875 66.40625 20.328125 58.90625 \nQ 16.5 51.421875 16.5 36.375 \nQ 16.5 21.390625 20.328125 13.890625 \nQ 24.171875 6.390625 31.78125 6.390625 \nQ 39.453125 6.390625 43.28125 13.890625 \nQ 47.125 21.390625 47.125 36.375 \nQ 47.125 51.421875 43.28125 58.90625 \nQ 39.453125 66.40625 31.78125 66.40625 \nz\nM 31.78125 74.21875 \nQ 44.046875 74.21875 50.515625 64.515625 \nQ 56.984375 54.828125 56.984375 36.375 \nQ 56.984375 17.96875 50.515625 8.265625 \nQ 44.046875 -1.421875 31.78125 -1.421875 \nQ 19.53125 -1.421875 13.0625 8.265625 \nQ 6.59375 17.96875 6.59375 36.375 \nQ 6.59375 54.828125 13.0625 64.515625 \nQ 19.53125 74.21875 31.78125 74.21875 \nz\n\" id=\"DejaVuSans-48\"/>\n      </defs>\n      <g transform=\"translate(128.43322 157.698438)scale(0.1 -0.1)\">\n       <use xlink:href=\"#DejaVuSans-48\"/>\n      </g>\n     </g>\n    </g>\n    <g id=\"xtick_3\">\n     <g id=\"line2d_3\">\n      <g>\n       <use style=\"stroke:#000000;stroke-width:0.8;\" x=\"184.575074\" xlink:href=\"#me2d3127e31\" y=\"143.1\"/>\n      </g>\n     </g>\n     <g id=\"text_3\">\n      <!-- 2 -->\n      <g transform=\"translate(181.393824 157.698438)scale(0.1 -0.1)\">\n       <use xlink:href=\"#DejaVuSans-50\"/>\n      </g>\n     </g>\n    </g>\n   </g>\n   <g id=\"matplotlib.axis_2\">\n    <g id=\"ytick_1\">\n     <g id=\"line2d_4\">\n      <defs>\n       <path d=\"M 0 0 \nL -3.5 0 \n\" id=\"m7d701465ce\" style=\"stroke:#000000;stroke-width:0.8;\"/>\n      </defs>\n      <g>\n       <use style=\"stroke:#000000;stroke-width:0.8;\" x=\"35.304688\" xlink:href=\"#m7d701465ce\" y=\"130.747462\"/>\n      </g>\n     </g>\n     <g id=\"text_4\">\n      <!-- −10 -->\n      <defs>\n       <path d=\"M 12.40625 8.296875 \nL 28.515625 8.296875 \nL 28.515625 63.921875 \nL 10.984375 60.40625 \nL 10.984375 69.390625 \nL 28.421875 72.90625 \nL 38.28125 72.90625 \nL 38.28125 8.296875 \nL 54.390625 8.296875 \nL 54.390625 0 \nL 12.40625 0 \nz\n\" id=\"DejaVuSans-49\"/>\n      </defs>\n      <g transform=\"translate(7.2 134.546681)scale(0.1 -0.1)\">\n       <use xlink:href=\"#DejaVuSans-8722\"/>\n       <use x=\"83.789062\" xlink:href=\"#DejaVuSans-49\"/>\n       <use x=\"147.412109\" xlink:href=\"#DejaVuSans-48\"/>\n      </g>\n     </g>\n    </g>\n    <g id=\"ytick_2\">\n     <g id=\"line2d_5\">\n      <g>\n       <use style=\"stroke:#000000;stroke-width:0.8;\" x=\"35.304688\" xlink:href=\"#m7d701465ce\" y=\"87.423925\"/>\n      </g>\n     </g>\n     <g id=\"text_5\">\n      <!-- 0 -->\n      <g transform=\"translate(21.942187 91.223143)scale(0.1 -0.1)\">\n       <use xlink:href=\"#DejaVuSans-48\"/>\n      </g>\n     </g>\n    </g>\n    <g id=\"ytick_3\">\n     <g id=\"line2d_6\">\n      <g>\n       <use style=\"stroke:#000000;stroke-width:0.8;\" x=\"35.304688\" xlink:href=\"#m7d701465ce\" y=\"44.100387\"/>\n      </g>\n     </g>\n     <g id=\"text_6\">\n      <!-- 10 -->\n      <g transform=\"translate(15.579687 47.899606)scale(0.1 -0.1)\">\n       <use xlink:href=\"#DejaVuSans-49\"/>\n       <use x=\"63.623047\" xlink:href=\"#DejaVuSans-48\"/>\n      </g>\n     </g>\n    </g>\n   </g>\n   <g id=\"patch_3\">\n    <path d=\"M 35.304688 143.1 \nL 35.304688 7.2 \n\" style=\"fill:none;stroke:#000000;stroke-linecap:square;stroke-linejoin:miter;stroke-width:0.8;\"/>\n   </g>\n   <g id=\"patch_4\">\n    <path d=\"M 230.604688 143.1 \nL 230.604688 7.2 \n\" style=\"fill:none;stroke:#000000;stroke-linecap:square;stroke-linejoin:miter;stroke-width:0.8;\"/>\n   </g>\n   <g id=\"patch_5\">\n    <path d=\"M 35.304688 143.1 \nL 230.604688 143.1 \n\" style=\"fill:none;stroke:#000000;stroke-linecap:square;stroke-linejoin:miter;stroke-width:0.8;\"/>\n   </g>\n   <g id=\"patch_6\">\n    <path d=\"M 35.304688 7.2 \nL 230.604688 7.2 \n\" style=\"fill:none;stroke:#000000;stroke-linecap:square;stroke-linejoin:miter;stroke-width:0.8;\"/>\n   </g>\n  </g>\n </g>\n <defs>\n  <clipPath id=\"pcbb0c6c76d\">\n   <rect height=\"135.9\" width=\"195.3\" x=\"35.304688\" y=\"7.2\"/>\n  </clipPath>\n </defs>\n</svg>\n"
          },
          "metadata": {
            "tags": []
          }
        }
      ]
    },
    {
      "cell_type": "code",
      "metadata": {
        "id": "fR1XlTgMASJS",
        "colab_type": "code",
        "colab": {}
      },
      "source": [
        "# 本函数已保存在d2lzh包中方便以后使用\n",
        "def data_iter(batch_size, features, labels):\n",
        "    num_examples = len(features)\n",
        "    indices = list(range(num_examples))\n",
        "    random.shuffle(indices)  # 样本的读取顺序是随机的\n",
        "    for i in range(0, num_examples, batch_size):\n",
        "        j = nd.array(indices[i: min(i + batch_size, num_examples)])\n",
        "        yield features.take(j), labels.take(j)  # take函数根据索引返回对应元素"
      ],
      "execution_count": 0,
      "outputs": []
    },
    {
      "cell_type": "code",
      "metadata": {
        "id": "q1m02eyRApRw",
        "colab_type": "code",
        "colab": {}
      },
      "source": [
        "w = nd.random.normal(scale=0.01, shape=(num_inputs, 1))\n",
        "b = nd.zeros(shape=(1,))\n",
        "w.attach_grad()\n",
        "b.attach_grad()"
      ],
      "execution_count": 0,
      "outputs": []
    },
    {
      "cell_type": "code",
      "metadata": {
        "id": "W8H1ymN9AvVY",
        "colab_type": "code",
        "colab": {}
      },
      "source": [
        "def linreg(X, w, b):  # 本函数已保存在d2lzh包中方便以后使用\n",
        "    return nd.dot(X, w) + b"
      ],
      "execution_count": 0,
      "outputs": []
    },
    {
      "cell_type": "code",
      "metadata": {
        "id": "ZMiV0GMnAyif",
        "colab_type": "code",
        "colab": {}
      },
      "source": [
        "def squared_loss(y_hat, y):  # 本函数已保存在d2lzh包中方便以后使用\n",
        "    return (y_hat - y.reshape(y_hat.shape)) ** 2 / 2"
      ],
      "execution_count": 0,
      "outputs": []
    },
    {
      "cell_type": "code",
      "metadata": {
        "id": "yhWiL1_hA01n",
        "colab_type": "code",
        "colab": {}
      },
      "source": [
        "# 定义随机梯度下降函数\n",
        "def sgd(params, lr, batch_size):  # 本函数已保存在d2lzh包中方便以后使用\n",
        "    for param in params:\n",
        "        param[:] = param - lr * param.grad / batch_size"
      ],
      "execution_count": 0,
      "outputs": []
    },
    {
      "cell_type": "code",
      "metadata": {
        "id": "JiubVkk3CT9H",
        "colab_type": "code",
        "outputId": "76dd7879-f4c9-4a70-e331-1e5b0d8a91bd",
        "colab": {
          "base_uri": "https://localhost:8080/",
          "height": 67
        }
      },
      "source": [
        "batch_size = 10\n",
        "lr = 0.03\n",
        "num_epochs = 3\n",
        "net = linreg\n",
        "loss = squared_loss\n",
        "\n",
        "for epoch in range(num_epochs):  # 训练模型一共需要num_epochs个迭代周期\n",
        "    # 在每一个迭代周期中，会使用训练数据集中所有样本一次（假设样本数能够被批量大小整除）。X\n",
        "    # 和y分别是小批量样本的特征和标签\n",
        "    for X, y in data_iter(batch_size, features, labels):\n",
        "        with autograd.record():\n",
        "            l = loss(net(X, w, b), y)  # l是有关小批量X和y的损失\n",
        "        l.backward()  # 小批量的损失对模型参数求梯度\n",
        "        sgd([w, b], lr, batch_size)  # 使用小批量随机梯度下降迭代模型参数\n",
        "    train_l = loss(net(features, w, b), labels)\n",
        "    print('epoch %d, loss %f' % (epoch + 1, train_l.mean().asnumpy()))"
      ],
      "execution_count": 11,
      "outputs": [
        {
          "output_type": "stream",
          "text": [
            "epoch 1, loss 0.040582\n",
            "epoch 2, loss 0.000156\n",
            "epoch 3, loss 0.000051\n"
          ],
          "name": "stdout"
        }
      ]
    },
    {
      "cell_type": "code",
      "metadata": {
        "id": "aDsmn5EPCe0m",
        "colab_type": "code",
        "colab": {}
      },
      "source": [
        "####################################################################################################################\n",
        "##### Sect. 3.3 Below ##########################################################################################\n",
        "####################################################################################################################"
      ],
      "execution_count": 0,
      "outputs": []
    },
    {
      "cell_type": "code",
      "metadata": {
        "id": "ujOyvFgpCfDN",
        "colab_type": "code",
        "colab": {}
      },
      "source": [
        "from mxnet import autograd, nd\n",
        "\n",
        "num_inputs = 2\n",
        "num_examples = 995\n",
        "true_w = [2, -3.4]\n",
        "true_b = 4.2\n",
        "features = nd.random.normal(scale=1, shape=(num_examples, num_inputs))\n",
        "labels = true_w[0] * features[:, 0] + true_w[1] * features[:, 1] + true_b\n",
        "labels += nd.random.normal(scale=0.01, shape=labels.shape)"
      ],
      "execution_count": 0,
      "outputs": []
    },
    {
      "cell_type": "code",
      "metadata": {
        "id": "tM2sOXVCC8pz",
        "colab_type": "code",
        "colab": {}
      },
      "source": [
        "from mxnet.gluon import data as gdata\n",
        "\n",
        "batch_size = 10\n",
        "# 将训练数据的特征和标签组合\n",
        "dataset = gdata.ArrayDataset(features, labels)\n",
        "# 随机读取小批量\n",
        "data_iter = gdata.DataLoader(dataset, batch_size, shuffle=True)"
      ],
      "execution_count": 0,
      "outputs": []
    },
    {
      "cell_type": "code",
      "metadata": {
        "id": "MEdKO8rlDXVf",
        "colab_type": "code",
        "colab": {}
      },
      "source": [
        "# 定义模型\n",
        "from mxnet.gluon import nn\n",
        "\n",
        "net = nn.Sequential()\n",
        "net.add(nn.Dense(1))"
      ],
      "execution_count": 0,
      "outputs": []
    },
    {
      "cell_type": "code",
      "metadata": {
        "id": "5oZad7pEEeZW",
        "colab_type": "code",
        "colab": {}
      },
      "source": [
        "# 初始化模型参数\n",
        "from mxnet import init\n",
        "\n",
        "net.initialize(init.Normal(sigma=0.01))"
      ],
      "execution_count": 0,
      "outputs": []
    },
    {
      "cell_type": "code",
      "metadata": {
        "id": "Jn3df2dTEaKA",
        "colab_type": "code",
        "colab": {}
      },
      "source": [
        "# 定义损失函数\n",
        "from mxnet.gluon import loss as gloss\n",
        "\n",
        "loss = gloss.L2Loss()"
      ],
      "execution_count": 0,
      "outputs": []
    },
    {
      "cell_type": "code",
      "metadata": {
        "id": "Z1v4GPeLE1lc",
        "colab_type": "code",
        "colab": {}
      },
      "source": [
        "# 定义优化算法\n",
        "from mxnet import gluon \n",
        "\n",
        "trainer = gluon.Trainer(net.collect_params(), 'sgd', {'learning_rate': 0.03})"
      ],
      "execution_count": 0,
      "outputs": []
    },
    {
      "cell_type": "code",
      "metadata": {
        "id": "m5oDQAJKFGRn",
        "colab_type": "code",
        "outputId": "8bcc3be3-ae60-4eb6-ea38-3c135ae6280e",
        "colab": {
          "base_uri": "https://localhost:8080/",
          "height": 67
        }
      },
      "source": [
        "# 训练模型\n",
        "num_epochs = 3\n",
        "for epoch in range(1, num_epochs+1) : \n",
        "  for X, y in data_iter : \n",
        "    with autograd.record() : \n",
        "      l = loss(net(X), y)\n",
        "    l.backward()\n",
        "    trainer.step(batch_size)\n",
        "  l = loss(net(features), labels)\n",
        "  print(\"epoch %d, loss: %f\" % (epoch, l.mean().asnumpy()))\n"
      ],
      "execution_count": 19,
      "outputs": [
        {
          "output_type": "stream",
          "text": [
            "epoch 1, loss: 0.034742\n",
            "epoch 2, loss: 0.000123\n",
            "epoch 3, loss: 0.000050\n"
          ],
          "name": "stdout"
        }
      ]
    },
    {
      "cell_type": "code",
      "metadata": {
        "id": "7HaYkx6JFtew",
        "colab_type": "code",
        "colab": {}
      },
      "source": [
        "#####################################################################################\n",
        "######## Sect. 3.5 and 3.6 Below ##############################################\n",
        "#####################################################################################"
      ],
      "execution_count": 0,
      "outputs": []
    },
    {
      "cell_type": "code",
      "metadata": {
        "id": "gsokuXEUF0YW",
        "colab_type": "code",
        "outputId": "e3922959-4010-43af-88c5-28ed949e7f01",
        "colab": {
          "base_uri": "https://localhost:8080/",
          "height": 34
        }
      },
      "source": [
        "%matplotlib inline\n",
        "from mxnet.gluon import data as gdata\n",
        "import sys\n",
        "import time\n",
        "\n",
        "mnist_train = gdata.vision.FashionMNIST(train=True)\n",
        "mnist_test = gdata.vision.FashionMNIST(train=False)\n",
        "\n",
        "len(mnist_train), len(mnist_test)"
      ],
      "execution_count": 21,
      "outputs": [
        {
          "output_type": "execute_result",
          "data": {
            "text/plain": [
              "(60000, 10000)"
            ]
          },
          "metadata": {
            "tags": []
          },
          "execution_count": 21
        }
      ]
    },
    {
      "cell_type": "code",
      "metadata": {
        "id": "5whsREpsHen8",
        "colab_type": "code",
        "outputId": "6cdaf859-5773-423e-a21d-fed2b1c7051a",
        "colab": {
          "base_uri": "https://localhost:8080/",
          "height": 34
        }
      },
      "source": [
        "feature, label = mnist_train[0]\n",
        "feature.shape, feature.dtype"
      ],
      "execution_count": 22,
      "outputs": [
        {
          "output_type": "execute_result",
          "data": {
            "text/plain": [
              "((28, 28, 1), numpy.uint8)"
            ]
          },
          "metadata": {
            "tags": []
          },
          "execution_count": 22
        }
      ]
    },
    {
      "cell_type": "code",
      "metadata": {
        "id": "jL3BUElLHgIB",
        "colab_type": "code",
        "outputId": "268f4fa6-9f57-4119-c10c-815e8e4f8198",
        "colab": {
          "base_uri": "https://localhost:8080/",
          "height": 34
        }
      },
      "source": [
        "label, type(label), label.dtype"
      ],
      "execution_count": 23,
      "outputs": [
        {
          "output_type": "execute_result",
          "data": {
            "text/plain": [
              "(2, numpy.int32, dtype('int32'))"
            ]
          },
          "metadata": {
            "tags": []
          },
          "execution_count": 23
        }
      ]
    },
    {
      "cell_type": "code",
      "metadata": {
        "id": "ULg_Xe1_HlMZ",
        "colab_type": "code",
        "colab": {}
      },
      "source": [
        "# 本函数保存在d2lzh包中方便以后使用\n",
        "def get_fashion_mnist_labels(labels) : \n",
        "  text_labels = ['t-shirt', 'trouser', 'pullover', 'dress', 'coat','sandal', 'shirt', 'sneaker', 'bag', 'ankle boot']\n",
        "  return [text_labels[int(i)] for i in labels]\n"
      ],
      "execution_count": 0,
      "outputs": []
    },
    {
      "cell_type": "code",
      "metadata": {
        "id": "tx_Q0xJCH_XX",
        "colab_type": "code",
        "colab": {}
      },
      "source": [
        "# 本函数保存在d2lzh包中方便以后使用\n",
        "def show_fashion_mnist(images, labels):\n",
        "    use_svg_display()\n",
        "    # 这里的_表示我们忽略（不使用）的变量\n",
        "    _, figs = plt.subplots(1, len(images), figsize=(12, 12))\n",
        "    for f, img, lbl in zip(figs, images, labels):\n",
        "        f.imshow(img.reshape((28, 28)).asnumpy())\n",
        "        f.set_title(lbl)\n",
        "        f.axes.get_xaxis().set_visible(False)\n",
        "        f.axes.get_yaxis().set_visible(False)"
      ],
      "execution_count": 0,
      "outputs": []
    },
    {
      "cell_type": "code",
      "metadata": {
        "id": "JL02BonvIYZp",
        "colab_type": "code",
        "outputId": "7f6d8746-4283-4574-fb1c-9e29e4cd6a17",
        "colab": {
          "base_uri": "https://localhost:8080/",
          "height": 149
        }
      },
      "source": [
        "X, y = mnist_train[0:9]\n",
        "show_fashion_mnist(X, get_fashion_mnist_labels(y))"
      ],
      "execution_count": 26,
      "outputs": [
        {
          "output_type": "display_data",
          "data": {
            "text/plain": [
              "<Figure size 864x864 with 9 Axes>"
            ],
            "image/svg+xml": "<?xml version=\"1.0\" encoding=\"utf-8\" standalone=\"no\"?>\n<!DOCTYPE svg PUBLIC \"-//W3C//DTD SVG 1.1//EN\"\n  \"http://www.w3.org/Graphics/SVG/1.1/DTD/svg11.dtd\">\n<!-- Created with matplotlib (https://matplotlib.org/) -->\n<svg height=\"96.187936pt\" version=\"1.1\" viewBox=\"0 0 687.5 96.187936\" width=\"687.5pt\" xmlns=\"http://www.w3.org/2000/svg\" xmlns:xlink=\"http://www.w3.org/1999/xlink\">\n <defs>\n  <style type=\"text/css\">\n*{stroke-linecap:butt;stroke-linejoin:round;}\n  </style>\n </defs>\n <g id=\"figure_1\">\n  <g id=\"patch_1\">\n   <path d=\"M 0 96.187936 \nL 687.5 96.187936 \nL 687.5 0 \nL 0 0 \nz\n\" style=\"fill:none;\"/>\n  </g>\n  <g id=\"axes_1\">\n   <g id=\"patch_2\">\n    <path d=\"M 10.7 85.487936 \nL 73.869811 85.487936 \nL 73.869811 22.318125 \nL 10.7 22.318125 \nz\n\" style=\"fill:#ffffff;\"/>\n   </g>\n   <g clip-path=\"url(#p2221dfb117)\">\n    <image height=\"64\" id=\"image513e834af1\" transform=\"scale(1 -1)translate(0 -64)\" width=\"64\" x=\"10.7\" xlink:href=\"data:image/png;base64,\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\" y=\"-21.487936\"/>\n   </g>\n   <g id=\"patch_3\">\n    <path d=\"M 10.7 85.487936 \nL 10.7 22.318125 \n\" style=\"fill:none;stroke:#000000;stroke-linecap:square;stroke-linejoin:miter;stroke-width:0.8;\"/>\n   </g>\n   <g id=\"patch_4\">\n    <path d=\"M 73.869811 85.487936 \nL 73.869811 22.318125 \n\" style=\"fill:none;stroke:#000000;stroke-linecap:square;stroke-linejoin:miter;stroke-width:0.8;\"/>\n   </g>\n   <g id=\"patch_5\">\n    <path d=\"M 10.7 85.487936 \nL 73.869811 85.487936 \n\" style=\"fill:none;stroke:#000000;stroke-linecap:square;stroke-linejoin:miter;stroke-width:0.8;\"/>\n   </g>\n   <g id=\"patch_6\">\n    <path d=\"M 10.7 22.318125 \nL 73.869811 22.318125 \n\" style=\"fill:none;stroke:#000000;stroke-linecap:square;stroke-linejoin:miter;stroke-width:0.8;\"/>\n   </g>\n   <g id=\"text_1\">\n    <!-- pullover -->\n    <defs>\n     <path d=\"M 18.109375 8.203125 \nL 18.109375 -20.796875 \nL 9.078125 -20.796875 \nL 9.078125 54.6875 \nL 18.109375 54.6875 \nL 18.109375 46.390625 \nQ 20.953125 51.265625 25.265625 53.625 \nQ 29.59375 56 35.59375 56 \nQ 45.5625 56 51.78125 48.09375 \nQ 58.015625 40.1875 58.015625 27.296875 \nQ 58.015625 14.40625 51.78125 6.484375 \nQ 45.5625 -1.421875 35.59375 -1.421875 \nQ 29.59375 -1.421875 25.265625 0.953125 \nQ 20.953125 3.328125 18.109375 8.203125 \nz\nM 48.6875 27.296875 \nQ 48.6875 37.203125 44.609375 42.84375 \nQ 40.53125 48.484375 33.40625 48.484375 \nQ 26.265625 48.484375 22.1875 42.84375 \nQ 18.109375 37.203125 18.109375 27.296875 \nQ 18.109375 17.390625 22.1875 11.75 \nQ 26.265625 6.109375 33.40625 6.109375 \nQ 40.53125 6.109375 44.609375 11.75 \nQ 48.6875 17.390625 48.6875 27.296875 \nz\n\" id=\"DejaVuSans-112\"/>\n     <path d=\"M 8.5 21.578125 \nL 8.5 54.6875 \nL 17.484375 54.6875 \nL 17.484375 21.921875 \nQ 17.484375 14.15625 20.5 10.265625 \nQ 23.53125 6.390625 29.59375 6.390625 \nQ 36.859375 6.390625 41.078125 11.03125 \nQ 45.3125 15.671875 45.3125 23.6875 \nL 45.3125 54.6875 \nL 54.296875 54.6875 \nL 54.296875 0 \nL 45.3125 0 \nL 45.3125 8.40625 \nQ 42.046875 3.421875 37.71875 1 \nQ 33.40625 -1.421875 27.6875 -1.421875 \nQ 18.265625 -1.421875 13.375 4.4375 \nQ 8.5 10.296875 8.5 21.578125 \nz\nM 31.109375 56 \nz\n\" id=\"DejaVuSans-117\"/>\n     <path d=\"M 9.421875 75.984375 \nL 18.40625 75.984375 \nL 18.40625 0 \nL 9.421875 0 \nz\n\" id=\"DejaVuSans-108\"/>\n     <path d=\"M 30.609375 48.390625 \nQ 23.390625 48.390625 19.1875 42.75 \nQ 14.984375 37.109375 14.984375 27.296875 \nQ 14.984375 17.484375 19.15625 11.84375 \nQ 23.34375 6.203125 30.609375 6.203125 \nQ 37.796875 6.203125 41.984375 11.859375 \nQ 46.1875 17.53125 46.1875 27.296875 \nQ 46.1875 37.015625 41.984375 42.703125 \nQ 37.796875 48.390625 30.609375 48.390625 \nz\nM 30.609375 56 \nQ 42.328125 56 49.015625 48.375 \nQ 55.71875 40.765625 55.71875 27.296875 \nQ 55.71875 13.875 49.015625 6.21875 \nQ 42.328125 -1.421875 30.609375 -1.421875 \nQ 18.84375 -1.421875 12.171875 6.21875 \nQ 5.515625 13.875 5.515625 27.296875 \nQ 5.515625 40.765625 12.171875 48.375 \nQ 18.84375 56 30.609375 56 \nz\n\" id=\"DejaVuSans-111\"/>\n     <path d=\"M 2.984375 54.6875 \nL 12.5 54.6875 \nL 29.59375 8.796875 \nL 46.6875 54.6875 \nL 56.203125 54.6875 \nL 35.6875 0 \nL 23.484375 0 \nz\n\" id=\"DejaVuSans-118\"/>\n     <path d=\"M 56.203125 29.59375 \nL 56.203125 25.203125 \nL 14.890625 25.203125 \nQ 15.484375 15.921875 20.484375 11.0625 \nQ 25.484375 6.203125 34.421875 6.203125 \nQ 39.59375 6.203125 44.453125 7.46875 \nQ 49.3125 8.734375 54.109375 11.28125 \nL 54.109375 2.78125 \nQ 49.265625 0.734375 44.1875 -0.34375 \nQ 39.109375 -1.421875 33.890625 -1.421875 \nQ 20.796875 -1.421875 13.15625 6.1875 \nQ 5.515625 13.8125 5.515625 26.8125 \nQ 5.515625 40.234375 12.765625 48.109375 \nQ 20.015625 56 32.328125 56 \nQ 43.359375 56 49.78125 48.890625 \nQ 56.203125 41.796875 56.203125 29.59375 \nz\nM 47.21875 32.234375 \nQ 47.125 39.59375 43.09375 43.984375 \nQ 39.0625 48.390625 32.421875 48.390625 \nQ 24.90625 48.390625 20.390625 44.140625 \nQ 15.875 39.890625 15.1875 32.171875 \nz\n\" id=\"DejaVuSans-101\"/>\n     <path d=\"M 41.109375 46.296875 \nQ 39.59375 47.171875 37.8125 47.578125 \nQ 36.03125 48 33.890625 48 \nQ 26.265625 48 22.1875 43.046875 \nQ 18.109375 38.09375 18.109375 28.8125 \nL 18.109375 0 \nL 9.078125 0 \nL 9.078125 54.6875 \nL 18.109375 54.6875 \nL 18.109375 46.1875 \nQ 20.953125 51.171875 25.484375 53.578125 \nQ 30.03125 56 36.53125 56 \nQ 37.453125 56 38.578125 55.875 \nQ 39.703125 55.765625 41.0625 55.515625 \nz\n\" id=\"DejaVuSans-114\"/>\n    </defs>\n    <g transform=\"translate(17.958656 16.318125)scale(0.12 -0.12)\">\n     <use xlink:href=\"#DejaVuSans-112\"/>\n     <use x=\"63.476562\" xlink:href=\"#DejaVuSans-117\"/>\n     <use x=\"126.855469\" xlink:href=\"#DejaVuSans-108\"/>\n     <use x=\"154.638672\" xlink:href=\"#DejaVuSans-108\"/>\n     <use x=\"182.421875\" xlink:href=\"#DejaVuSans-111\"/>\n     <use x=\"243.603516\" xlink:href=\"#DejaVuSans-118\"/>\n     <use x=\"302.783203\" xlink:href=\"#DejaVuSans-101\"/>\n     <use x=\"364.306641\" xlink:href=\"#DejaVuSans-114\"/>\n    </g>\n   </g>\n  </g>\n  <g id=\"axes_2\">\n   <g id=\"patch_7\">\n    <path d=\"M 86.503774 85.487936 \nL 149.673585 85.487936 \nL 149.673585 22.318125 \nL 86.503774 22.318125 \nz\n\" style=\"fill:#ffffff;\"/>\n   </g>\n   <g clip-path=\"url(#p1d1d22e20d)\">\n    <image height=\"64\" id=\"imagee7db63c155\" transform=\"scale(1 -1)translate(0 -64)\" width=\"64\" x=\"86.503774\" xlink:href=\"data:image/png;base64,\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\" y=\"-21.487936\"/>\n   </g>\n   <g id=\"patch_8\">\n    <path d=\"M 86.503774 85.487936 \nL 86.503774 22.318125 \n\" style=\"fill:none;stroke:#000000;stroke-linecap:square;stroke-linejoin:miter;stroke-width:0.8;\"/>\n   </g>\n   <g id=\"patch_9\">\n    <path d=\"M 149.673585 85.487936 \nL 149.673585 22.318125 \n\" style=\"fill:none;stroke:#000000;stroke-linecap:square;stroke-linejoin:miter;stroke-width:0.8;\"/>\n   </g>\n   <g id=\"patch_10\">\n    <path d=\"M 86.503774 85.487936 \nL 149.673585 85.487936 \n\" style=\"fill:none;stroke:#000000;stroke-linecap:square;stroke-linejoin:miter;stroke-width:0.8;\"/>\n   </g>\n   <g id=\"patch_11\">\n    <path d=\"M 86.503774 22.318125 \nL 149.673585 22.318125 \n\" style=\"fill:none;stroke:#000000;stroke-linecap:square;stroke-linejoin:miter;stroke-width:0.8;\"/>\n   </g>\n   <g id=\"text_2\">\n    <!-- ankle boot -->\n    <defs>\n     <path d=\"M 34.28125 27.484375 \nQ 23.390625 27.484375 19.1875 25 \nQ 14.984375 22.515625 14.984375 16.5 \nQ 14.984375 11.71875 18.140625 8.90625 \nQ 21.296875 6.109375 26.703125 6.109375 \nQ 34.1875 6.109375 38.703125 11.40625 \nQ 43.21875 16.703125 43.21875 25.484375 \nL 43.21875 27.484375 \nz\nM 52.203125 31.203125 \nL 52.203125 0 \nL 43.21875 0 \nL 43.21875 8.296875 \nQ 40.140625 3.328125 35.546875 0.953125 \nQ 30.953125 -1.421875 24.3125 -1.421875 \nQ 15.921875 -1.421875 10.953125 3.296875 \nQ 6 8.015625 6 15.921875 \nQ 6 25.140625 12.171875 29.828125 \nQ 18.359375 34.515625 30.609375 34.515625 \nL 43.21875 34.515625 \nL 43.21875 35.40625 \nQ 43.21875 41.609375 39.140625 45 \nQ 35.0625 48.390625 27.6875 48.390625 \nQ 23 48.390625 18.546875 47.265625 \nQ 14.109375 46.140625 10.015625 43.890625 \nL 10.015625 52.203125 \nQ 14.9375 54.109375 19.578125 55.046875 \nQ 24.21875 56 28.609375 56 \nQ 40.484375 56 46.34375 49.84375 \nQ 52.203125 43.703125 52.203125 31.203125 \nz\n\" id=\"DejaVuSans-97\"/>\n     <path d=\"M 54.890625 33.015625 \nL 54.890625 0 \nL 45.90625 0 \nL 45.90625 32.71875 \nQ 45.90625 40.484375 42.875 44.328125 \nQ 39.84375 48.1875 33.796875 48.1875 \nQ 26.515625 48.1875 22.3125 43.546875 \nQ 18.109375 38.921875 18.109375 30.90625 \nL 18.109375 0 \nL 9.078125 0 \nL 9.078125 54.6875 \nL 18.109375 54.6875 \nL 18.109375 46.1875 \nQ 21.34375 51.125 25.703125 53.5625 \nQ 30.078125 56 35.796875 56 \nQ 45.21875 56 50.046875 50.171875 \nQ 54.890625 44.34375 54.890625 33.015625 \nz\n\" id=\"DejaVuSans-110\"/>\n     <path d=\"M 9.078125 75.984375 \nL 18.109375 75.984375 \nL 18.109375 31.109375 \nL 44.921875 54.6875 \nL 56.390625 54.6875 \nL 27.390625 29.109375 \nL 57.625 0 \nL 45.90625 0 \nL 18.109375 26.703125 \nL 18.109375 0 \nL 9.078125 0 \nz\n\" id=\"DejaVuSans-107\"/>\n     <path id=\"DejaVuSans-32\"/>\n     <path d=\"M 48.6875 27.296875 \nQ 48.6875 37.203125 44.609375 42.84375 \nQ 40.53125 48.484375 33.40625 48.484375 \nQ 26.265625 48.484375 22.1875 42.84375 \nQ 18.109375 37.203125 18.109375 27.296875 \nQ 18.109375 17.390625 22.1875 11.75 \nQ 26.265625 6.109375 33.40625 6.109375 \nQ 40.53125 6.109375 44.609375 11.75 \nQ 48.6875 17.390625 48.6875 27.296875 \nz\nM 18.109375 46.390625 \nQ 20.953125 51.265625 25.265625 53.625 \nQ 29.59375 56 35.59375 56 \nQ 45.5625 56 51.78125 48.09375 \nQ 58.015625 40.1875 58.015625 27.296875 \nQ 58.015625 14.40625 51.78125 6.484375 \nQ 45.5625 -1.421875 35.59375 -1.421875 \nQ 29.59375 -1.421875 25.265625 0.953125 \nQ 20.953125 3.328125 18.109375 8.203125 \nL 18.109375 0 \nL 9.078125 0 \nL 9.078125 75.984375 \nL 18.109375 75.984375 \nz\n\" id=\"DejaVuSans-98\"/>\n     <path d=\"M 18.3125 70.21875 \nL 18.3125 54.6875 \nL 36.8125 54.6875 \nL 36.8125 47.703125 \nL 18.3125 47.703125 \nL 18.3125 18.015625 \nQ 18.3125 11.328125 20.140625 9.421875 \nQ 21.96875 7.515625 27.59375 7.515625 \nL 36.8125 7.515625 \nL 36.8125 0 \nL 27.59375 0 \nQ 17.1875 0 13.234375 3.875 \nQ 9.28125 7.765625 9.28125 18.015625 \nL 9.28125 47.703125 \nL 2.6875 47.703125 \nL 2.6875 54.6875 \nL 9.28125 54.6875 \nL 9.28125 70.21875 \nz\n\" id=\"DejaVuSans-116\"/>\n    </defs>\n    <g transform=\"translate(86.365554 16.318125)scale(0.12 -0.12)\">\n     <use xlink:href=\"#DejaVuSans-97\"/>\n     <use x=\"61.279297\" xlink:href=\"#DejaVuSans-110\"/>\n     <use x=\"124.658203\" xlink:href=\"#DejaVuSans-107\"/>\n     <use x=\"182.568359\" xlink:href=\"#DejaVuSans-108\"/>\n     <use x=\"210.351562\" xlink:href=\"#DejaVuSans-101\"/>\n     <use x=\"271.875\" xlink:href=\"#DejaVuSans-32\"/>\n     <use x=\"303.662109\" xlink:href=\"#DejaVuSans-98\"/>\n     <use x=\"367.138672\" xlink:href=\"#DejaVuSans-111\"/>\n     <use x=\"428.320312\" xlink:href=\"#DejaVuSans-111\"/>\n     <use x=\"489.501953\" xlink:href=\"#DejaVuSans-116\"/>\n    </g>\n   </g>\n  </g>\n  <g id=\"axes_3\">\n   <g id=\"patch_12\">\n    <path d=\"M 162.307547 85.487936 \nL 225.477358 85.487936 \nL 225.477358 22.318125 \nL 162.307547 22.318125 \nz\n\" style=\"fill:#ffffff;\"/>\n   </g>\n   <g clip-path=\"url(#pf864bcf9f8)\">\n    <image height=\"64\" id=\"imagecde1d40d8e\" transform=\"scale(1 -1)translate(0 -64)\" width=\"64\" x=\"162.307547\" xlink:href=\"data:image/png;base64,\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\" y=\"-21.487936\"/>\n   </g>\n   <g id=\"patch_13\">\n    <path d=\"M 162.307547 85.487936 \nL 162.307547 22.318125 \n\" style=\"fill:none;stroke:#000000;stroke-linecap:square;stroke-linejoin:miter;stroke-width:0.8;\"/>\n   </g>\n   <g id=\"patch_14\">\n    <path d=\"M 225.477358 85.487936 \nL 225.477358 22.318125 \n\" style=\"fill:none;stroke:#000000;stroke-linecap:square;stroke-linejoin:miter;stroke-width:0.8;\"/>\n   </g>\n   <g id=\"patch_15\">\n    <path d=\"M 162.307547 85.487936 \nL 225.477358 85.487936 \n\" style=\"fill:none;stroke:#000000;stroke-linecap:square;stroke-linejoin:miter;stroke-width:0.8;\"/>\n   </g>\n   <g id=\"patch_16\">\n    <path d=\"M 162.307547 22.318125 \nL 225.477358 22.318125 \n\" style=\"fill:none;stroke:#000000;stroke-linecap:square;stroke-linejoin:miter;stroke-width:0.8;\"/>\n   </g>\n   <g id=\"text_3\">\n    <!-- shirt -->\n    <defs>\n     <path d=\"M 44.28125 53.078125 \nL 44.28125 44.578125 \nQ 40.484375 46.53125 36.375 47.5 \nQ 32.28125 48.484375 27.875 48.484375 \nQ 21.1875 48.484375 17.84375 46.4375 \nQ 14.5 44.390625 14.5 40.28125 \nQ 14.5 37.15625 16.890625 35.375 \nQ 19.28125 33.59375 26.515625 31.984375 \nL 29.59375 31.296875 \nQ 39.15625 29.25 43.1875 25.515625 \nQ 47.21875 21.78125 47.21875 15.09375 \nQ 47.21875 7.46875 41.1875 3.015625 \nQ 35.15625 -1.421875 24.609375 -1.421875 \nQ 20.21875 -1.421875 15.453125 -0.5625 \nQ 10.6875 0.296875 5.421875 2 \nL 5.421875 11.28125 \nQ 10.40625 8.6875 15.234375 7.390625 \nQ 20.0625 6.109375 24.8125 6.109375 \nQ 31.15625 6.109375 34.5625 8.28125 \nQ 37.984375 10.453125 37.984375 14.40625 \nQ 37.984375 18.0625 35.515625 20.015625 \nQ 33.0625 21.96875 24.703125 23.78125 \nL 21.578125 24.515625 \nQ 13.234375 26.265625 9.515625 29.90625 \nQ 5.8125 33.546875 5.8125 39.890625 \nQ 5.8125 47.609375 11.28125 51.796875 \nQ 16.75 56 26.8125 56 \nQ 31.78125 56 36.171875 55.265625 \nQ 40.578125 54.546875 44.28125 53.078125 \nz\n\" id=\"DejaVuSans-115\"/>\n     <path d=\"M 54.890625 33.015625 \nL 54.890625 0 \nL 45.90625 0 \nL 45.90625 32.71875 \nQ 45.90625 40.484375 42.875 44.328125 \nQ 39.84375 48.1875 33.796875 48.1875 \nQ 26.515625 48.1875 22.3125 43.546875 \nQ 18.109375 38.921875 18.109375 30.90625 \nL 18.109375 0 \nL 9.078125 0 \nL 9.078125 75.984375 \nL 18.109375 75.984375 \nL 18.109375 46.1875 \nQ 21.34375 51.125 25.703125 53.5625 \nQ 30.078125 56 35.796875 56 \nQ 45.21875 56 50.046875 50.171875 \nQ 54.890625 44.34375 54.890625 33.015625 \nz\n\" id=\"DejaVuSans-104\"/>\n     <path d=\"M 9.421875 54.6875 \nL 18.40625 54.6875 \nL 18.40625 0 \nL 9.421875 0 \nz\nM 9.421875 75.984375 \nL 18.40625 75.984375 \nL 18.40625 64.59375 \nL 9.421875 64.59375 \nz\n\" id=\"DejaVuSans-105\"/>\n    </defs>\n    <g transform=\"translate(180.478703 16.318125)scale(0.12 -0.12)\">\n     <use xlink:href=\"#DejaVuSans-115\"/>\n     <use x=\"52.099609\" xlink:href=\"#DejaVuSans-104\"/>\n     <use x=\"115.478516\" xlink:href=\"#DejaVuSans-105\"/>\n     <use x=\"143.261719\" xlink:href=\"#DejaVuSans-114\"/>\n     <use x=\"184.375\" xlink:href=\"#DejaVuSans-116\"/>\n    </g>\n   </g>\n  </g>\n  <g id=\"axes_4\">\n   <g id=\"patch_17\">\n    <path d=\"M 238.111321 85.487936 \nL 301.281132 85.487936 \nL 301.281132 22.318125 \nL 238.111321 22.318125 \nz\n\" style=\"fill:#ffffff;\"/>\n   </g>\n   <g clip-path=\"url(#pa4b653f542)\">\n    <image height=\"64\" id=\"image753ca3a0df\" transform=\"scale(1 -1)translate(0 -64)\" width=\"64\" x=\"238.111321\" xlink:href=\"data:image/png;base64,\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\" y=\"-21.487936\"/>\n   </g>\n   <g id=\"patch_18\">\n    <path d=\"M 238.111321 85.487936 \nL 238.111321 22.318125 \n\" style=\"fill:none;stroke:#000000;stroke-linecap:square;stroke-linejoin:miter;stroke-width:0.8;\"/>\n   </g>\n   <g id=\"patch_19\">\n    <path d=\"M 301.281132 85.487936 \nL 301.281132 22.318125 \n\" style=\"fill:none;stroke:#000000;stroke-linecap:square;stroke-linejoin:miter;stroke-width:0.8;\"/>\n   </g>\n   <g id=\"patch_20\">\n    <path d=\"M 238.111321 85.487936 \nL 301.281132 85.487936 \n\" style=\"fill:none;stroke:#000000;stroke-linecap:square;stroke-linejoin:miter;stroke-width:0.8;\"/>\n   </g>\n   <g id=\"patch_21\">\n    <path d=\"M 238.111321 22.318125 \nL 301.281132 22.318125 \n\" style=\"fill:none;stroke:#000000;stroke-linecap:square;stroke-linejoin:miter;stroke-width:0.8;\"/>\n   </g>\n   <g id=\"text_4\">\n    <!-- t-shirt -->\n    <defs>\n     <path d=\"M 4.890625 31.390625 \nL 31.203125 31.390625 \nL 31.203125 23.390625 \nL 4.890625 23.390625 \nz\n\" id=\"DejaVuSans-45\"/>\n    </defs>\n    <g transform=\"translate(251.765601 16.318125)scale(0.12 -0.12)\">\n     <use xlink:href=\"#DejaVuSans-116\"/>\n     <use x=\"39.208984\" xlink:href=\"#DejaVuSans-45\"/>\n     <use x=\"75.292969\" xlink:href=\"#DejaVuSans-115\"/>\n     <use x=\"127.392578\" xlink:href=\"#DejaVuSans-104\"/>\n     <use x=\"190.771484\" xlink:href=\"#DejaVuSans-105\"/>\n     <use x=\"218.554688\" xlink:href=\"#DejaVuSans-114\"/>\n     <use x=\"259.667969\" xlink:href=\"#DejaVuSans-116\"/>\n    </g>\n   </g>\n  </g>\n  <g id=\"axes_5\">\n   <g id=\"patch_22\">\n    <path d=\"M 313.915094 85.487936 \nL 377.084906 85.487936 \nL 377.084906 22.318125 \nL 313.915094 22.318125 \nz\n\" style=\"fill:#ffffff;\"/>\n   </g>\n   <g clip-path=\"url(#pa57ecb8c21)\">\n    <image height=\"64\" id=\"imagefd0bd3ca64\" transform=\"scale(1 -1)translate(0 -64)\" width=\"64\" x=\"313.915094\" xlink:href=\"data:image/png;base64,\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\" y=\"-21.487936\"/>\n   </g>\n   <g id=\"patch_23\">\n    <path d=\"M 313.915094 85.487936 \nL 313.915094 22.318125 \n\" style=\"fill:none;stroke:#000000;stroke-linecap:square;stroke-linejoin:miter;stroke-width:0.8;\"/>\n   </g>\n   <g id=\"patch_24\">\n    <path d=\"M 377.084906 85.487936 \nL 377.084906 22.318125 \n\" style=\"fill:none;stroke:#000000;stroke-linecap:square;stroke-linejoin:miter;stroke-width:0.8;\"/>\n   </g>\n   <g id=\"patch_25\">\n    <path d=\"M 313.915094 85.487936 \nL 377.084906 85.487936 \n\" style=\"fill:none;stroke:#000000;stroke-linecap:square;stroke-linejoin:miter;stroke-width:0.8;\"/>\n   </g>\n   <g id=\"patch_26\">\n    <path d=\"M 313.915094 22.318125 \nL 377.084906 22.318125 \n\" style=\"fill:none;stroke:#000000;stroke-linecap:square;stroke-linejoin:miter;stroke-width:0.8;\"/>\n   </g>\n   <g id=\"text_5\">\n    <!-- dress -->\n    <defs>\n     <path d=\"M 45.40625 46.390625 \nL 45.40625 75.984375 \nL 54.390625 75.984375 \nL 54.390625 0 \nL 45.40625 0 \nL 45.40625 8.203125 \nQ 42.578125 3.328125 38.25 0.953125 \nQ 33.9375 -1.421875 27.875 -1.421875 \nQ 17.96875 -1.421875 11.734375 6.484375 \nQ 5.515625 14.40625 5.515625 27.296875 \nQ 5.515625 40.1875 11.734375 48.09375 \nQ 17.96875 56 27.875 56 \nQ 33.9375 56 38.25 53.625 \nQ 42.578125 51.265625 45.40625 46.390625 \nz\nM 14.796875 27.296875 \nQ 14.796875 17.390625 18.875 11.75 \nQ 22.953125 6.109375 30.078125 6.109375 \nQ 37.203125 6.109375 41.296875 11.75 \nQ 45.40625 17.390625 45.40625 27.296875 \nQ 45.40625 37.203125 41.296875 42.84375 \nQ 37.203125 48.484375 30.078125 48.484375 \nQ 22.953125 48.484375 18.875 42.84375 \nQ 14.796875 37.203125 14.796875 27.296875 \nz\n\" id=\"DejaVuSans-100\"/>\n    </defs>\n    <g transform=\"translate(329.283125 16.318125)scale(0.12 -0.12)\">\n     <use xlink:href=\"#DejaVuSans-100\"/>\n     <use x=\"63.476562\" xlink:href=\"#DejaVuSans-114\"/>\n     <use x=\"104.558594\" xlink:href=\"#DejaVuSans-101\"/>\n     <use x=\"166.082031\" xlink:href=\"#DejaVuSans-115\"/>\n     <use x=\"218.181641\" xlink:href=\"#DejaVuSans-115\"/>\n    </g>\n   </g>\n  </g>\n  <g id=\"axes_6\">\n   <g id=\"patch_27\">\n    <path d=\"M 389.718868 85.487936 \nL 452.888679 85.487936 \nL 452.888679 22.318125 \nL 389.718868 22.318125 \nz\n\" style=\"fill:#ffffff;\"/>\n   </g>\n   <g clip-path=\"url(#pb473c3973c)\">\n    <image height=\"64\" id=\"image9e5979cdf4\" transform=\"scale(1 -1)translate(0 -64)\" width=\"64\" x=\"389.718868\" xlink:href=\"data:image/png;base64,\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\" y=\"-21.487936\"/>\n   </g>\n   <g id=\"patch_28\">\n    <path d=\"M 389.718868 85.487936 \nL 389.718868 22.318125 \n\" style=\"fill:none;stroke:#000000;stroke-linecap:square;stroke-linejoin:miter;stroke-width:0.8;\"/>\n   </g>\n   <g id=\"patch_29\">\n    <path d=\"M 452.888679 85.487936 \nL 452.888679 22.318125 \n\" style=\"fill:none;stroke:#000000;stroke-linecap:square;stroke-linejoin:miter;stroke-width:0.8;\"/>\n   </g>\n   <g id=\"patch_30\">\n    <path d=\"M 389.718868 85.487936 \nL 452.888679 85.487936 \n\" style=\"fill:none;stroke:#000000;stroke-linecap:square;stroke-linejoin:miter;stroke-width:0.8;\"/>\n   </g>\n   <g id=\"patch_31\">\n    <path d=\"M 389.718868 22.318125 \nL 452.888679 22.318125 \n\" style=\"fill:none;stroke:#000000;stroke-linecap:square;stroke-linejoin:miter;stroke-width:0.8;\"/>\n   </g>\n   <g id=\"text_6\">\n    <!-- coat -->\n    <defs>\n     <path d=\"M 48.78125 52.59375 \nL 48.78125 44.1875 \nQ 44.96875 46.296875 41.140625 47.34375 \nQ 37.3125 48.390625 33.40625 48.390625 \nQ 24.65625 48.390625 19.8125 42.84375 \nQ 14.984375 37.3125 14.984375 27.296875 \nQ 14.984375 17.28125 19.8125 11.734375 \nQ 24.65625 6.203125 33.40625 6.203125 \nQ 37.3125 6.203125 41.140625 7.25 \nQ 44.96875 8.296875 48.78125 10.40625 \nL 48.78125 2.09375 \nQ 45.015625 0.34375 40.984375 -0.53125 \nQ 36.96875 -1.421875 32.421875 -1.421875 \nQ 20.0625 -1.421875 12.78125 6.34375 \nQ 5.515625 14.109375 5.515625 27.296875 \nQ 5.515625 40.671875 12.859375 48.328125 \nQ 20.21875 56 33.015625 56 \nQ 37.15625 56 41.109375 55.140625 \nQ 45.0625 54.296875 48.78125 52.59375 \nz\n\" id=\"DejaVuSans-99\"/>\n    </defs>\n    <g transform=\"translate(408.304399 16.318125)scale(0.12 -0.12)\">\n     <use xlink:href=\"#DejaVuSans-99\"/>\n     <use x=\"54.980469\" xlink:href=\"#DejaVuSans-111\"/>\n     <use x=\"116.162109\" xlink:href=\"#DejaVuSans-97\"/>\n     <use x=\"177.441406\" xlink:href=\"#DejaVuSans-116\"/>\n    </g>\n   </g>\n  </g>\n  <g id=\"axes_7\">\n   <g id=\"patch_32\">\n    <path d=\"M 465.522642 85.487936 \nL 528.692453 85.487936 \nL 528.692453 22.318125 \nL 465.522642 22.318125 \nz\n\" style=\"fill:#ffffff;\"/>\n   </g>\n   <g clip-path=\"url(#p3fe64da63a)\">\n    <image height=\"64\" id=\"image00874feb18\" transform=\"scale(1 -1)translate(0 -64)\" width=\"64\" x=\"465.522642\" xlink:href=\"data:image/png;base64,\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\" y=\"-21.487936\"/>\n   </g>\n   <g id=\"patch_33\">\n    <path d=\"M 465.522642 85.487936 \nL 465.522642 22.318125 \n\" style=\"fill:none;stroke:#000000;stroke-linecap:square;stroke-linejoin:miter;stroke-width:0.8;\"/>\n   </g>\n   <g id=\"patch_34\">\n    <path d=\"M 528.692453 85.487936 \nL 528.692453 22.318125 \n\" style=\"fill:none;stroke:#000000;stroke-linecap:square;stroke-linejoin:miter;stroke-width:0.8;\"/>\n   </g>\n   <g id=\"patch_35\">\n    <path d=\"M 465.522642 85.487936 \nL 528.692453 85.487936 \n\" style=\"fill:none;stroke:#000000;stroke-linecap:square;stroke-linejoin:miter;stroke-width:0.8;\"/>\n   </g>\n   <g id=\"patch_36\">\n    <path d=\"M 465.522642 22.318125 \nL 528.692453 22.318125 \n\" style=\"fill:none;stroke:#000000;stroke-linecap:square;stroke-linejoin:miter;stroke-width:0.8;\"/>\n   </g>\n   <g id=\"text_7\">\n    <!-- coat -->\n    <g transform=\"translate(484.108172 16.318125)scale(0.12 -0.12)\">\n     <use xlink:href=\"#DejaVuSans-99\"/>\n     <use x=\"54.980469\" xlink:href=\"#DejaVuSans-111\"/>\n     <use x=\"116.162109\" xlink:href=\"#DejaVuSans-97\"/>\n     <use x=\"177.441406\" xlink:href=\"#DejaVuSans-116\"/>\n    </g>\n   </g>\n  </g>\n  <g id=\"axes_8\">\n   <g id=\"patch_37\">\n    <path d=\"M 541.326415 85.487936 \nL 604.496226 85.487936 \nL 604.496226 22.318125 \nL 541.326415 22.318125 \nz\n\" style=\"fill:#ffffff;\"/>\n   </g>\n   <g clip-path=\"url(#p912d19c856)\">\n    <image height=\"64\" id=\"imageac79e5b989\" transform=\"scale(1 -1)translate(0 -64)\" width=\"64\" x=\"541.326415\" xlink:href=\"data:image/png;base64,\niVBORw0KGgoAAAANSUhEUgAAAEAAAABACAYAAACqaXHeAAAABHNCSVQICAgIfAhkiAAAAy1JREFUeJztmt1LFFEYh5+Z3TUtFcMs0jLTyqAPgrIghKg0CCQJlLoIBMnow8CbILqIbqMiKqGgbqIu+geKKMIuRC/UkhQyMvtC2/wAE1LXdXe6OOvZ1TVaUXmhOb+bOTvnnfM++5v3zJmdHavEqnBwsWxpAGkZA6QBpGUMkAaQljFAGkBaxgBpAGkZA6QBpGUMkAaQljFAGkBaxgBpAGkZA6QBpGUMkAaQlusN8E41PJsK9M7x3AwAgmmq2w6qJ+dJwxM6ZmhbyrSBQsmWbtsBtXU8iYPYk9Gn8/bE9OMzO0YV7Mi4juk9lAnA72x1nHcsZjBHsVghpm0nU6M51jQEVa7EEf9Pea1dWwEYLkjVO8M+tV3eOQKAv1hVREb5Tx2TVdoOgGdLIQCOFa0Ay4k4HYicSjveZ2fpEpUrWVWZFYqenbBPxVvN7wD4eGs3AD0VD3VMbe8eALpPbQBgoChd93kCToRjes6QL9pO6R5UaHFkLpM1l7/GLve80e3z184BkHW3eeGpIvKuW6tyvXoBwLPh7brvw67gguRwfQW43gCrxK6MXDFivAiHZg0eL9ut26sufgLg7OoGAKqf1ui+zbf7AQh1f/57ZnvGGhmT05uXq8Z88RqAfSk/AKgqPq5jJr9+//fYTlh9TFFLdng8EJfPVMB83w/w5ucB4C9drfd5jqglpnp9EwD1D8sByLnalNCYha1qvUr3qhufzl/ZANStealjvgRXAHDjQQUA2dcTG3umTAUkVAFTNzkJXCdiFThcBEBflZp7l3Y8132Pz5QBkNSp5vLIozTdtzFjAAD/yRyVqrNLjXNhr465c/oeAMmWWg5bxvJ13822gwAU3Fdfzff+GwChwaE4RtdXgOsNmPdFcC7TY/ToHt0+cKURgCddOwGoLHyr+1prdgDgtHQkjNFfG50ey8r8APT1q98wbfvrAThRfEzHTC2jpgIW5TW5mVURuSHBiU/lr1NnbmXrqN5nN7YvDs8s+U0FmBclXS5jgDSAtIwB0gDSMgZIA0jLGCANIC1jgDSAtIwB0gDSMgZIA0jLGCANIC1jgDSAtIwB0gDScr0BfwAKa8QTdJjnGQAAAABJRU5ErkJggg==\" y=\"-21.487936\"/>\n   </g>\n   <g id=\"patch_38\">\n    <path d=\"M 541.326415 85.487936 \nL 541.326415 22.318125 \n\" style=\"fill:none;stroke:#000000;stroke-linecap:square;stroke-linejoin:miter;stroke-width:0.8;\"/>\n   </g>\n   <g id=\"patch_39\">\n    <path d=\"M 604.496226 85.487936 \nL 604.496226 22.318125 \n\" style=\"fill:none;stroke:#000000;stroke-linecap:square;stroke-linejoin:miter;stroke-width:0.8;\"/>\n   </g>\n   <g id=\"patch_40\">\n    <path d=\"M 541.326415 85.487936 \nL 604.496226 85.487936 \n\" style=\"fill:none;stroke:#000000;stroke-linecap:square;stroke-linejoin:miter;stroke-width:0.8;\"/>\n   </g>\n   <g id=\"patch_41\">\n    <path d=\"M 541.326415 22.318125 \nL 604.496226 22.318125 \n\" style=\"fill:none;stroke:#000000;stroke-linecap:square;stroke-linejoin:miter;stroke-width:0.8;\"/>\n   </g>\n   <g id=\"text_8\">\n    <!-- sandal -->\n    <g transform=\"translate(553.153508 16.318125)scale(0.12 -0.12)\">\n     <use xlink:href=\"#DejaVuSans-115\"/>\n     <use x=\"52.099609\" xlink:href=\"#DejaVuSans-97\"/>\n     <use x=\"113.378906\" xlink:href=\"#DejaVuSans-110\"/>\n     <use x=\"176.757812\" xlink:href=\"#DejaVuSans-100\"/>\n     <use x=\"240.234375\" xlink:href=\"#DejaVuSans-97\"/>\n     <use x=\"301.513672\" xlink:href=\"#DejaVuSans-108\"/>\n    </g>\n   </g>\n  </g>\n  <g id=\"axes_9\">\n   <g id=\"patch_42\">\n    <path d=\"M 617.130189 85.487936 \nL 680.3 85.487936 \nL 680.3 22.318125 \nL 617.130189 22.318125 \nz\n\" style=\"fill:#ffffff;\"/>\n   </g>\n   <g clip-path=\"url(#p4520ae91ff)\">\n    <image height=\"64\" id=\"image51f14887fc\" transform=\"scale(1 -1)translate(0 -64)\" width=\"64\" x=\"617.130189\" xlink:href=\"data:image/png;base64,\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\" y=\"-21.487936\"/>\n   </g>\n   <g id=\"patch_43\">\n    <path d=\"M 617.130189 85.487936 \nL 617.130189 22.318125 \n\" style=\"fill:none;stroke:#000000;stroke-linecap:square;stroke-linejoin:miter;stroke-width:0.8;\"/>\n   </g>\n   <g id=\"patch_44\">\n    <path d=\"M 680.3 85.487936 \nL 680.3 22.318125 \n\" style=\"fill:none;stroke:#000000;stroke-linecap:square;stroke-linejoin:miter;stroke-width:0.8;\"/>\n   </g>\n   <g id=\"patch_45\">\n    <path d=\"M 617.130189 85.487936 \nL 680.3 85.487936 \n\" style=\"fill:none;stroke:#000000;stroke-linecap:square;stroke-linejoin:miter;stroke-width:0.8;\"/>\n   </g>\n   <g id=\"patch_46\">\n    <path d=\"M 617.130189 22.318125 \nL 680.3 22.318125 \n\" style=\"fill:none;stroke:#000000;stroke-linecap:square;stroke-linejoin:miter;stroke-width:0.8;\"/>\n   </g>\n   <g id=\"text_9\">\n    <!-- coat -->\n    <g transform=\"translate(635.715719 16.318125)scale(0.12 -0.12)\">\n     <use xlink:href=\"#DejaVuSans-99\"/>\n     <use x=\"54.980469\" xlink:href=\"#DejaVuSans-111\"/>\n     <use x=\"116.162109\" xlink:href=\"#DejaVuSans-97\"/>\n     <use x=\"177.441406\" xlink:href=\"#DejaVuSans-116\"/>\n    </g>\n   </g>\n  </g>\n </g>\n <defs>\n  <clipPath id=\"p2221dfb117\">\n   <rect height=\"63.169811\" width=\"63.169811\" x=\"10.7\" y=\"22.318125\"/>\n  </clipPath>\n  <clipPath id=\"p1d1d22e20d\">\n   <rect height=\"63.169811\" width=\"63.169811\" x=\"86.503774\" y=\"22.318125\"/>\n  </clipPath>\n  <clipPath id=\"pf864bcf9f8\">\n   <rect height=\"63.169811\" width=\"63.169811\" x=\"162.307547\" y=\"22.318125\"/>\n  </clipPath>\n  <clipPath id=\"pa4b653f542\">\n   <rect height=\"63.169811\" width=\"63.169811\" x=\"238.111321\" y=\"22.318125\"/>\n  </clipPath>\n  <clipPath id=\"pa57ecb8c21\">\n   <rect height=\"63.169811\" width=\"63.169811\" x=\"313.915094\" y=\"22.318125\"/>\n  </clipPath>\n  <clipPath id=\"pb473c3973c\">\n   <rect height=\"63.169811\" width=\"63.169811\" x=\"389.718868\" y=\"22.318125\"/>\n  </clipPath>\n  <clipPath id=\"p3fe64da63a\">\n   <rect height=\"63.169811\" width=\"63.169811\" x=\"465.522642\" y=\"22.318125\"/>\n  </clipPath>\n  <clipPath id=\"p912d19c856\">\n   <rect height=\"63.169811\" width=\"63.169811\" x=\"541.326415\" y=\"22.318125\"/>\n  </clipPath>\n  <clipPath id=\"p4520ae91ff\">\n   <rect height=\"63.169811\" width=\"63.169811\" x=\"617.130189\" y=\"22.318125\"/>\n  </clipPath>\n </defs>\n</svg>\n"
          },
          "metadata": {
            "tags": []
          }
        }
      ]
    },
    {
      "cell_type": "code",
      "metadata": {
        "id": "EUsbcrEUMD2S",
        "colab_type": "code",
        "colab": {}
      },
      "source": [
        "import os\n",
        "from mxnet.gluon import data as gdata\n",
        "\n",
        "def load_data_fashion_mnist(batch_size, resize=None, root=os.path.join(\n",
        "        '~', '.mxnet', 'datasets', 'fashion-mnist')):\n",
        "    \"\"\"Download the fashion mnist dataset and then load into memory.\"\"\"\n",
        "    root = os.path.expanduser(root)\n",
        "    transformer = []\n",
        "    if resize:\n",
        "        transformer += [gdata.vision.transforms.Resize(resize)]\n",
        "    transformer += [gdata.vision.transforms.ToTensor()]\n",
        "    transformer = gdata.vision.transforms.Compose(transformer)\n",
        "\n",
        "    mnist_train = gdata.vision.FashionMNIST(root=root, train=True)\n",
        "    mnist_test = gdata.vision.FashionMNIST(root=root, train=False)\n",
        "    num_workers = 0 if sys.platform.startswith('win32') else 2\n",
        "\n",
        "    train_iter = gdata.DataLoader(mnist_train.transform_first(transformer),\n",
        "                                  batch_size, shuffle=True,\n",
        "                                  num_workers=num_workers)\n",
        "    test_iter = gdata.DataLoader(mnist_test.transform_first(transformer),\n",
        "                                 batch_size, shuffle=False,\n",
        "                                 num_workers=num_workers)\n",
        "    return train_iter, test_iter"
      ],
      "execution_count": 0,
      "outputs": []
    },
    {
      "cell_type": "code",
      "metadata": {
        "id": "ALtJ5BZvMf30",
        "colab_type": "code",
        "outputId": "4b5225e5-bff8-4781-f0ff-6bb96a26289f",
        "colab": {
          "base_uri": "https://localhost:8080/",
          "height": 34
        }
      },
      "source": [
        "# 读取训练数据所需的时间\n",
        "import time\n",
        "\n",
        "batch_size = 256\n",
        "train_iter, test_iter = load_data_fashion_mnist(batch_size) \n",
        "start = time.time()\n",
        "for X, y in train_iter :\n",
        "  continue\n",
        "'%.2f sec' % (time.time() - start)"
      ],
      "execution_count": 28,
      "outputs": [
        {
          "output_type": "execute_result",
          "data": {
            "text/plain": [
              "'3.61 sec'"
            ]
          },
          "metadata": {
            "tags": []
          },
          "execution_count": 28
        }
      ]
    },
    {
      "cell_type": "code",
      "metadata": {
        "id": "qo5M-bVAPmop",
        "colab_type": "code",
        "outputId": "6a2a3e20-428c-470c-8a90-57cf946d33ca",
        "colab": {
          "base_uri": "https://localhost:8080/",
          "height": 34
        }
      },
      "source": [
        "for X, y in train_iter :\n",
        "  print(X.shape, y.shape) \n",
        "  break;"
      ],
      "execution_count": 29,
      "outputs": [
        {
          "output_type": "stream",
          "text": [
            "(256, 1, 28, 28) (256,)\n"
          ],
          "name": "stdout"
        }
      ]
    },
    {
      "cell_type": "code",
      "metadata": {
        "id": "xbthW9WPNHKR",
        "colab_type": "code",
        "colab": {}
      },
      "source": [
        "##############################################################################################\n",
        "######## Sect. 3.6 Below #################################################################\n",
        "##############################################################################################"
      ],
      "execution_count": 0,
      "outputs": []
    },
    {
      "cell_type": "code",
      "metadata": {
        "id": "HIQJJfGINPOM",
        "colab_type": "code",
        "colab": {}
      },
      "source": [
        "import sys\n",
        "import os \n",
        "import time\n",
        "\n",
        "# 读取数据集\n",
        "batch_size = 256\n",
        "train_iter, test_iter = load_data_fashion_mnist(batch_size) \n",
        "\n",
        "# 初始化模型参数\n",
        "num_inputs = 784\n",
        "num_outputs = 10\n",
        "W = nd.random.normal(scale=0.01, shape=(num_inputs, num_outputs))\n",
        "b = nd.zeros(num_outputs)\n",
        "W.attach_grad()\n",
        "b.attach_grad()"
      ],
      "execution_count": 0,
      "outputs": []
    },
    {
      "cell_type": "code",
      "metadata": {
        "id": "d5CQife2Xz0c",
        "colab_type": "code",
        "colab": {
          "base_uri": "https://localhost:8080/",
          "height": 269
        },
        "outputId": "8fd22e51-f400-42ab-e5bd-fa3765d6275b"
      },
      "source": [
        "W"
      ],
      "execution_count": 32,
      "outputs": [
        {
          "output_type": "execute_result",
          "data": {
            "text/plain": [
              "\n",
              "[[-4.83627617e-03 -9.21402965e-03  2.53837602e-03 ... -5.89813571e-03\n",
              "   8.10974371e-03 -5.23070898e-03]\n",
              " [ 1.12914741e-02  3.92688438e-04  1.65568630e-03 ... -6.34230115e-03\n",
              "  -1.22258335e-03  5.42999804e-03]\n",
              " [-9.46935173e-03  5.96433040e-03  7.90703669e-03 ... -1.79335214e-02\n",
              "  -3.69663117e-03  1.65157970e-02]\n",
              " ...\n",
              " [ 7.16084335e-03 -1.48858363e-02  1.59336086e-02 ...  6.20343257e-03\n",
              "   6.53620530e-03 -3.52914026e-03]\n",
              " [-2.51065241e-03  1.38896573e-02 -1.53285675e-02 ... -2.01650523e-02\n",
              "  -9.52582434e-03  2.50978395e-03]\n",
              " [-1.18692117e-02  1.19075924e-03  4.90005547e-03 ...  4.05345066e-03\n",
              "   1.36841787e-03 -4.33261557e-05]]\n",
              "<NDArray 784x10 @cpu(0)>"
            ]
          },
          "metadata": {
            "tags": []
          },
          "execution_count": 32
        }
      ]
    },
    {
      "cell_type": "code",
      "metadata": {
        "id": "-HEt1cyxNxwX",
        "colab_type": "code",
        "colab": {}
      },
      "source": [
        "# 实现softmax运算\n",
        "def softmax(X) : \n",
        "  X_exp = X.exp()\n",
        "  partition = X_exp.sum(axis=1, keepdims=True)\n",
        "  return X_exp / partition\n"
      ],
      "execution_count": 0,
      "outputs": []
    },
    {
      "cell_type": "code",
      "metadata": {
        "id": "-7f8efXzPCq7",
        "colab_type": "code",
        "colab": {}
      },
      "source": [
        "# 定义模型\n",
        "def net(X) :\n",
        "  return softmax(nd.dot(X.reshape((-1, num_inputs)), W) + b)"
      ],
      "execution_count": 0,
      "outputs": []
    },
    {
      "cell_type": "code",
      "metadata": {
        "id": "t1rJyCL9Pl0z",
        "colab_type": "code",
        "colab": {}
      },
      "source": [
        "# 定义损失函数\n",
        "def cross_entropy(y_hat, y) :\n",
        "  return -nd.pick(y_hat, y).log()"
      ],
      "execution_count": 0,
      "outputs": []
    },
    {
      "cell_type": "code",
      "metadata": {
        "id": "tDDsMQ6TTV4w",
        "colab_type": "code",
        "colab": {}
      },
      "source": [
        "# 计算分类准确率\n",
        "def evaluate_accuracy(data_iter, net) : \n",
        "  acc_sum, n = 0.0, 0\n",
        "  for X, y in data_iter : \n",
        "    y = y.astype('float32')\n",
        "    acc_sum += (net(X).argmax(axis=1) == y).sum().asscalar()\n",
        "    n += y.size\n",
        "  return acc_sum / n"
      ],
      "execution_count": 0,
      "outputs": []
    },
    {
      "cell_type": "code",
      "metadata": {
        "id": "LM6OHCz7UPbk",
        "colab_type": "code",
        "colab": {}
      },
      "source": [
        "# 训练模型\n",
        "def train_ch3(net, train_iter, test_iter, loss, num_epochs, batch_size, params=None, lr=None, trainer=None) : \n",
        "  for epoch in range(num_epochs) : \n",
        "    train_l_sum, train_acc_sum, n = 0.0, 0.0, 0\n",
        "    for X, y in train_iter : \n",
        "      with autograd.record() : \n",
        "        y_hat = net(X)\n",
        "        l = loss(y_hat, y).sum()\n",
        "      l.backward()\n",
        "      if trainer is None: \n",
        "        sgd(params, lr, batch_size)\n",
        "      else :\n",
        "        trainer.step(batch_size)\n",
        "      y = y.astype('float32')\n",
        "      train_l_sum += l.asscalar()\n",
        "      train_acc_sum += (y_hat.argmax(axis=1) == y).sum().asscalar()\n",
        "      n += y.size\n",
        "    test_acc = evaluate_accuracy(test_iter, net)\n",
        "    print('epoch %d, loss %.4f, train_acc %.3f, test acc %.3f' % (epoch+1, train_l_sum / n, train_acc_sum / n, test_acc))"
      ],
      "execution_count": 0,
      "outputs": []
    },
    {
      "cell_type": "code",
      "metadata": {
        "id": "v0YOA0_zWO-U",
        "colab_type": "code",
        "outputId": "8ab29c9f-1351-4f1d-d210-7f1f088b5eb6",
        "colab": {
          "base_uri": "https://localhost:8080/",
          "height": 101
        }
      },
      "source": [
        "# 在MNIST_FASHION数据集上训练\n",
        "from mxnet import autograd\n",
        "\n",
        "num_epochs, lr = 5, 0.1\n",
        "train_ch3(net, train_iter, test_iter, cross_entropy, num_epochs, batch_size, [W,b], lr)"
      ],
      "execution_count": 38,
      "outputs": [
        {
          "output_type": "stream",
          "text": [
            "epoch 1, loss 0.7903, train_acc 0.744, test acc 0.796\n",
            "epoch 2, loss 0.5730, train_acc 0.810, test acc 0.823\n",
            "epoch 3, loss 0.5283, train_acc 0.824, test acc 0.831\n",
            "epoch 4, loss 0.5049, train_acc 0.831, test acc 0.838\n",
            "epoch 5, loss 0.4889, train_acc 0.834, test acc 0.838\n"
          ],
          "name": "stdout"
        }
      ]
    },
    {
      "cell_type": "code",
      "metadata": {
        "id": "4HKeWJmoT708",
        "colab_type": "code",
        "colab": {}
      },
      "source": [
        "###########################################################################################\n",
        "######### Sect. 3.7 Below #############################################################\n",
        "###########################################################################################"
      ],
      "execution_count": 0,
      "outputs": []
    },
    {
      "cell_type": "code",
      "metadata": {
        "id": "qI3xwrDNUP4u",
        "colab_type": "code",
        "colab": {
          "base_uri": "https://localhost:8080/",
          "height": 101
        },
        "outputId": "39ab14ea-5fb5-4649-ba58-14397d0328ea"
      },
      "source": [
        "from mxnet import gluon, init\n",
        "from mxnet.gluon import loss as gloss, nn\n",
        "\n",
        "# 读取数据集\n",
        "batch_size = 256\n",
        "train_iter, test_iter = load_data_fashion_mnist(batch_size)\n",
        "\n",
        "# 定义和初始化模型\n",
        "net = nn.Sequential()\n",
        "net.add(nn.Dense(10))\n",
        "net.initialize(init.Normal(sigma=0.01))\n",
        "\n",
        "# softmax和交叉熵函数\n",
        "loss = gloss.SoftmaxCrossEntropyLoss()\n",
        "\n",
        "# 定义优化算法\n",
        "trainer = gluon.Trainer(net.collect_params(), 'sgd', {'learning_rate': 0.1})\n",
        "\n",
        "# 训练模型\n",
        "num_epochs = 5\n",
        "train_ch3(net, train_iter, test_iter, loss, num_epochs, batch_size, None, None, trainer)"
      ],
      "execution_count": 40,
      "outputs": [
        {
          "output_type": "stream",
          "text": [
            "epoch 1, loss 0.7859, train_acc 0.750, test acc 0.807\n",
            "epoch 2, loss 0.5738, train_acc 0.812, test acc 0.822\n",
            "epoch 3, loss 0.5281, train_acc 0.824, test acc 0.828\n",
            "epoch 4, loss 0.5055, train_acc 0.831, test acc 0.837\n",
            "epoch 5, loss 0.4894, train_acc 0.834, test acc 0.842\n"
          ],
          "name": "stdout"
        }
      ]
    },
    {
      "cell_type": "code",
      "metadata": {
        "id": "TWb-dWhmV7F1",
        "colab_type": "code",
        "colab": {}
      },
      "source": [
        "#############################################################################################\n",
        "######## Sect. 3.9 Below ################################################################\n",
        "#############################################################################################"
      ],
      "execution_count": 0,
      "outputs": []
    },
    {
      "cell_type": "code",
      "metadata": {
        "id": "pE7re5VgWCQ1",
        "colab_type": "code",
        "colab": {
          "base_uri": "https://localhost:8080/",
          "height": 185
        },
        "outputId": "1d87a0b9-c522-41b5-ce07-258682cf11d4"
      },
      "source": [
        "# 多层感知机的从零开始实现\n",
        "from mxnet import nd\n",
        "from mxnet.gluon import loss as gloss, nn\n",
        "\n",
        "# 读取数据集\n",
        "batch_size = 256\n",
        "train_iter, test_iter = load_data_fashion_mnist(batch_size)\n",
        "\n",
        "# 定义模型参数\n",
        "num_inputs, num_outputs, num_hiddens = 784, 10, 64\n",
        "W1 = nd.random.normal(scale=0.01, shape=(num_inputs, num_hiddens))\n",
        "b1 = nd.zeros(num_hiddens)\n",
        "W2 = nd.random.normal(scale=0.01, shape=(num_hiddens, num_outputs))\n",
        "b2 = nd.zeros(num_outputs)\n",
        "params = [W1, b1, W2, b2]\n",
        "for param in params : \n",
        "  param.attach_grad()\n",
        "\n",
        "# 定义激活函数\n",
        "def relu(X) : \n",
        "  return nd.maximum(X, 0)\n",
        "\n",
        "# 定义模型\n",
        "def MLP(X) : \n",
        "  X = X.reshape((-1, num_inputs))\n",
        "  H = relu(nd.dot(X, W1) + b1)\n",
        "  return nd.dot(H, W2) + b2\n",
        "\n",
        "# 定义损失函数\n",
        "cross_entropy_loss = gloss.SoftmaxCrossEntropyLoss()\n",
        "\n",
        "# 训练模型\n",
        "num_epochs, lr = 10, 0.5\n",
        "train_ch3(MLP, train_iter, test_iter, cross_entropy_loss, num_epochs, batch_size, params, lr)"
      ],
      "execution_count": 42,
      "outputs": [
        {
          "output_type": "stream",
          "text": [
            "epoch 1, loss 0.8694, train_acc 0.675, test acc 0.821\n",
            "epoch 2, loss 0.5195, train_acc 0.808, test acc 0.825\n",
            "epoch 3, loss 0.4653, train_acc 0.828, test acc 0.854\n",
            "epoch 4, loss 0.4198, train_acc 0.845, test acc 0.860\n",
            "epoch 5, loss 0.4022, train_acc 0.852, test acc 0.862\n",
            "epoch 6, loss 0.3869, train_acc 0.858, test acc 0.869\n",
            "epoch 7, loss 0.3752, train_acc 0.863, test acc 0.872\n",
            "epoch 8, loss 0.3597, train_acc 0.867, test acc 0.870\n",
            "epoch 9, loss 0.3477, train_acc 0.872, test acc 0.877\n",
            "epoch 10, loss 0.3393, train_acc 0.876, test acc 0.878\n"
          ],
          "name": "stdout"
        }
      ]
    },
    {
      "cell_type": "code",
      "metadata": {
        "id": "OECurOMaZAm0",
        "colab_type": "code",
        "colab": {
          "base_uri": "https://localhost:8080/",
          "height": 185
        },
        "outputId": "4abee26d-319f-4303-c690-72197e4dddce"
      },
      "source": [
        "# 练习：增加一个隐藏层\n",
        "# 定义模型参数\n",
        "num_inputs, num_outputs, num_hiddens1, num_hiddens2 = 784, 10, 256, 64\n",
        "W1 = nd.random.normal(scale=0.01, shape=(num_inputs, num_hiddens1))\n",
        "b1 = nd.zeros(num_hiddens1)\n",
        "W2 = nd.random.normal(scale=0.01, shape=(num_hiddens1, num_hiddens2))\n",
        "b2 = nd.zeros(num_hiddens2)\n",
        "W3 = nd.random.normal(scale=0.01, shape=(num_hiddens2, num_outputs))\n",
        "b3 = nd.zeros(num_outputs)\n",
        "\n",
        "params = [W1, b1, W2, b2, W3, b3]\n",
        "for param in params : \n",
        "  param.attach_grad()\n",
        "\n",
        "# 定义模型\n",
        "def deep_MLP(X) : \n",
        "  X = X.reshape((-1, num_inputs))\n",
        "  H1 = relu(nd.dot(X, W1) + b1)\n",
        "  H2 = relu(nd.dot(H1, W2) + b2)\n",
        "  return nd.dot(H2, W3) + b3\n",
        "\n",
        "# 训练模型\n",
        "num_epochs, lr = 10, 0.5\n",
        "train_ch3(deep_MLP, train_iter, test_iter, cross_entropy_loss, num_epochs, batch_size, params, lr)"
      ],
      "execution_count": 43,
      "outputs": [
        {
          "output_type": "stream",
          "text": [
            "epoch 1, loss 1.2702, train_acc 0.500, test acc 0.770\n",
            "epoch 2, loss 0.6046, train_acc 0.769, test acc 0.830\n",
            "epoch 3, loss 0.4829, train_acc 0.820, test acc 0.839\n",
            "epoch 4, loss 0.4314, train_acc 0.838, test acc 0.861\n",
            "epoch 5, loss 0.4015, train_acc 0.850, test acc 0.862\n",
            "epoch 6, loss 0.3756, train_acc 0.861, test acc 0.866\n",
            "epoch 7, loss 0.3578, train_acc 0.867, test acc 0.868\n",
            "epoch 8, loss 0.3435, train_acc 0.872, test acc 0.856\n",
            "epoch 9, loss 0.3329, train_acc 0.877, test acc 0.877\n",
            "epoch 10, loss 0.3209, train_acc 0.881, test acc 0.876\n"
          ],
          "name": "stdout"
        }
      ]
    },
    {
      "cell_type": "code",
      "metadata": {
        "id": "5ssc1ItqfAXO",
        "colab_type": "code",
        "colab": {
          "base_uri": "https://localhost:8080/",
          "height": 67
        },
        "outputId": "0d3629fc-d9e9-4324-c62d-092a06341b34"
      },
      "source": [
        "for X, y in train_iter :\n",
        "  X = X.reshape((-1, num_inputs))\n",
        "  H1 = relu(nd.dot(X, W1) + b1)\n",
        "  print(H1.shape)\n",
        "  H2 = relu(nd.dot(H1, W2) + b2)\n",
        "  print(H2.shape)\n",
        "  O = nd.dot(H2, W3) + b3\n",
        "  print(O.shape)\n",
        "  break"
      ],
      "execution_count": 44,
      "outputs": [
        {
          "output_type": "stream",
          "text": [
            "(256, 256)\n",
            "(256, 64)\n",
            "(256, 10)\n"
          ],
          "name": "stdout"
        }
      ]
    },
    {
      "cell_type": "code",
      "metadata": {
        "id": "06fZeMEyaZ0z",
        "colab_type": "code",
        "colab": {}
      },
      "source": [
        "##################################################################################################\n",
        "########## Sect. 3.10 Below ##################################################################\n",
        "##################################################################################################"
      ],
      "execution_count": 0,
      "outputs": []
    },
    {
      "cell_type": "code",
      "metadata": {
        "id": "eeYAvC0hahs3",
        "colab_type": "code",
        "colab": {
          "base_uri": "https://localhost:8080/",
          "height": 185
        },
        "outputId": "8cef080c-fe77-4914-df3c-ff5a09b74e05"
      },
      "source": [
        "# 多层感知机的简洁实现\n",
        "from mxnet import gluon, init\n",
        "from mxnet.gluon import loss as gloss, nn\n",
        "\n",
        "# 定义模型\n",
        "mlp = nn.Sequential()\n",
        "mlp.add(nn.Dense(256, activation='relu'), nn.Dense(64, activation='relu'), nn.Dense(10))\n",
        "mlp.initialize(init.Normal(sigma=0.01))\n",
        "\n",
        "# 训练模型\n",
        "batch_size = 256\n",
        "train_iter, test_iter = load_data_fashion_mnist(batch_size)\n",
        "loss = gloss.SoftmaxCrossEntropyLoss()\n",
        "trainer = gluon.Trainer(mlp.collect_params(), 'sgd', {'learning_rate': 0.5})\n",
        "num_epochs = 10\n",
        "train_ch3(mlp, train_iter, test_iter, loss, num_epochs, batch_size, None, None, trainer)\n"
      ],
      "execution_count": 46,
      "outputs": [
        {
          "output_type": "stream",
          "text": [
            "epoch 1, loss 1.2038, train_acc 0.525, test acc 0.772\n",
            "epoch 2, loss 0.5650, train_acc 0.790, test acc 0.836\n",
            "epoch 3, loss 0.4645, train_acc 0.829, test acc 0.831\n",
            "epoch 4, loss 0.4234, train_acc 0.843, test acc 0.852\n",
            "epoch 5, loss 0.3882, train_acc 0.857, test acc 0.864\n",
            "epoch 6, loss 0.3639, train_acc 0.864, test acc 0.866\n",
            "epoch 7, loss 0.3506, train_acc 0.871, test acc 0.877\n",
            "epoch 8, loss 0.3347, train_acc 0.876, test acc 0.879\n",
            "epoch 9, loss 0.4944, train_acc 0.839, test acc 0.840\n",
            "epoch 10, loss 0.3944, train_acc 0.852, test acc 0.872\n"
          ],
          "name": "stdout"
        }
      ]
    }
  ]
}